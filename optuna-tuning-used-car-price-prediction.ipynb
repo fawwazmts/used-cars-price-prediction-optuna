{
 "cells": [
  {
   "cell_type": "code",
   "execution_count": 1,
   "metadata": {},
   "outputs": [
    {
     "name": "stderr",
     "output_type": "stream",
     "text": [
      "/opt/homebrew/anaconda3/envs/datascience-purwadhika/lib/python3.12/site-packages/tqdm/auto.py:21: TqdmWarning: IProgress not found. Please update jupyter and ipywidgets. See https://ipywidgets.readthedocs.io/en/stable/user_install.html\n",
      "  from .autonotebook import tqdm as notebook_tqdm\n"
     ]
    }
   ],
   "source": [
    "# Import necessary libraries for data manipulation and visualization\n",
    "import numpy as np\n",
    "import pandas as pd\n",
    "import seaborn as sns\n",
    "import matplotlib.pyplot as plt\n",
    "\n",
    "# Import libraries for train-test split and cross-validation\n",
    "from sklearn.model_selection import (\n",
    "    train_test_split, \n",
    "    KFold, \n",
    "    cross_validate,\n",
    "    cross_val_score\n",
    ")\n",
    "\n",
    "# Import pipeline and column transformer\n",
    "from sklearn.compose import ColumnTransformer\n",
    "from sklearn.pipeline import Pipeline\n",
    "\n",
    "# Import encoding techniques\n",
    "from sklearn.preprocessing import OneHotEncoder, RobustScaler\n",
    "from category_encoders import BinaryEncoder\n",
    "\n",
    "# Import regression models\n",
    "from sklearn.tree import DecisionTreeRegressor\n",
    "from sklearn.neighbors import KNeighborsRegressor\n",
    "from sklearn.linear_model import LinearRegression, Ridge, Lasso, ElasticNet\n",
    "from sklearn.ensemble import (\n",
    "    RandomForestRegressor, \n",
    "    AdaBoostRegressor, \n",
    "    GradientBoostingRegressor\n",
    ")\n",
    "from xgboost import XGBRegressor\n",
    "\n",
    "# Import metrics for model evaluation\n",
    "from sklearn.metrics import (\n",
    "    mean_squared_error, \n",
    "    mean_absolute_error, \n",
    "    mean_absolute_percentage_error\n",
    ")\n",
    "\n",
    "# Import Optuna for hyperparameter optimization\n",
    "import optuna\n",
    "from optuna import Trial, create_study"
   ]
  },
  {
   "cell_type": "markdown",
   "metadata": {},
   "source": [
    "## **1. Load Dataset**"
   ]
  },
  {
   "cell_type": "code",
   "execution_count": 2,
   "metadata": {},
   "outputs": [
    {
     "data": {
      "text/html": [
       "<div>\n",
       "<style scoped>\n",
       "    .dataframe tbody tr th:only-of-type {\n",
       "        vertical-align: middle;\n",
       "    }\n",
       "\n",
       "    .dataframe tbody tr th {\n",
       "        vertical-align: top;\n",
       "    }\n",
       "\n",
       "    .dataframe thead th {\n",
       "        text-align: right;\n",
       "    }\n",
       "</style>\n",
       "<table border=\"1\" class=\"dataframe\">\n",
       "  <thead>\n",
       "    <tr style=\"text-align: right;\">\n",
       "      <th></th>\n",
       "      <th>Type</th>\n",
       "      <th>Region</th>\n",
       "      <th>Make</th>\n",
       "      <th>Gear_Type</th>\n",
       "      <th>Origin</th>\n",
       "      <th>Options</th>\n",
       "      <th>Year</th>\n",
       "      <th>Engine_Size</th>\n",
       "      <th>Mileage</th>\n",
       "      <th>Price</th>\n",
       "    </tr>\n",
       "  </thead>\n",
       "  <tbody>\n",
       "    <tr>\n",
       "      <th>0</th>\n",
       "      <td>Range Rover</td>\n",
       "      <td>Riyadh</td>\n",
       "      <td>Land Rover</td>\n",
       "      <td>Automatic</td>\n",
       "      <td>Gulf Arabic</td>\n",
       "      <td>Full</td>\n",
       "      <td>2015</td>\n",
       "      <td>5.0</td>\n",
       "      <td>140000</td>\n",
       "      <td>260000</td>\n",
       "    </tr>\n",
       "    <tr>\n",
       "      <th>1</th>\n",
       "      <td>Optima</td>\n",
       "      <td>Hafar Al-Batin</td>\n",
       "      <td>Kia</td>\n",
       "      <td>Automatic</td>\n",
       "      <td>Saudi</td>\n",
       "      <td>Semi Full</td>\n",
       "      <td>2015</td>\n",
       "      <td>2.4</td>\n",
       "      <td>220000</td>\n",
       "      <td>42000</td>\n",
       "    </tr>\n",
       "    <tr>\n",
       "      <th>2</th>\n",
       "      <td>CX3</td>\n",
       "      <td>Abha</td>\n",
       "      <td>Mazda</td>\n",
       "      <td>Automatic</td>\n",
       "      <td>Saudi</td>\n",
       "      <td>Semi Full</td>\n",
       "      <td>2019</td>\n",
       "      <td>2.0</td>\n",
       "      <td>25000</td>\n",
       "      <td>58000</td>\n",
       "    </tr>\n",
       "    <tr>\n",
       "      <th>3</th>\n",
       "      <td>Cayenne S</td>\n",
       "      <td>Riyadh</td>\n",
       "      <td>Porsche</td>\n",
       "      <td>Automatic</td>\n",
       "      <td>Saudi</td>\n",
       "      <td>Full</td>\n",
       "      <td>2012</td>\n",
       "      <td>4.8</td>\n",
       "      <td>189000</td>\n",
       "      <td>85000</td>\n",
       "    </tr>\n",
       "    <tr>\n",
       "      <th>4</th>\n",
       "      <td>Sonata</td>\n",
       "      <td>Riyadh</td>\n",
       "      <td>Hyundai</td>\n",
       "      <td>Automatic</td>\n",
       "      <td>Saudi</td>\n",
       "      <td>Full</td>\n",
       "      <td>2016</td>\n",
       "      <td>2.4</td>\n",
       "      <td>155</td>\n",
       "      <td>48000</td>\n",
       "    </tr>\n",
       "    <tr>\n",
       "      <th>...</th>\n",
       "      <td>...</td>\n",
       "      <td>...</td>\n",
       "      <td>...</td>\n",
       "      <td>...</td>\n",
       "      <td>...</td>\n",
       "      <td>...</td>\n",
       "      <td>...</td>\n",
       "      <td>...</td>\n",
       "      <td>...</td>\n",
       "      <td>...</td>\n",
       "    </tr>\n",
       "    <tr>\n",
       "      <th>3649</th>\n",
       "      <td>CX9</td>\n",
       "      <td>Qassim</td>\n",
       "      <td>Mazda</td>\n",
       "      <td>Automatic</td>\n",
       "      <td>Saudi</td>\n",
       "      <td>Full</td>\n",
       "      <td>2020</td>\n",
       "      <td>2.0</td>\n",
       "      <td>9500</td>\n",
       "      <td>132000</td>\n",
       "    </tr>\n",
       "    <tr>\n",
       "      <th>3650</th>\n",
       "      <td>Suburban</td>\n",
       "      <td>Riyadh</td>\n",
       "      <td>GMC</td>\n",
       "      <td>Automatic</td>\n",
       "      <td>Saudi</td>\n",
       "      <td>Full</td>\n",
       "      <td>2006</td>\n",
       "      <td>5.3</td>\n",
       "      <td>86000</td>\n",
       "      <td>50000</td>\n",
       "    </tr>\n",
       "    <tr>\n",
       "      <th>3651</th>\n",
       "      <td>X-Trail</td>\n",
       "      <td>Jeddah</td>\n",
       "      <td>Nissan</td>\n",
       "      <td>Automatic</td>\n",
       "      <td>Saudi</td>\n",
       "      <td>Standard</td>\n",
       "      <td>2018</td>\n",
       "      <td>2.5</td>\n",
       "      <td>78794</td>\n",
       "      <td>68000</td>\n",
       "    </tr>\n",
       "    <tr>\n",
       "      <th>3652</th>\n",
       "      <td>Yukon</td>\n",
       "      <td>Dammam</td>\n",
       "      <td>GMC</td>\n",
       "      <td>Automatic</td>\n",
       "      <td>Saudi</td>\n",
       "      <td>Full</td>\n",
       "      <td>2016</td>\n",
       "      <td>5.3</td>\n",
       "      <td>48000</td>\n",
       "      <td>145000</td>\n",
       "    </tr>\n",
       "    <tr>\n",
       "      <th>3653</th>\n",
       "      <td>RX</td>\n",
       "      <td>Dammam</td>\n",
       "      <td>Lexus</td>\n",
       "      <td>Automatic</td>\n",
       "      <td>Gulf Arabic</td>\n",
       "      <td>Full</td>\n",
       "      <td>2016</td>\n",
       "      <td>2.5</td>\n",
       "      <td>81000</td>\n",
       "      <td>154000</td>\n",
       "    </tr>\n",
       "  </tbody>\n",
       "</table>\n",
       "<p>3654 rows × 10 columns</p>\n",
       "</div>"
      ],
      "text/plain": [
       "             Type          Region        Make  Gear_Type       Origin  \\\n",
       "0     Range Rover          Riyadh  Land Rover  Automatic  Gulf Arabic   \n",
       "1          Optima  Hafar Al-Batin         Kia  Automatic        Saudi   \n",
       "2             CX3            Abha       Mazda  Automatic        Saudi   \n",
       "3       Cayenne S          Riyadh     Porsche  Automatic        Saudi   \n",
       "4          Sonata          Riyadh     Hyundai  Automatic        Saudi   \n",
       "...           ...             ...         ...        ...          ...   \n",
       "3649          CX9          Qassim       Mazda  Automatic        Saudi   \n",
       "3650     Suburban          Riyadh         GMC  Automatic        Saudi   \n",
       "3651      X-Trail          Jeddah      Nissan  Automatic        Saudi   \n",
       "3652        Yukon          Dammam         GMC  Automatic        Saudi   \n",
       "3653           RX          Dammam       Lexus  Automatic  Gulf Arabic   \n",
       "\n",
       "        Options  Year  Engine_Size  Mileage   Price  \n",
       "0          Full  2015          5.0   140000  260000  \n",
       "1     Semi Full  2015          2.4   220000   42000  \n",
       "2     Semi Full  2019          2.0    25000   58000  \n",
       "3          Full  2012          4.8   189000   85000  \n",
       "4          Full  2016          2.4      155   48000  \n",
       "...         ...   ...          ...      ...     ...  \n",
       "3649       Full  2020          2.0     9500  132000  \n",
       "3650       Full  2006          5.3    86000   50000  \n",
       "3651   Standard  2018          2.5    78794   68000  \n",
       "3652       Full  2016          5.3    48000  145000  \n",
       "3653       Full  2016          2.5    81000  154000  \n",
       "\n",
       "[3654 rows x 10 columns]"
      ]
     },
     "execution_count": 2,
     "metadata": {},
     "output_type": "execute_result"
    }
   ],
   "source": [
    "# Load the DataFrame from a CSV file\n",
    "df = pd.read_csv('./data_saudi_used_cars_processed.csv')\n",
    "\n",
    "# Display the contents of the DataFrame\n",
    "df"
   ]
  },
  {
   "cell_type": "code",
   "execution_count": 3,
   "metadata": {},
   "outputs": [
    {
     "name": "stdout",
     "output_type": "stream",
     "text": [
      "<class 'pandas.core.frame.DataFrame'>\n",
      "RangeIndex: 3654 entries, 0 to 3653\n",
      "Data columns (total 10 columns):\n",
      " #   Column       Non-Null Count  Dtype  \n",
      "---  ------       --------------  -----  \n",
      " 0   Type         3654 non-null   object \n",
      " 1   Region       3654 non-null   object \n",
      " 2   Make         3654 non-null   object \n",
      " 3   Gear_Type    3654 non-null   object \n",
      " 4   Origin       3654 non-null   object \n",
      " 5   Options      3654 non-null   object \n",
      " 6   Year         3654 non-null   int64  \n",
      " 7   Engine_Size  3654 non-null   float64\n",
      " 8   Mileage      3654 non-null   int64  \n",
      " 9   Price        3654 non-null   int64  \n",
      "dtypes: float64(1), int64(3), object(6)\n",
      "memory usage: 285.6+ KB\n"
     ]
    }
   ],
   "source": [
    "# Display a summary of the DataFrame\n",
    "df.info()"
   ]
  },
  {
   "cell_type": "markdown",
   "metadata": {},
   "source": [
    "## **2. Define X and y**"
   ]
  },
  {
   "cell_type": "code",
   "execution_count": 4,
   "metadata": {},
   "outputs": [],
   "source": [
    "# Separate features (X) and target variable (y) from the DataFrame\n",
    "X = df.drop(columns='Price')\n",
    "y = df['Price']"
   ]
  },
  {
   "cell_type": "markdown",
   "metadata": {},
   "source": [
    "## **3. Data Splitting**"
   ]
  },
  {
   "cell_type": "code",
   "execution_count": 5,
   "metadata": {},
   "outputs": [],
   "source": [
    "# Split the dataset into training and testing sets\n",
    "X_train, X_test, y_train, y_test = train_test_split(\n",
    "    X,                  # Features for training and testing\n",
    "    y,                  # Target variable for training and testing\n",
    "    test_size=0.2,      # Proportion of the data to include in the test set (20%)\n",
    "    random_state=42,    # Seed for the random number generator to ensure reproducibility\n",
    ")"
   ]
  },
  {
   "cell_type": "markdown",
   "metadata": {},
   "source": [
    "## **4. Preprocessing**\n",
    "\n",
    "- onehot: gender, ever_married, work_type, Residence_type, smoking_status\n",
    "- imputer: bmi\n",
    "- robust scaler: age, avg_glucose_level, bmi"
   ]
  },
  {
   "cell_type": "code",
   "execution_count": 6,
   "metadata": {},
   "outputs": [
    {
     "data": {
      "text/html": [
       "<style>#sk-container-id-1 {\n",
       "  /* Definition of color scheme common for light and dark mode */\n",
       "  --sklearn-color-text: black;\n",
       "  --sklearn-color-line: gray;\n",
       "  /* Definition of color scheme for unfitted estimators */\n",
       "  --sklearn-color-unfitted-level-0: #fff5e6;\n",
       "  --sklearn-color-unfitted-level-1: #f6e4d2;\n",
       "  --sklearn-color-unfitted-level-2: #ffe0b3;\n",
       "  --sklearn-color-unfitted-level-3: chocolate;\n",
       "  /* Definition of color scheme for fitted estimators */\n",
       "  --sklearn-color-fitted-level-0: #f0f8ff;\n",
       "  --sklearn-color-fitted-level-1: #d4ebff;\n",
       "  --sklearn-color-fitted-level-2: #b3dbfd;\n",
       "  --sklearn-color-fitted-level-3: cornflowerblue;\n",
       "\n",
       "  /* Specific color for light theme */\n",
       "  --sklearn-color-text-on-default-background: var(--sg-text-color, var(--theme-code-foreground, var(--jp-content-font-color1, black)));\n",
       "  --sklearn-color-background: var(--sg-background-color, var(--theme-background, var(--jp-layout-color0, white)));\n",
       "  --sklearn-color-border-box: var(--sg-text-color, var(--theme-code-foreground, var(--jp-content-font-color1, black)));\n",
       "  --sklearn-color-icon: #696969;\n",
       "\n",
       "  @media (prefers-color-scheme: dark) {\n",
       "    /* Redefinition of color scheme for dark theme */\n",
       "    --sklearn-color-text-on-default-background: var(--sg-text-color, var(--theme-code-foreground, var(--jp-content-font-color1, white)));\n",
       "    --sklearn-color-background: var(--sg-background-color, var(--theme-background, var(--jp-layout-color0, #111)));\n",
       "    --sklearn-color-border-box: var(--sg-text-color, var(--theme-code-foreground, var(--jp-content-font-color1, white)));\n",
       "    --sklearn-color-icon: #878787;\n",
       "  }\n",
       "}\n",
       "\n",
       "#sk-container-id-1 {\n",
       "  color: var(--sklearn-color-text);\n",
       "}\n",
       "\n",
       "#sk-container-id-1 pre {\n",
       "  padding: 0;\n",
       "}\n",
       "\n",
       "#sk-container-id-1 input.sk-hidden--visually {\n",
       "  border: 0;\n",
       "  clip: rect(1px 1px 1px 1px);\n",
       "  clip: rect(1px, 1px, 1px, 1px);\n",
       "  height: 1px;\n",
       "  margin: -1px;\n",
       "  overflow: hidden;\n",
       "  padding: 0;\n",
       "  position: absolute;\n",
       "  width: 1px;\n",
       "}\n",
       "\n",
       "#sk-container-id-1 div.sk-dashed-wrapped {\n",
       "  border: 1px dashed var(--sklearn-color-line);\n",
       "  margin: 0 0.4em 0.5em 0.4em;\n",
       "  box-sizing: border-box;\n",
       "  padding-bottom: 0.4em;\n",
       "  background-color: var(--sklearn-color-background);\n",
       "}\n",
       "\n",
       "#sk-container-id-1 div.sk-container {\n",
       "  /* jupyter's `normalize.less` sets `[hidden] { display: none; }`\n",
       "     but bootstrap.min.css set `[hidden] { display: none !important; }`\n",
       "     so we also need the `!important` here to be able to override the\n",
       "     default hidden behavior on the sphinx rendered scikit-learn.org.\n",
       "     See: https://github.com/scikit-learn/scikit-learn/issues/21755 */\n",
       "  display: inline-block !important;\n",
       "  position: relative;\n",
       "}\n",
       "\n",
       "#sk-container-id-1 div.sk-text-repr-fallback {\n",
       "  display: none;\n",
       "}\n",
       "\n",
       "div.sk-parallel-item,\n",
       "div.sk-serial,\n",
       "div.sk-item {\n",
       "  /* draw centered vertical line to link estimators */\n",
       "  background-image: linear-gradient(var(--sklearn-color-text-on-default-background), var(--sklearn-color-text-on-default-background));\n",
       "  background-size: 2px 100%;\n",
       "  background-repeat: no-repeat;\n",
       "  background-position: center center;\n",
       "}\n",
       "\n",
       "/* Parallel-specific style estimator block */\n",
       "\n",
       "#sk-container-id-1 div.sk-parallel-item::after {\n",
       "  content: \"\";\n",
       "  width: 100%;\n",
       "  border-bottom: 2px solid var(--sklearn-color-text-on-default-background);\n",
       "  flex-grow: 1;\n",
       "}\n",
       "\n",
       "#sk-container-id-1 div.sk-parallel {\n",
       "  display: flex;\n",
       "  align-items: stretch;\n",
       "  justify-content: center;\n",
       "  background-color: var(--sklearn-color-background);\n",
       "  position: relative;\n",
       "}\n",
       "\n",
       "#sk-container-id-1 div.sk-parallel-item {\n",
       "  display: flex;\n",
       "  flex-direction: column;\n",
       "}\n",
       "\n",
       "#sk-container-id-1 div.sk-parallel-item:first-child::after {\n",
       "  align-self: flex-end;\n",
       "  width: 50%;\n",
       "}\n",
       "\n",
       "#sk-container-id-1 div.sk-parallel-item:last-child::after {\n",
       "  align-self: flex-start;\n",
       "  width: 50%;\n",
       "}\n",
       "\n",
       "#sk-container-id-1 div.sk-parallel-item:only-child::after {\n",
       "  width: 0;\n",
       "}\n",
       "\n",
       "/* Serial-specific style estimator block */\n",
       "\n",
       "#sk-container-id-1 div.sk-serial {\n",
       "  display: flex;\n",
       "  flex-direction: column;\n",
       "  align-items: center;\n",
       "  background-color: var(--sklearn-color-background);\n",
       "  padding-right: 1em;\n",
       "  padding-left: 1em;\n",
       "}\n",
       "\n",
       "\n",
       "/* Toggleable style: style used for estimator/Pipeline/ColumnTransformer box that is\n",
       "clickable and can be expanded/collapsed.\n",
       "- Pipeline and ColumnTransformer use this feature and define the default style\n",
       "- Estimators will overwrite some part of the style using the `sk-estimator` class\n",
       "*/\n",
       "\n",
       "/* Pipeline and ColumnTransformer style (default) */\n",
       "\n",
       "#sk-container-id-1 div.sk-toggleable {\n",
       "  /* Default theme specific background. It is overwritten whether we have a\n",
       "  specific estimator or a Pipeline/ColumnTransformer */\n",
       "  background-color: var(--sklearn-color-background);\n",
       "}\n",
       "\n",
       "/* Toggleable label */\n",
       "#sk-container-id-1 label.sk-toggleable__label {\n",
       "  cursor: pointer;\n",
       "  display: block;\n",
       "  width: 100%;\n",
       "  margin-bottom: 0;\n",
       "  padding: 0.5em;\n",
       "  box-sizing: border-box;\n",
       "  text-align: center;\n",
       "}\n",
       "\n",
       "#sk-container-id-1 label.sk-toggleable__label-arrow:before {\n",
       "  /* Arrow on the left of the label */\n",
       "  content: \"▸\";\n",
       "  float: left;\n",
       "  margin-right: 0.25em;\n",
       "  color: var(--sklearn-color-icon);\n",
       "}\n",
       "\n",
       "#sk-container-id-1 label.sk-toggleable__label-arrow:hover:before {\n",
       "  color: var(--sklearn-color-text);\n",
       "}\n",
       "\n",
       "/* Toggleable content - dropdown */\n",
       "\n",
       "#sk-container-id-1 div.sk-toggleable__content {\n",
       "  max-height: 0;\n",
       "  max-width: 0;\n",
       "  overflow: hidden;\n",
       "  text-align: left;\n",
       "  /* unfitted */\n",
       "  background-color: var(--sklearn-color-unfitted-level-0);\n",
       "}\n",
       "\n",
       "#sk-container-id-1 div.sk-toggleable__content.fitted {\n",
       "  /* fitted */\n",
       "  background-color: var(--sklearn-color-fitted-level-0);\n",
       "}\n",
       "\n",
       "#sk-container-id-1 div.sk-toggleable__content pre {\n",
       "  margin: 0.2em;\n",
       "  border-radius: 0.25em;\n",
       "  color: var(--sklearn-color-text);\n",
       "  /* unfitted */\n",
       "  background-color: var(--sklearn-color-unfitted-level-0);\n",
       "}\n",
       "\n",
       "#sk-container-id-1 div.sk-toggleable__content.fitted pre {\n",
       "  /* unfitted */\n",
       "  background-color: var(--sklearn-color-fitted-level-0);\n",
       "}\n",
       "\n",
       "#sk-container-id-1 input.sk-toggleable__control:checked~div.sk-toggleable__content {\n",
       "  /* Expand drop-down */\n",
       "  max-height: 200px;\n",
       "  max-width: 100%;\n",
       "  overflow: auto;\n",
       "}\n",
       "\n",
       "#sk-container-id-1 input.sk-toggleable__control:checked~label.sk-toggleable__label-arrow:before {\n",
       "  content: \"▾\";\n",
       "}\n",
       "\n",
       "/* Pipeline/ColumnTransformer-specific style */\n",
       "\n",
       "#sk-container-id-1 div.sk-label input.sk-toggleable__control:checked~label.sk-toggleable__label {\n",
       "  color: var(--sklearn-color-text);\n",
       "  background-color: var(--sklearn-color-unfitted-level-2);\n",
       "}\n",
       "\n",
       "#sk-container-id-1 div.sk-label.fitted input.sk-toggleable__control:checked~label.sk-toggleable__label {\n",
       "  background-color: var(--sklearn-color-fitted-level-2);\n",
       "}\n",
       "\n",
       "/* Estimator-specific style */\n",
       "\n",
       "/* Colorize estimator box */\n",
       "#sk-container-id-1 div.sk-estimator input.sk-toggleable__control:checked~label.sk-toggleable__label {\n",
       "  /* unfitted */\n",
       "  background-color: var(--sklearn-color-unfitted-level-2);\n",
       "}\n",
       "\n",
       "#sk-container-id-1 div.sk-estimator.fitted input.sk-toggleable__control:checked~label.sk-toggleable__label {\n",
       "  /* fitted */\n",
       "  background-color: var(--sklearn-color-fitted-level-2);\n",
       "}\n",
       "\n",
       "#sk-container-id-1 div.sk-label label.sk-toggleable__label,\n",
       "#sk-container-id-1 div.sk-label label {\n",
       "  /* The background is the default theme color */\n",
       "  color: var(--sklearn-color-text-on-default-background);\n",
       "}\n",
       "\n",
       "/* On hover, darken the color of the background */\n",
       "#sk-container-id-1 div.sk-label:hover label.sk-toggleable__label {\n",
       "  color: var(--sklearn-color-text);\n",
       "  background-color: var(--sklearn-color-unfitted-level-2);\n",
       "}\n",
       "\n",
       "/* Label box, darken color on hover, fitted */\n",
       "#sk-container-id-1 div.sk-label.fitted:hover label.sk-toggleable__label.fitted {\n",
       "  color: var(--sklearn-color-text);\n",
       "  background-color: var(--sklearn-color-fitted-level-2);\n",
       "}\n",
       "\n",
       "/* Estimator label */\n",
       "\n",
       "#sk-container-id-1 div.sk-label label {\n",
       "  font-family: monospace;\n",
       "  font-weight: bold;\n",
       "  display: inline-block;\n",
       "  line-height: 1.2em;\n",
       "}\n",
       "\n",
       "#sk-container-id-1 div.sk-label-container {\n",
       "  text-align: center;\n",
       "}\n",
       "\n",
       "/* Estimator-specific */\n",
       "#sk-container-id-1 div.sk-estimator {\n",
       "  font-family: monospace;\n",
       "  border: 1px dotted var(--sklearn-color-border-box);\n",
       "  border-radius: 0.25em;\n",
       "  box-sizing: border-box;\n",
       "  margin-bottom: 0.5em;\n",
       "  /* unfitted */\n",
       "  background-color: var(--sklearn-color-unfitted-level-0);\n",
       "}\n",
       "\n",
       "#sk-container-id-1 div.sk-estimator.fitted {\n",
       "  /* fitted */\n",
       "  background-color: var(--sklearn-color-fitted-level-0);\n",
       "}\n",
       "\n",
       "/* on hover */\n",
       "#sk-container-id-1 div.sk-estimator:hover {\n",
       "  /* unfitted */\n",
       "  background-color: var(--sklearn-color-unfitted-level-2);\n",
       "}\n",
       "\n",
       "#sk-container-id-1 div.sk-estimator.fitted:hover {\n",
       "  /* fitted */\n",
       "  background-color: var(--sklearn-color-fitted-level-2);\n",
       "}\n",
       "\n",
       "/* Specification for estimator info (e.g. \"i\" and \"?\") */\n",
       "\n",
       "/* Common style for \"i\" and \"?\" */\n",
       "\n",
       ".sk-estimator-doc-link,\n",
       "a:link.sk-estimator-doc-link,\n",
       "a:visited.sk-estimator-doc-link {\n",
       "  float: right;\n",
       "  font-size: smaller;\n",
       "  line-height: 1em;\n",
       "  font-family: monospace;\n",
       "  background-color: var(--sklearn-color-background);\n",
       "  border-radius: 1em;\n",
       "  height: 1em;\n",
       "  width: 1em;\n",
       "  text-decoration: none !important;\n",
       "  margin-left: 1ex;\n",
       "  /* unfitted */\n",
       "  border: var(--sklearn-color-unfitted-level-1) 1pt solid;\n",
       "  color: var(--sklearn-color-unfitted-level-1);\n",
       "}\n",
       "\n",
       ".sk-estimator-doc-link.fitted,\n",
       "a:link.sk-estimator-doc-link.fitted,\n",
       "a:visited.sk-estimator-doc-link.fitted {\n",
       "  /* fitted */\n",
       "  border: var(--sklearn-color-fitted-level-1) 1pt solid;\n",
       "  color: var(--sklearn-color-fitted-level-1);\n",
       "}\n",
       "\n",
       "/* On hover */\n",
       "div.sk-estimator:hover .sk-estimator-doc-link:hover,\n",
       ".sk-estimator-doc-link:hover,\n",
       "div.sk-label-container:hover .sk-estimator-doc-link:hover,\n",
       ".sk-estimator-doc-link:hover {\n",
       "  /* unfitted */\n",
       "  background-color: var(--sklearn-color-unfitted-level-3);\n",
       "  color: var(--sklearn-color-background);\n",
       "  text-decoration: none;\n",
       "}\n",
       "\n",
       "div.sk-estimator.fitted:hover .sk-estimator-doc-link.fitted:hover,\n",
       ".sk-estimator-doc-link.fitted:hover,\n",
       "div.sk-label-container:hover .sk-estimator-doc-link.fitted:hover,\n",
       ".sk-estimator-doc-link.fitted:hover {\n",
       "  /* fitted */\n",
       "  background-color: var(--sklearn-color-fitted-level-3);\n",
       "  color: var(--sklearn-color-background);\n",
       "  text-decoration: none;\n",
       "}\n",
       "\n",
       "/* Span, style for the box shown on hovering the info icon */\n",
       ".sk-estimator-doc-link span {\n",
       "  display: none;\n",
       "  z-index: 9999;\n",
       "  position: relative;\n",
       "  font-weight: normal;\n",
       "  right: .2ex;\n",
       "  padding: .5ex;\n",
       "  margin: .5ex;\n",
       "  width: min-content;\n",
       "  min-width: 20ex;\n",
       "  max-width: 50ex;\n",
       "  color: var(--sklearn-color-text);\n",
       "  box-shadow: 2pt 2pt 4pt #999;\n",
       "  /* unfitted */\n",
       "  background: var(--sklearn-color-unfitted-level-0);\n",
       "  border: .5pt solid var(--sklearn-color-unfitted-level-3);\n",
       "}\n",
       "\n",
       ".sk-estimator-doc-link.fitted span {\n",
       "  /* fitted */\n",
       "  background: var(--sklearn-color-fitted-level-0);\n",
       "  border: var(--sklearn-color-fitted-level-3);\n",
       "}\n",
       "\n",
       ".sk-estimator-doc-link:hover span {\n",
       "  display: block;\n",
       "}\n",
       "\n",
       "/* \"?\"-specific style due to the `<a>` HTML tag */\n",
       "\n",
       "#sk-container-id-1 a.estimator_doc_link {\n",
       "  float: right;\n",
       "  font-size: 1rem;\n",
       "  line-height: 1em;\n",
       "  font-family: monospace;\n",
       "  background-color: var(--sklearn-color-background);\n",
       "  border-radius: 1rem;\n",
       "  height: 1rem;\n",
       "  width: 1rem;\n",
       "  text-decoration: none;\n",
       "  /* unfitted */\n",
       "  color: var(--sklearn-color-unfitted-level-1);\n",
       "  border: var(--sklearn-color-unfitted-level-1) 1pt solid;\n",
       "}\n",
       "\n",
       "#sk-container-id-1 a.estimator_doc_link.fitted {\n",
       "  /* fitted */\n",
       "  border: var(--sklearn-color-fitted-level-1) 1pt solid;\n",
       "  color: var(--sklearn-color-fitted-level-1);\n",
       "}\n",
       "\n",
       "/* On hover */\n",
       "#sk-container-id-1 a.estimator_doc_link:hover {\n",
       "  /* unfitted */\n",
       "  background-color: var(--sklearn-color-unfitted-level-3);\n",
       "  color: var(--sklearn-color-background);\n",
       "  text-decoration: none;\n",
       "}\n",
       "\n",
       "#sk-container-id-1 a.estimator_doc_link.fitted:hover {\n",
       "  /* fitted */\n",
       "  background-color: var(--sklearn-color-fitted-level-3);\n",
       "}\n",
       "</style><div id=\"sk-container-id-1\" class=\"sk-top-container\"><div class=\"sk-text-repr-fallback\"><pre>ColumnTransformer(remainder=&#x27;passthrough&#x27;,\n",
       "                  transformers=[(&#x27;binary&#x27;, BinaryEncoder(),\n",
       "                                 [&#x27;Type&#x27;, &#x27;Region&#x27;, &#x27;Make&#x27;]),\n",
       "                                (&#x27;onehot&#x27;, OneHotEncoder(),\n",
       "                                 [&#x27;Gear_Type&#x27;, &#x27;Origin&#x27;, &#x27;Options&#x27;]),\n",
       "                                (&#x27;robust&#x27;, RobustScaler(),\n",
       "                                 [&#x27;Year&#x27;, &#x27;Engine_Size&#x27;, &#x27;Mileage&#x27;])])</pre><b>In a Jupyter environment, please rerun this cell to show the HTML representation or trust the notebook. <br />On GitHub, the HTML representation is unable to render, please try loading this page with nbviewer.org.</b></div><div class=\"sk-container\" hidden><div class=\"sk-item sk-dashed-wrapped\"><div class=\"sk-label-container\"><div class=\"sk-label  sk-toggleable\"><input class=\"sk-toggleable__control sk-hidden--visually\" id=\"sk-estimator-id-1\" type=\"checkbox\" ><label for=\"sk-estimator-id-1\" class=\"sk-toggleable__label  sk-toggleable__label-arrow \">&nbsp;&nbsp;ColumnTransformer<a class=\"sk-estimator-doc-link \" rel=\"noreferrer\" target=\"_blank\" href=\"https://scikit-learn.org/1.5/modules/generated/sklearn.compose.ColumnTransformer.html\">?<span>Documentation for ColumnTransformer</span></a><span class=\"sk-estimator-doc-link \">i<span>Not fitted</span></span></label><div class=\"sk-toggleable__content \"><pre>ColumnTransformer(remainder=&#x27;passthrough&#x27;,\n",
       "                  transformers=[(&#x27;binary&#x27;, BinaryEncoder(),\n",
       "                                 [&#x27;Type&#x27;, &#x27;Region&#x27;, &#x27;Make&#x27;]),\n",
       "                                (&#x27;onehot&#x27;, OneHotEncoder(),\n",
       "                                 [&#x27;Gear_Type&#x27;, &#x27;Origin&#x27;, &#x27;Options&#x27;]),\n",
       "                                (&#x27;robust&#x27;, RobustScaler(),\n",
       "                                 [&#x27;Year&#x27;, &#x27;Engine_Size&#x27;, &#x27;Mileage&#x27;])])</pre></div> </div></div><div class=\"sk-parallel\"><div class=\"sk-parallel-item\"><div class=\"sk-item\"><div class=\"sk-label-container\"><div class=\"sk-label  sk-toggleable\"><input class=\"sk-toggleable__control sk-hidden--visually\" id=\"sk-estimator-id-2\" type=\"checkbox\" ><label for=\"sk-estimator-id-2\" class=\"sk-toggleable__label  sk-toggleable__label-arrow \">binary</label><div class=\"sk-toggleable__content \"><pre>[&#x27;Type&#x27;, &#x27;Region&#x27;, &#x27;Make&#x27;]</pre></div> </div></div><div class=\"sk-serial\"><div class=\"sk-item\"><div class=\"sk-estimator  sk-toggleable\"><input class=\"sk-toggleable__control sk-hidden--visually\" id=\"sk-estimator-id-3\" type=\"checkbox\" ><label for=\"sk-estimator-id-3\" class=\"sk-toggleable__label  sk-toggleable__label-arrow \">BinaryEncoder</label><div class=\"sk-toggleable__content \"><pre>BinaryEncoder()</pre></div> </div></div></div></div></div><div class=\"sk-parallel-item\"><div class=\"sk-item\"><div class=\"sk-label-container\"><div class=\"sk-label  sk-toggleable\"><input class=\"sk-toggleable__control sk-hidden--visually\" id=\"sk-estimator-id-4\" type=\"checkbox\" ><label for=\"sk-estimator-id-4\" class=\"sk-toggleable__label  sk-toggleable__label-arrow \">onehot</label><div class=\"sk-toggleable__content \"><pre>[&#x27;Gear_Type&#x27;, &#x27;Origin&#x27;, &#x27;Options&#x27;]</pre></div> </div></div><div class=\"sk-serial\"><div class=\"sk-item\"><div class=\"sk-estimator  sk-toggleable\"><input class=\"sk-toggleable__control sk-hidden--visually\" id=\"sk-estimator-id-5\" type=\"checkbox\" ><label for=\"sk-estimator-id-5\" class=\"sk-toggleable__label  sk-toggleable__label-arrow \">&nbsp;OneHotEncoder<a class=\"sk-estimator-doc-link \" rel=\"noreferrer\" target=\"_blank\" href=\"https://scikit-learn.org/1.5/modules/generated/sklearn.preprocessing.OneHotEncoder.html\">?<span>Documentation for OneHotEncoder</span></a></label><div class=\"sk-toggleable__content \"><pre>OneHotEncoder()</pre></div> </div></div></div></div></div><div class=\"sk-parallel-item\"><div class=\"sk-item\"><div class=\"sk-label-container\"><div class=\"sk-label  sk-toggleable\"><input class=\"sk-toggleable__control sk-hidden--visually\" id=\"sk-estimator-id-6\" type=\"checkbox\" ><label for=\"sk-estimator-id-6\" class=\"sk-toggleable__label  sk-toggleable__label-arrow \">robust</label><div class=\"sk-toggleable__content \"><pre>[&#x27;Year&#x27;, &#x27;Engine_Size&#x27;, &#x27;Mileage&#x27;]</pre></div> </div></div><div class=\"sk-serial\"><div class=\"sk-item\"><div class=\"sk-estimator  sk-toggleable\"><input class=\"sk-toggleable__control sk-hidden--visually\" id=\"sk-estimator-id-7\" type=\"checkbox\" ><label for=\"sk-estimator-id-7\" class=\"sk-toggleable__label  sk-toggleable__label-arrow \">&nbsp;RobustScaler<a class=\"sk-estimator-doc-link \" rel=\"noreferrer\" target=\"_blank\" href=\"https://scikit-learn.org/1.5/modules/generated/sklearn.preprocessing.RobustScaler.html\">?<span>Documentation for RobustScaler</span></a></label><div class=\"sk-toggleable__content \"><pre>RobustScaler()</pre></div> </div></div></div></div></div><div class=\"sk-parallel-item\"><div class=\"sk-item\"><div class=\"sk-label-container\"><div class=\"sk-label  sk-toggleable\"><input class=\"sk-toggleable__control sk-hidden--visually\" id=\"sk-estimator-id-8\" type=\"checkbox\" ><label for=\"sk-estimator-id-8\" class=\"sk-toggleable__label  sk-toggleable__label-arrow \">remainder</label><div class=\"sk-toggleable__content \"><pre></pre></div> </div></div><div class=\"sk-serial\"><div class=\"sk-item\"><div class=\"sk-estimator  sk-toggleable\"><input class=\"sk-toggleable__control sk-hidden--visually\" id=\"sk-estimator-id-9\" type=\"checkbox\" ><label for=\"sk-estimator-id-9\" class=\"sk-toggleable__label  sk-toggleable__label-arrow \">passthrough</label><div class=\"sk-toggleable__content \"><pre>passthrough</pre></div> </div></div></div></div></div></div></div></div></div>"
      ],
      "text/plain": [
       "ColumnTransformer(remainder='passthrough',\n",
       "                  transformers=[('binary', BinaryEncoder(),\n",
       "                                 ['Type', 'Region', 'Make']),\n",
       "                                ('onehot', OneHotEncoder(),\n",
       "                                 ['Gear_Type', 'Origin', 'Options']),\n",
       "                                ('robust', RobustScaler(),\n",
       "                                 ['Year', 'Engine_Size', 'Mileage'])])"
      ]
     },
     "execution_count": 6,
     "metadata": {},
     "output_type": "execute_result"
    }
   ],
   "source": [
    "# Define a ColumnTransformer for different preprocessing tasks\n",
    "transformer = ColumnTransformer([\n",
    "    ('binary', BinaryEncoder(), ['Type', 'Region', 'Make']),            # Apply BinaryEncoder to 'Type', 'Region', and 'Make'\n",
    "    ('onehot', OneHotEncoder(), ['Gear_Type', 'Origin', 'Options']),    # Apply OneHotEncoder to 'Gear_Type', 'Origin', and 'Options'\n",
    "    ('robust', RobustScaler(), ['Year', 'Engine_Size', 'Mileage']),     # Apply RobustScaler to 'Year', 'Engine_Size', and 'Mileage'\n",
    "], remainder='passthrough')                                             # Pass through other columns without transformation\n",
    "\n",
    "transformer"
   ]
  },
  {
   "cell_type": "markdown",
   "metadata": {},
   "source": [
    "## **5. Modeling**"
   ]
  },
  {
   "cell_type": "code",
   "execution_count": 7,
   "metadata": {},
   "outputs": [],
   "source": [
    "# Define different regression algorithms\n",
    "\n",
    "# Basic Model\n",
    "# Linear Regression\n",
    "lr = LinearRegression()\n",
    "\n",
    "# Ridge Regression with regularization\n",
    "ridge = Ridge(random_state=42)\n",
    "\n",
    "# Lasso Regression with regularization\n",
    "lasso = Lasso(random_state=42)\n",
    "\n",
    "# ElasticNet Regression, combining L1 and L2 regularization\n",
    "en = ElasticNet(random_state=42)\n",
    "\n",
    "# K-Nearest Neighbors Regressor\n",
    "knn = KNeighborsRegressor(n_neighbors=3)\n",
    "\n",
    "# Decision Tree Regressor\n",
    "tree = DecisionTreeRegressor(random_state=42)\n",
    "\n",
    "# Ensemble Model\n",
    "# Random Forest Regressor, an ensemble method using multiple decision trees\n",
    "rf = RandomForestRegressor(random_state=42)\n",
    "\n",
    "# AdaBoost Regressor, an ensemble method that combines weak learners to improve performance\n",
    "adaboost = AdaBoostRegressor(random_state=42)\n",
    "\n",
    "# Gradient Boosting Regressor, an ensemble method that builds models sequentially\n",
    "gradboost = GradientBoostingRegressor(random_state=42)\n",
    "\n",
    "# XGBoost Regressor, an optimized gradient boosting library\n",
    "xgboost = XGBRegressor()\n"
   ]
  },
  {
   "cell_type": "markdown",
   "metadata": {},
   "source": [
    "### **1. Cross Validation**"
   ]
  },
  {
   "cell_type": "code",
   "execution_count": 8,
   "metadata": {},
   "outputs": [],
   "source": [
    "# List of scoring metrics for evaluating regression models\n",
    "scorer = [\n",
    "    'neg_root_mean_squared_error',          # Negative root mean squared error\n",
    "    'neg_mean_absolute_error',              # Negative mean absolute error\n",
    "    'neg_mean_absolute_percentage_error'    # Negative mean absolute percentage error\n",
    "]"
   ]
  },
  {
   "cell_type": "code",
   "execution_count": 9,
   "metadata": {},
   "outputs": [],
   "source": [
    "# List of regression algorithms to evaluate\n",
    "list_algo = [lr, ridge, lasso, en, knn, tree, rf, adaboost, gradboost, xgboost]\n",
    "\n",
    "# Lists to store evaluation metrics and their standard deviations\n",
    "list_rmse = []\n",
    "list_std_rmse = []\n",
    "\n",
    "list_mae = []\n",
    "list_std_mae = []\n",
    "\n",
    "list_mape = []\n",
    "list_std_mape = []\n",
    "\n",
    "# Loop through each algorithm in the list\n",
    "for algo in list_algo:\n",
    "\n",
    "    # Define a pipeline that includes preprocessing and model training\n",
    "    pipe_prep_model = Pipeline([\n",
    "        ('preprocessing', transformer),  # Apply preprocessing steps defined earlier\n",
    "        ('model', algo)                  # Apply the current model\n",
    "    ])\n",
    "\n",
    "    # Define a K-Fold cross-validation strategy\n",
    "    crossval = KFold(n_splits=5, shuffle=True, random_state=42)\n",
    "\n",
    "    # Perform cross-validation and compute metrics\n",
    "    cv_score = cross_validate(\n",
    "        estimator=pipe_prep_model,       # The pipeline to evaluate\n",
    "        X=X_train,                       # Training features\n",
    "        y=y_train,                       # Training target\n",
    "        cv=crossval,                     # Number of cross-validation folds\n",
    "        scoring=scorer,                  # List of scoring metrics\n",
    "    )\n",
    "\n",
    "    # Append the mean and standard deviation of each metric to the respective lists\n",
    "    list_rmse.append(cv_score['test_neg_root_mean_squared_error'].mean())\n",
    "    list_std_rmse.append(cv_score['test_neg_root_mean_squared_error'].std())\n",
    "    \n",
    "    list_mae.append(cv_score['test_neg_mean_absolute_error'].mean())\n",
    "    list_std_mae.append(cv_score['test_neg_mean_absolute_error'].std())\n",
    "    \n",
    "    list_mape.append(cv_score['test_neg_mean_absolute_percentage_error'].mean())\n",
    "    list_std_mape.append(cv_score['test_neg_mean_absolute_percentage_error'].std())"
   ]
  },
  {
   "cell_type": "code",
   "execution_count": 10,
   "metadata": {},
   "outputs": [],
   "source": [
    "# Create a DataFrame to store the results of model evaluations\n",
    "score_cv = pd.DataFrame({\n",
    "    'model': [str(x).split('(')[0] for x in list_algo],\n",
    "    'rmse_mean': list_rmse,\n",
    "    'rmse_std': list_std_rmse,\n",
    "    'mae_mean': list_mae,\n",
    "    'mae_std': list_std_mae,\n",
    "    'mape_mean': list_mape,\n",
    "    'mape_std': list_std_mape,\n",
    "})"
   ]
  },
  {
   "cell_type": "code",
   "execution_count": 11,
   "metadata": {},
   "outputs": [
    {
     "data": {
      "text/html": [
       "<div>\n",
       "<style scoped>\n",
       "    .dataframe tbody tr th:only-of-type {\n",
       "        vertical-align: middle;\n",
       "    }\n",
       "\n",
       "    .dataframe tbody tr th {\n",
       "        vertical-align: top;\n",
       "    }\n",
       "\n",
       "    .dataframe thead th {\n",
       "        text-align: right;\n",
       "    }\n",
       "</style>\n",
       "<table border=\"1\" class=\"dataframe\">\n",
       "  <thead>\n",
       "    <tr style=\"text-align: right;\">\n",
       "      <th></th>\n",
       "      <th>model</th>\n",
       "      <th>rmse_mean</th>\n",
       "      <th>rmse_std</th>\n",
       "      <th>mae_mean</th>\n",
       "      <th>mae_std</th>\n",
       "      <th>mape_mean</th>\n",
       "      <th>mape_std</th>\n",
       "    </tr>\n",
       "  </thead>\n",
       "  <tbody>\n",
       "    <tr>\n",
       "      <th>9</th>\n",
       "      <td>XGBRegressor</td>\n",
       "      <td>-31864.470225</td>\n",
       "      <td>2690.264581</td>\n",
       "      <td>-18006.181752</td>\n",
       "      <td>1362.874180</td>\n",
       "      <td>-0.272911</td>\n",
       "      <td>0.008889</td>\n",
       "    </tr>\n",
       "    <tr>\n",
       "      <th>6</th>\n",
       "      <td>RandomForestRegressor</td>\n",
       "      <td>-33817.631651</td>\n",
       "      <td>1897.008529</td>\n",
       "      <td>-18568.641221</td>\n",
       "      <td>860.998229</td>\n",
       "      <td>-0.286076</td>\n",
       "      <td>0.006685</td>\n",
       "    </tr>\n",
       "    <tr>\n",
       "      <th>8</th>\n",
       "      <td>GradientBoostingRegressor</td>\n",
       "      <td>-36020.252964</td>\n",
       "      <td>3086.721826</td>\n",
       "      <td>-21211.772684</td>\n",
       "      <td>1628.314482</td>\n",
       "      <td>-0.318852</td>\n",
       "      <td>0.015454</td>\n",
       "    </tr>\n",
       "    <tr>\n",
       "      <th>4</th>\n",
       "      <td>KNeighborsRegressor</td>\n",
       "      <td>-36363.117108</td>\n",
       "      <td>3745.678586</td>\n",
       "      <td>-20522.138012</td>\n",
       "      <td>1261.921637</td>\n",
       "      <td>-0.328637</td>\n",
       "      <td>0.012755</td>\n",
       "    </tr>\n",
       "    <tr>\n",
       "      <th>5</th>\n",
       "      <td>DecisionTreeRegressor</td>\n",
       "      <td>-47725.029183</td>\n",
       "      <td>4191.574970</td>\n",
       "      <td>-24938.090515</td>\n",
       "      <td>1463.332397</td>\n",
       "      <td>-0.365888</td>\n",
       "      <td>0.035627</td>\n",
       "    </tr>\n",
       "    <tr>\n",
       "      <th>1</th>\n",
       "      <td>Ridge</td>\n",
       "      <td>-50668.668937</td>\n",
       "      <td>5335.875510</td>\n",
       "      <td>-32885.142223</td>\n",
       "      <td>1982.073907</td>\n",
       "      <td>-0.606862</td>\n",
       "      <td>0.035691</td>\n",
       "    </tr>\n",
       "    <tr>\n",
       "      <th>2</th>\n",
       "      <td>Lasso</td>\n",
       "      <td>-50674.673208</td>\n",
       "      <td>5339.428043</td>\n",
       "      <td>-32895.645758</td>\n",
       "      <td>1987.466337</td>\n",
       "      <td>-0.607237</td>\n",
       "      <td>0.035782</td>\n",
       "    </tr>\n",
       "    <tr>\n",
       "      <th>0</th>\n",
       "      <td>LinearRegression</td>\n",
       "      <td>-50676.541540</td>\n",
       "      <td>5338.652439</td>\n",
       "      <td>-32897.895901</td>\n",
       "      <td>1989.842864</td>\n",
       "      <td>-0.607308</td>\n",
       "      <td>0.035806</td>\n",
       "    </tr>\n",
       "    <tr>\n",
       "      <th>3</th>\n",
       "      <td>ElasticNet</td>\n",
       "      <td>-55011.751870</td>\n",
       "      <td>5453.820927</td>\n",
       "      <td>-34685.782714</td>\n",
       "      <td>2040.419197</td>\n",
       "      <td>-0.605482</td>\n",
       "      <td>0.021134</td>\n",
       "    </tr>\n",
       "    <tr>\n",
       "      <th>7</th>\n",
       "      <td>AdaBoostRegressor</td>\n",
       "      <td>-57770.315175</td>\n",
       "      <td>2013.670622</td>\n",
       "      <td>-49762.541720</td>\n",
       "      <td>1987.321092</td>\n",
       "      <td>-1.082164</td>\n",
       "      <td>0.064093</td>\n",
       "    </tr>\n",
       "  </tbody>\n",
       "</table>\n",
       "</div>"
      ],
      "text/plain": [
       "                       model     rmse_mean     rmse_std      mae_mean  \\\n",
       "9               XGBRegressor -31864.470225  2690.264581 -18006.181752   \n",
       "6      RandomForestRegressor -33817.631651  1897.008529 -18568.641221   \n",
       "8  GradientBoostingRegressor -36020.252964  3086.721826 -21211.772684   \n",
       "4        KNeighborsRegressor -36363.117108  3745.678586 -20522.138012   \n",
       "5      DecisionTreeRegressor -47725.029183  4191.574970 -24938.090515   \n",
       "1                      Ridge -50668.668937  5335.875510 -32885.142223   \n",
       "2                      Lasso -50674.673208  5339.428043 -32895.645758   \n",
       "0           LinearRegression -50676.541540  5338.652439 -32897.895901   \n",
       "3                 ElasticNet -55011.751870  5453.820927 -34685.782714   \n",
       "7          AdaBoostRegressor -57770.315175  2013.670622 -49762.541720   \n",
       "\n",
       "       mae_std  mape_mean  mape_std  \n",
       "9  1362.874180  -0.272911  0.008889  \n",
       "6   860.998229  -0.286076  0.006685  \n",
       "8  1628.314482  -0.318852  0.015454  \n",
       "4  1261.921637  -0.328637  0.012755  \n",
       "5  1463.332397  -0.365888  0.035627  \n",
       "1  1982.073907  -0.606862  0.035691  \n",
       "2  1987.466337  -0.607237  0.035782  \n",
       "0  1989.842864  -0.607308  0.035806  \n",
       "3  2040.419197  -0.605482  0.021134  \n",
       "7  1987.321092  -1.082164  0.064093  "
      ]
     },
     "execution_count": 11,
     "metadata": {},
     "output_type": "execute_result"
    }
   ],
   "source": [
    "# Sorting the DataFrame 'score_cv' based on the 'rmse_mean' column\n",
    "# in descending order (from highest to lowest).\n",
    "score_cv.sort_values(by='rmse_mean', ascending=False)"
   ]
  },
  {
   "cell_type": "code",
   "execution_count": 12,
   "metadata": {},
   "outputs": [
    {
     "data": {
      "text/html": [
       "<div>\n",
       "<style scoped>\n",
       "    .dataframe tbody tr th:only-of-type {\n",
       "        vertical-align: middle;\n",
       "    }\n",
       "\n",
       "    .dataframe tbody tr th {\n",
       "        vertical-align: top;\n",
       "    }\n",
       "\n",
       "    .dataframe thead th {\n",
       "        text-align: right;\n",
       "    }\n",
       "</style>\n",
       "<table border=\"1\" class=\"dataframe\">\n",
       "  <thead>\n",
       "    <tr style=\"text-align: right;\">\n",
       "      <th></th>\n",
       "      <th>model</th>\n",
       "      <th>rmse_mean</th>\n",
       "      <th>rmse_std</th>\n",
       "      <th>mae_mean</th>\n",
       "      <th>mae_std</th>\n",
       "      <th>mape_mean</th>\n",
       "      <th>mape_std</th>\n",
       "    </tr>\n",
       "  </thead>\n",
       "  <tbody>\n",
       "    <tr>\n",
       "      <th>9</th>\n",
       "      <td>XGBRegressor</td>\n",
       "      <td>-31864.470225</td>\n",
       "      <td>2690.264581</td>\n",
       "      <td>-18006.181752</td>\n",
       "      <td>1362.874180</td>\n",
       "      <td>-0.272911</td>\n",
       "      <td>0.008889</td>\n",
       "    </tr>\n",
       "    <tr>\n",
       "      <th>6</th>\n",
       "      <td>RandomForestRegressor</td>\n",
       "      <td>-33817.631651</td>\n",
       "      <td>1897.008529</td>\n",
       "      <td>-18568.641221</td>\n",
       "      <td>860.998229</td>\n",
       "      <td>-0.286076</td>\n",
       "      <td>0.006685</td>\n",
       "    </tr>\n",
       "    <tr>\n",
       "      <th>4</th>\n",
       "      <td>KNeighborsRegressor</td>\n",
       "      <td>-36363.117108</td>\n",
       "      <td>3745.678586</td>\n",
       "      <td>-20522.138012</td>\n",
       "      <td>1261.921637</td>\n",
       "      <td>-0.328637</td>\n",
       "      <td>0.012755</td>\n",
       "    </tr>\n",
       "    <tr>\n",
       "      <th>8</th>\n",
       "      <td>GradientBoostingRegressor</td>\n",
       "      <td>-36020.252964</td>\n",
       "      <td>3086.721826</td>\n",
       "      <td>-21211.772684</td>\n",
       "      <td>1628.314482</td>\n",
       "      <td>-0.318852</td>\n",
       "      <td>0.015454</td>\n",
       "    </tr>\n",
       "    <tr>\n",
       "      <th>5</th>\n",
       "      <td>DecisionTreeRegressor</td>\n",
       "      <td>-47725.029183</td>\n",
       "      <td>4191.574970</td>\n",
       "      <td>-24938.090515</td>\n",
       "      <td>1463.332397</td>\n",
       "      <td>-0.365888</td>\n",
       "      <td>0.035627</td>\n",
       "    </tr>\n",
       "    <tr>\n",
       "      <th>1</th>\n",
       "      <td>Ridge</td>\n",
       "      <td>-50668.668937</td>\n",
       "      <td>5335.875510</td>\n",
       "      <td>-32885.142223</td>\n",
       "      <td>1982.073907</td>\n",
       "      <td>-0.606862</td>\n",
       "      <td>0.035691</td>\n",
       "    </tr>\n",
       "    <tr>\n",
       "      <th>2</th>\n",
       "      <td>Lasso</td>\n",
       "      <td>-50674.673208</td>\n",
       "      <td>5339.428043</td>\n",
       "      <td>-32895.645758</td>\n",
       "      <td>1987.466337</td>\n",
       "      <td>-0.607237</td>\n",
       "      <td>0.035782</td>\n",
       "    </tr>\n",
       "    <tr>\n",
       "      <th>0</th>\n",
       "      <td>LinearRegression</td>\n",
       "      <td>-50676.541540</td>\n",
       "      <td>5338.652439</td>\n",
       "      <td>-32897.895901</td>\n",
       "      <td>1989.842864</td>\n",
       "      <td>-0.607308</td>\n",
       "      <td>0.035806</td>\n",
       "    </tr>\n",
       "    <tr>\n",
       "      <th>3</th>\n",
       "      <td>ElasticNet</td>\n",
       "      <td>-55011.751870</td>\n",
       "      <td>5453.820927</td>\n",
       "      <td>-34685.782714</td>\n",
       "      <td>2040.419197</td>\n",
       "      <td>-0.605482</td>\n",
       "      <td>0.021134</td>\n",
       "    </tr>\n",
       "    <tr>\n",
       "      <th>7</th>\n",
       "      <td>AdaBoostRegressor</td>\n",
       "      <td>-57770.315175</td>\n",
       "      <td>2013.670622</td>\n",
       "      <td>-49762.541720</td>\n",
       "      <td>1987.321092</td>\n",
       "      <td>-1.082164</td>\n",
       "      <td>0.064093</td>\n",
       "    </tr>\n",
       "  </tbody>\n",
       "</table>\n",
       "</div>"
      ],
      "text/plain": [
       "                       model     rmse_mean     rmse_std      mae_mean  \\\n",
       "9               XGBRegressor -31864.470225  2690.264581 -18006.181752   \n",
       "6      RandomForestRegressor -33817.631651  1897.008529 -18568.641221   \n",
       "4        KNeighborsRegressor -36363.117108  3745.678586 -20522.138012   \n",
       "8  GradientBoostingRegressor -36020.252964  3086.721826 -21211.772684   \n",
       "5      DecisionTreeRegressor -47725.029183  4191.574970 -24938.090515   \n",
       "1                      Ridge -50668.668937  5335.875510 -32885.142223   \n",
       "2                      Lasso -50674.673208  5339.428043 -32895.645758   \n",
       "0           LinearRegression -50676.541540  5338.652439 -32897.895901   \n",
       "3                 ElasticNet -55011.751870  5453.820927 -34685.782714   \n",
       "7          AdaBoostRegressor -57770.315175  2013.670622 -49762.541720   \n",
       "\n",
       "       mae_std  mape_mean  mape_std  \n",
       "9  1362.874180  -0.272911  0.008889  \n",
       "6   860.998229  -0.286076  0.006685  \n",
       "4  1261.921637  -0.328637  0.012755  \n",
       "8  1628.314482  -0.318852  0.015454  \n",
       "5  1463.332397  -0.365888  0.035627  \n",
       "1  1982.073907  -0.606862  0.035691  \n",
       "2  1987.466337  -0.607237  0.035782  \n",
       "0  1989.842864  -0.607308  0.035806  \n",
       "3  2040.419197  -0.605482  0.021134  \n",
       "7  1987.321092  -1.082164  0.064093  "
      ]
     },
     "execution_count": 12,
     "metadata": {},
     "output_type": "execute_result"
    }
   ],
   "source": [
    "# Sorting the DataFrame 'score_cv' based on the 'rmse_mean' column\n",
    "# in descending order (from highest to lowest).\n",
    "score_cv.sort_values(by='mae_mean', ascending=False)"
   ]
  },
  {
   "cell_type": "code",
   "execution_count": 13,
   "metadata": {},
   "outputs": [
    {
     "data": {
      "text/html": [
       "<div>\n",
       "<style scoped>\n",
       "    .dataframe tbody tr th:only-of-type {\n",
       "        vertical-align: middle;\n",
       "    }\n",
       "\n",
       "    .dataframe tbody tr th {\n",
       "        vertical-align: top;\n",
       "    }\n",
       "\n",
       "    .dataframe thead th {\n",
       "        text-align: right;\n",
       "    }\n",
       "</style>\n",
       "<table border=\"1\" class=\"dataframe\">\n",
       "  <thead>\n",
       "    <tr style=\"text-align: right;\">\n",
       "      <th></th>\n",
       "      <th>model</th>\n",
       "      <th>rmse_mean</th>\n",
       "      <th>rmse_std</th>\n",
       "      <th>mae_mean</th>\n",
       "      <th>mae_std</th>\n",
       "      <th>mape_mean</th>\n",
       "      <th>mape_std</th>\n",
       "    </tr>\n",
       "  </thead>\n",
       "  <tbody>\n",
       "    <tr>\n",
       "      <th>9</th>\n",
       "      <td>XGBRegressor</td>\n",
       "      <td>-31864.470225</td>\n",
       "      <td>2690.264581</td>\n",
       "      <td>-18006.181752</td>\n",
       "      <td>1362.874180</td>\n",
       "      <td>-0.272911</td>\n",
       "      <td>0.008889</td>\n",
       "    </tr>\n",
       "    <tr>\n",
       "      <th>6</th>\n",
       "      <td>RandomForestRegressor</td>\n",
       "      <td>-33817.631651</td>\n",
       "      <td>1897.008529</td>\n",
       "      <td>-18568.641221</td>\n",
       "      <td>860.998229</td>\n",
       "      <td>-0.286076</td>\n",
       "      <td>0.006685</td>\n",
       "    </tr>\n",
       "    <tr>\n",
       "      <th>8</th>\n",
       "      <td>GradientBoostingRegressor</td>\n",
       "      <td>-36020.252964</td>\n",
       "      <td>3086.721826</td>\n",
       "      <td>-21211.772684</td>\n",
       "      <td>1628.314482</td>\n",
       "      <td>-0.318852</td>\n",
       "      <td>0.015454</td>\n",
       "    </tr>\n",
       "    <tr>\n",
       "      <th>4</th>\n",
       "      <td>KNeighborsRegressor</td>\n",
       "      <td>-36363.117108</td>\n",
       "      <td>3745.678586</td>\n",
       "      <td>-20522.138012</td>\n",
       "      <td>1261.921637</td>\n",
       "      <td>-0.328637</td>\n",
       "      <td>0.012755</td>\n",
       "    </tr>\n",
       "    <tr>\n",
       "      <th>5</th>\n",
       "      <td>DecisionTreeRegressor</td>\n",
       "      <td>-47725.029183</td>\n",
       "      <td>4191.574970</td>\n",
       "      <td>-24938.090515</td>\n",
       "      <td>1463.332397</td>\n",
       "      <td>-0.365888</td>\n",
       "      <td>0.035627</td>\n",
       "    </tr>\n",
       "    <tr>\n",
       "      <th>3</th>\n",
       "      <td>ElasticNet</td>\n",
       "      <td>-55011.751870</td>\n",
       "      <td>5453.820927</td>\n",
       "      <td>-34685.782714</td>\n",
       "      <td>2040.419197</td>\n",
       "      <td>-0.605482</td>\n",
       "      <td>0.021134</td>\n",
       "    </tr>\n",
       "    <tr>\n",
       "      <th>1</th>\n",
       "      <td>Ridge</td>\n",
       "      <td>-50668.668937</td>\n",
       "      <td>5335.875510</td>\n",
       "      <td>-32885.142223</td>\n",
       "      <td>1982.073907</td>\n",
       "      <td>-0.606862</td>\n",
       "      <td>0.035691</td>\n",
       "    </tr>\n",
       "    <tr>\n",
       "      <th>2</th>\n",
       "      <td>Lasso</td>\n",
       "      <td>-50674.673208</td>\n",
       "      <td>5339.428043</td>\n",
       "      <td>-32895.645758</td>\n",
       "      <td>1987.466337</td>\n",
       "      <td>-0.607237</td>\n",
       "      <td>0.035782</td>\n",
       "    </tr>\n",
       "    <tr>\n",
       "      <th>0</th>\n",
       "      <td>LinearRegression</td>\n",
       "      <td>-50676.541540</td>\n",
       "      <td>5338.652439</td>\n",
       "      <td>-32897.895901</td>\n",
       "      <td>1989.842864</td>\n",
       "      <td>-0.607308</td>\n",
       "      <td>0.035806</td>\n",
       "    </tr>\n",
       "    <tr>\n",
       "      <th>7</th>\n",
       "      <td>AdaBoostRegressor</td>\n",
       "      <td>-57770.315175</td>\n",
       "      <td>2013.670622</td>\n",
       "      <td>-49762.541720</td>\n",
       "      <td>1987.321092</td>\n",
       "      <td>-1.082164</td>\n",
       "      <td>0.064093</td>\n",
       "    </tr>\n",
       "  </tbody>\n",
       "</table>\n",
       "</div>"
      ],
      "text/plain": [
       "                       model     rmse_mean     rmse_std      mae_mean  \\\n",
       "9               XGBRegressor -31864.470225  2690.264581 -18006.181752   \n",
       "6      RandomForestRegressor -33817.631651  1897.008529 -18568.641221   \n",
       "8  GradientBoostingRegressor -36020.252964  3086.721826 -21211.772684   \n",
       "4        KNeighborsRegressor -36363.117108  3745.678586 -20522.138012   \n",
       "5      DecisionTreeRegressor -47725.029183  4191.574970 -24938.090515   \n",
       "3                 ElasticNet -55011.751870  5453.820927 -34685.782714   \n",
       "1                      Ridge -50668.668937  5335.875510 -32885.142223   \n",
       "2                      Lasso -50674.673208  5339.428043 -32895.645758   \n",
       "0           LinearRegression -50676.541540  5338.652439 -32897.895901   \n",
       "7          AdaBoostRegressor -57770.315175  2013.670622 -49762.541720   \n",
       "\n",
       "       mae_std  mape_mean  mape_std  \n",
       "9  1362.874180  -0.272911  0.008889  \n",
       "6   860.998229  -0.286076  0.006685  \n",
       "8  1628.314482  -0.318852  0.015454  \n",
       "4  1261.921637  -0.328637  0.012755  \n",
       "5  1463.332397  -0.365888  0.035627  \n",
       "3  2040.419197  -0.605482  0.021134  \n",
       "1  1982.073907  -0.606862  0.035691  \n",
       "2  1987.466337  -0.607237  0.035782  \n",
       "0  1989.842864  -0.607308  0.035806  \n",
       "7  1987.321092  -1.082164  0.064093  "
      ]
     },
     "execution_count": 13,
     "metadata": {},
     "output_type": "execute_result"
    }
   ],
   "source": [
    "# Sorting the DataFrame 'score_cv' based on the 'rmse_mean' column\n",
    "# in descending order (from highest to lowest).\n",
    "score_cv.sort_values(by='mape_mean', ascending=False)"
   ]
  },
  {
   "cell_type": "code",
   "execution_count": 14,
   "metadata": {},
   "outputs": [
    {
     "data": {
      "text/html": [
       "<div>\n",
       "<style scoped>\n",
       "    .dataframe tbody tr th:only-of-type {\n",
       "        vertical-align: middle;\n",
       "    }\n",
       "\n",
       "    .dataframe tbody tr th {\n",
       "        vertical-align: top;\n",
       "    }\n",
       "\n",
       "    .dataframe thead th {\n",
       "        text-align: right;\n",
       "    }\n",
       "</style>\n",
       "<table border=\"1\" class=\"dataframe\">\n",
       "  <thead>\n",
       "    <tr style=\"text-align: right;\">\n",
       "      <th></th>\n",
       "      <th>model</th>\n",
       "      <th>score_rmse</th>\n",
       "      <th>score_mae</th>\n",
       "      <th>score_mape</th>\n",
       "    </tr>\n",
       "  </thead>\n",
       "  <tbody>\n",
       "    <tr>\n",
       "      <th>0</th>\n",
       "      <td>XGBRegressor</td>\n",
       "      <td>27085.84955</td>\n",
       "      <td>14884.088661</td>\n",
       "      <td>0.232421</td>\n",
       "    </tr>\n",
       "  </tbody>\n",
       "</table>\n",
       "</div>"
      ],
      "text/plain": [
       "          model   score_rmse     score_mae  score_mape\n",
       "0  XGBRegressor  27085.84955  14884.088661    0.232421"
      ]
     },
     "execution_count": 14,
     "metadata": {},
     "output_type": "execute_result"
    }
   ],
   "source": [
    "# Define the list of models to evaluate\n",
    "list_algo = [xgboost]\n",
    "\n",
    "# Initialize lists to store the performance scores\n",
    "score_rmse = []\n",
    "score_mae = []\n",
    "score_mape = []\n",
    "\n",
    "# Predict on the test set\n",
    "for algo in list_algo:\n",
    "    # Create a pipeline with preprocessing and model\n",
    "    model = Pipeline([\n",
    "        ('preprocessing', transformer),\n",
    "        ('model', algo)\n",
    "    ])\n",
    "\n",
    "    # Fit the model on the training data\n",
    "    model.fit(X_train, y_train)\n",
    "    \n",
    "    # Predict on the test data\n",
    "    y_pred = model.predict(X_test)\n",
    "    \n",
    "    # Calculate and store performance metrics\n",
    "    score_rmse.append(np.sqrt(mean_squared_error(y_test, y_pred)))\n",
    "    score_mae.append(mean_absolute_error(y_test, y_pred))\n",
    "    score_mape.append(mean_absolute_percentage_error(y_test, y_pred))\n",
    "\n",
    "# Create a DataFrame to store the results of model evaluations\n",
    "score_before_tuning = pd.DataFrame({\n",
    "    'model': [str(x).split('(')[0] for x in list_algo],  # Extract model names from the list\n",
    "    'score_rmse': score_rmse,                            # Store RMSE scores\n",
    "    'score_mae': score_mae,                              # Store MAE scores\n",
    "    'score_mape': score_mape                             # Store MAPE scores\n",
    "})\n",
    "\n",
    "# Display the DataFrame\n",
    "score_before_tuning"
   ]
  },
  {
   "cell_type": "code",
   "execution_count": 15,
   "metadata": {},
   "outputs": [
    {
     "data": {
      "text/html": [
       "<div>\n",
       "<style scoped>\n",
       "    .dataframe tbody tr th:only-of-type {\n",
       "        vertical-align: middle;\n",
       "    }\n",
       "\n",
       "    .dataframe tbody tr th {\n",
       "        vertical-align: top;\n",
       "    }\n",
       "\n",
       "    .dataframe thead th {\n",
       "        text-align: right;\n",
       "    }\n",
       "</style>\n",
       "<table border=\"1\" class=\"dataframe\">\n",
       "  <thead>\n",
       "    <tr style=\"text-align: right;\">\n",
       "      <th></th>\n",
       "      <th>model</th>\n",
       "      <th>rmse_mean</th>\n",
       "      <th>rmse_std</th>\n",
       "      <th>mae_mean</th>\n",
       "      <th>mae_std</th>\n",
       "      <th>mape_mean</th>\n",
       "      <th>mape_std</th>\n",
       "    </tr>\n",
       "  </thead>\n",
       "  <tbody>\n",
       "    <tr>\n",
       "      <th>9</th>\n",
       "      <td>XGBRegressor</td>\n",
       "      <td>-31864.470225</td>\n",
       "      <td>2690.264581</td>\n",
       "      <td>-18006.181752</td>\n",
       "      <td>1362.87418</td>\n",
       "      <td>-0.272911</td>\n",
       "      <td>0.008889</td>\n",
       "    </tr>\n",
       "  </tbody>\n",
       "</table>\n",
       "</div>"
      ],
      "text/plain": [
       "          model     rmse_mean     rmse_std      mae_mean     mae_std  \\\n",
       "9  XGBRegressor -31864.470225  2690.264581 -18006.181752  1362.87418   \n",
       "\n",
       "   mape_mean  mape_std  \n",
       "9  -0.272911  0.008889  "
      ]
     },
     "execution_count": 15,
     "metadata": {},
     "output_type": "execute_result"
    }
   ],
   "source": [
    "# Selecting the 10th row from the score_cv DataFrame to view the benchmark model performance metrics\n",
    "score_cv.iloc[[9]]"
   ]
  },
  {
   "cell_type": "markdown",
   "metadata": {},
   "source": [
    "### **2. Hyperparameter Tuning**"
   ]
  },
  {
   "cell_type": "code",
   "execution_count": 16,
   "metadata": {},
   "outputs": [],
   "source": [
    "def instantiate_model(trial: Trial) -> Pipeline:\n",
    "    params = {\n",
    "        'xgb': {\n",
    "            'max_depth': trial.suggest_int('max_depth', 1, 10), \n",
    "            'learning_rate': trial.suggest_float('learning_rate', 0.01, 1),\n",
    "            'n_estimators': trial.suggest_int('n_estimators', 100, 200),\n",
    "            'subsample': trial.suggest_float('subsample', 0.2, 1),\n",
    "            'gamma': trial.suggest_int('gamma', 1, 10),\n",
    "            'colsample_bytree': trial.suggest_float('colsample_bytree', 0.1, 1),\n",
    "            'reg_alpha': trial.suggest_float('reg_alpha', 1e-5, 1e-1, log=True),\n",
    "            'random_state': trial.suggest_int('random_state', 0, 42)\n",
    "        },\n",
    "        'onehot': {\n",
    "            'drop': trial.suggest_categorical('drop', [None, 'first'])\n",
    "        },\n",
    "    }\n",
    "\n",
    "    transformer = ColumnTransformer([\n",
    "        ('binary', BinaryEncoder(), ['Type', 'Region', 'Make']),                                # Apply BinaryEncoder to 'Type', 'Region', and 'Make'\n",
    "        ('onehot', OneHotEncoder(**params['onehot']), ['Gear_Type', 'Origin', 'Options']),      # Apply OneHotEncoder to 'Gear_Type', 'Origin', and 'Options'\n",
    "        ('robust', RobustScaler(), ['Year', 'Engine_Size', 'Mileage']),                         # Apply RobustScaler to 'Year', 'Engine_Size', and 'Mileage'\n",
    "    ], remainder='passthrough')                                                                 # Pass through other columns without transformation\n",
    "\n",
    "    model = Pipeline([\n",
    "        ('preprocess', transformer),\n",
    "        ('model', XGBRegressor(**params['xgb']))\n",
    "    ])\n",
    "\n",
    "    return model"
   ]
  },
  {
   "cell_type": "code",
   "execution_count": 17,
   "metadata": {},
   "outputs": [],
   "source": [
    "def objective(trial):\n",
    "    estimator = instantiate_model(trial)\n",
    "    skfold = KFold(n_splits=5, shuffle=True, random_state=0)\n",
    "    scores = cross_val_score(estimator, X_train, y_train, cv=skfold, scoring='neg_root_mean_squared_error')\n",
    "    \n",
    "    return np.mean(scores)"
   ]
  },
  {
   "cell_type": "code",
   "execution_count": 18,
   "metadata": {},
   "outputs": [
    {
     "name": "stderr",
     "output_type": "stream",
     "text": [
      "[I 2024-10-07 19:12:50,214] A new study created in memory with name: optimization\n"
     ]
    }
   ],
   "source": [
    "study = create_study(study_name='optimization', direction='maximize', pruner=optuna.pruners.MedianPruner())"
   ]
  },
  {
   "cell_type": "code",
   "execution_count": 19,
   "metadata": {},
   "outputs": [
    {
     "name": "stderr",
     "output_type": "stream",
     "text": [
      "[I 2024-10-07 19:12:51,716] Trial 0 finished with value: -35107.04967695009 and parameters: {'max_depth': 4, 'learning_rate': 0.37682639636416987, 'n_estimators': 129, 'subsample': 0.39919144328142064, 'gamma': 9, 'colsample_bytree': 0.8075497483822798, 'reg_alpha': 0.000282770992823989, 'random_state': 39, 'drop': None}. Best is trial 0 with value: -35107.04967695009.\n",
      "[I 2024-10-07 19:12:53,566] Trial 1 finished with value: -36344.49976774887 and parameters: {'max_depth': 9, 'learning_rate': 0.31208576055155435, 'n_estimators': 178, 'subsample': 0.9483000430717408, 'gamma': 2, 'colsample_bytree': 0.1357595213515504, 'reg_alpha': 4.601959161673967e-05, 'random_state': 27, 'drop': None}. Best is trial 0 with value: -35107.04967695009.\n",
      "[I 2024-10-07 19:12:54,777] Trial 2 finished with value: -39374.81294517411 and parameters: {'max_depth': 4, 'learning_rate': 0.5335489608284258, 'n_estimators': 160, 'subsample': 0.4070303631197362, 'gamma': 5, 'colsample_bytree': 0.543048171619433, 'reg_alpha': 0.010354315352984554, 'random_state': 8, 'drop': None}. Best is trial 0 with value: -35107.04967695009.\n",
      "[I 2024-10-07 19:12:56,081] Trial 3 finished with value: -48084.998811911246 and parameters: {'max_depth': 4, 'learning_rate': 0.9119579859520635, 'n_estimators': 188, 'subsample': 0.46077075356961616, 'gamma': 2, 'colsample_bytree': 0.10840036173214972, 'reg_alpha': 0.07608069749011176, 'random_state': 31, 'drop': 'first'}. Best is trial 0 with value: -35107.04967695009.\n",
      "[I 2024-10-07 19:12:57,696] Trial 4 finished with value: -32639.460132767133 and parameters: {'max_depth': 6, 'learning_rate': 0.186257963764118, 'n_estimators': 133, 'subsample': 0.3433245268219671, 'gamma': 2, 'colsample_bytree': 0.5021217444262094, 'reg_alpha': 0.016238808164081953, 'random_state': 14, 'drop': None}. Best is trial 4 with value: -32639.460132767133.\n",
      "[I 2024-10-07 19:12:58,843] Trial 5 finished with value: -33403.18633814659 and parameters: {'max_depth': 3, 'learning_rate': 0.6348054356173998, 'n_estimators': 175, 'subsample': 0.7974445315334895, 'gamma': 9, 'colsample_bytree': 0.5978242631668711, 'reg_alpha': 0.07533367145781937, 'random_state': 28, 'drop': None}. Best is trial 4 with value: -32639.460132767133.\n",
      "[I 2024-10-07 19:12:59,550] Trial 6 finished with value: -35946.837277354105 and parameters: {'max_depth': 2, 'learning_rate': 0.27808984813980225, 'n_estimators': 151, 'subsample': 0.9577337315912275, 'gamma': 6, 'colsample_bytree': 0.45455544715861607, 'reg_alpha': 0.00034381654091433816, 'random_state': 20, 'drop': None}. Best is trial 4 with value: -32639.460132767133.\n",
      "[I 2024-10-07 19:13:00,048] Trial 7 finished with value: -45727.52577006714 and parameters: {'max_depth': 1, 'learning_rate': 0.1954720618755534, 'n_estimators': 149, 'subsample': 0.6052033647175659, 'gamma': 6, 'colsample_bytree': 0.20902331538722896, 'reg_alpha': 0.0044462834044867415, 'random_state': 21, 'drop': None}. Best is trial 4 with value: -32639.460132767133.\n",
      "[I 2024-10-07 19:13:01,037] Trial 8 finished with value: -32480.56236057876 and parameters: {'max_depth': 5, 'learning_rate': 0.3403534873359806, 'n_estimators': 100, 'subsample': 0.8152161014432873, 'gamma': 7, 'colsample_bytree': 0.44515468674900904, 'reg_alpha': 1.3819196815219398e-05, 'random_state': 25, 'drop': None}. Best is trial 8 with value: -32480.56236057876.\n",
      "[I 2024-10-07 19:13:04,321] Trial 9 finished with value: -31300.027424020518 and parameters: {'max_depth': 10, 'learning_rate': 0.19133618672281744, 'n_estimators': 145, 'subsample': 0.5206454487957526, 'gamma': 7, 'colsample_bytree': 0.9991957459805748, 'reg_alpha': 1.7367478403926332e-05, 'random_state': 1, 'drop': None}. Best is trial 9 with value: -31300.027424020518.\n",
      "[I 2024-10-07 19:13:06,443] Trial 10 finished with value: -32045.41697642084 and parameters: {'max_depth': 10, 'learning_rate': 0.030962601933058748, 'n_estimators': 101, 'subsample': 0.20843239416712056, 'gamma': 10, 'colsample_bytree': 0.9966144250502675, 'reg_alpha': 6.630101004618098e-05, 'random_state': 1, 'drop': 'first'}. Best is trial 9 with value: -31300.027424020518.\n",
      "[I 2024-10-07 19:13:08,274] Trial 11 finished with value: -31808.257548174668 and parameters: {'max_depth': 10, 'learning_rate': 0.031996541479350715, 'n_estimators': 101, 'subsample': 0.22459246310564884, 'gamma': 10, 'colsample_bytree': 0.9930507992811943, 'reg_alpha': 3.765070527997538e-05, 'random_state': 0, 'drop': 'first'}. Best is trial 9 with value: -31300.027424020518.\n",
      "[I 2024-10-07 19:13:10,188] Trial 12 finished with value: -38932.67017688677 and parameters: {'max_depth': 8, 'learning_rate': 0.01097901815814789, 'n_estimators': 120, 'subsample': 0.5764773340182563, 'gamma': 8, 'colsample_bytree': 0.9869604718158984, 'reg_alpha': 1.1323463610071707e-05, 'random_state': 2, 'drop': 'first'}. Best is trial 9 with value: -31300.027424020518.\n",
      "[I 2024-10-07 19:13:12,556] Trial 13 finished with value: -31835.248166467984 and parameters: {'max_depth': 7, 'learning_rate': 0.12625278078626917, 'n_estimators': 200, 'subsample': 0.22752403730842166, 'gamma': 4, 'colsample_bytree': 0.7977618054048551, 'reg_alpha': 7.83090818354875e-05, 'random_state': 8, 'drop': 'first'}. Best is trial 9 with value: -31300.027424020518.\n",
      "[I 2024-10-07 19:13:14,925] Trial 14 finished with value: -45111.01027564659 and parameters: {'max_depth': 10, 'learning_rate': 0.7381704072597471, 'n_estimators': 116, 'subsample': 0.5568621052007017, 'gamma': 10, 'colsample_bytree': 0.8220681105302404, 'reg_alpha': 0.0007239113621068092, 'random_state': 8, 'drop': 'first'}. Best is trial 9 with value: -31300.027424020518.\n",
      "[I 2024-10-07 19:13:17,408] Trial 15 finished with value: -33545.5768117079 and parameters: {'max_depth': 8, 'learning_rate': 0.4378804187957292, 'n_estimators': 145, 'subsample': 0.703755527987257, 'gamma': 8, 'colsample_bytree': 0.8994412674670758, 'reg_alpha': 3.047057765135591e-05, 'random_state': 0, 'drop': 'first'}. Best is trial 9 with value: -31300.027424020518.\n",
      "[I 2024-10-07 19:13:19,430] Trial 16 finished with value: -31456.436580835783 and parameters: {'max_depth': 9, 'learning_rate': 0.15475538628924945, 'n_estimators': 114, 'subsample': 0.2625589842883116, 'gamma': 4, 'colsample_bytree': 0.6977987838869015, 'reg_alpha': 0.00017560040804700248, 'random_state': 15, 'drop': 'first'}. Best is trial 9 with value: -31300.027424020518.\n",
      "[I 2024-10-07 19:13:21,499] Trial 17 finished with value: -46465.03857311637 and parameters: {'max_depth': 8, 'learning_rate': 0.5514761407650731, 'n_estimators': 136, 'subsample': 0.31769513582770437, 'gamma': 3, 'colsample_bytree': 0.6703753380053075, 'reg_alpha': 0.00019277606731258693, 'random_state': 15, 'drop': 'first'}. Best is trial 9 with value: -31300.027424020518.\n",
      "[I 2024-10-07 19:13:23,562] Trial 18 finished with value: -31196.065588448117 and parameters: {'max_depth': 9, 'learning_rate': 0.16117367521737289, 'n_estimators': 116, 'subsample': 0.49676923477671164, 'gamma': 4, 'colsample_bytree': 0.6890001588128423, 'reg_alpha': 0.0015257974415999334, 'random_state': 12, 'drop': 'first'}. Best is trial 18 with value: -31196.065588448117.\n",
      "[I 2024-10-07 19:13:25,544] Trial 19 finished with value: -32158.41544619248 and parameters: {'max_depth': 6, 'learning_rate': 0.2514435772030983, 'n_estimators': 168, 'subsample': 0.5083485165951087, 'gamma': 5, 'colsample_bytree': 0.35438793257193923, 'reg_alpha': 0.0024538171835700113, 'random_state': 6, 'drop': None}. Best is trial 18 with value: -31196.065588448117.\n",
      "[I 2024-10-07 19:13:28,024] Trial 20 finished with value: -37512.8935130186 and parameters: {'max_depth': 9, 'learning_rate': 0.4366806124449427, 'n_estimators': 139, 'subsample': 0.6561964558068094, 'gamma': 1, 'colsample_bytree': 0.35108893934077257, 'reg_alpha': 0.001289976822028616, 'random_state': 11, 'drop': None}. Best is trial 18 with value: -31196.065588448117.\n",
      "[I 2024-10-07 19:13:29,960] Trial 21 finished with value: -30917.94953055014 and parameters: {'max_depth': 9, 'learning_rate': 0.13037095634992224, 'n_estimators': 117, 'subsample': 0.32242613985612845, 'gamma': 4, 'colsample_bytree': 0.6748204170530534, 'reg_alpha': 0.00012799532915989213, 'random_state': 17, 'drop': 'first'}. Best is trial 21 with value: -30917.94953055014.\n",
      "[I 2024-10-07 19:13:31,585] Trial 22 finished with value: -31074.273273210543 and parameters: {'max_depth': 7, 'learning_rate': 0.11711254158180312, 'n_estimators': 121, 'subsample': 0.4727141838644461, 'gamma': 4, 'colsample_bytree': 0.6855983060970748, 'reg_alpha': 0.000595074056070899, 'random_state': 17, 'drop': 'first'}. Best is trial 21 with value: -30917.94953055014.\n",
      "[I 2024-10-07 19:13:33,190] Trial 23 finished with value: -30512.035230186553 and parameters: {'max_depth': 7, 'learning_rate': 0.13851355294756046, 'n_estimators': 123, 'subsample': 0.434952428382966, 'gamma': 4, 'colsample_bytree': 0.6546028282624587, 'reg_alpha': 0.0007691454451840186, 'random_state': 19, 'drop': 'first'}. Best is trial 23 with value: -30512.035230186553.\n",
      "[I 2024-10-07 19:13:34,835] Trial 24 finished with value: -30232.03868422442 and parameters: {'max_depth': 7, 'learning_rate': 0.09046828004462082, 'n_estimators': 124, 'subsample': 0.4186539996550816, 'gamma': 3, 'colsample_bytree': 0.6449762024865476, 'reg_alpha': 0.0005589254887004691, 'random_state': 21, 'drop': 'first'}. Best is trial 24 with value: -30232.03868422442.\n",
      "[I 2024-10-07 19:13:36,499] Trial 25 finished with value: -30196.42360041379 and parameters: {'max_depth': 7, 'learning_rate': 0.08228589606377461, 'n_estimators': 127, 'subsample': 0.3461504407918033, 'gamma': 3, 'colsample_bytree': 0.5954982482864963, 'reg_alpha': 0.0004548994218418836, 'random_state': 21, 'drop': 'first'}. Best is trial 25 with value: -30196.42360041379.\n",
      "[I 2024-10-07 19:13:38,155] Trial 26 finished with value: -30046.872898233676 and parameters: {'max_depth': 7, 'learning_rate': 0.08120681768939117, 'n_estimators': 127, 'subsample': 0.40028163351651025, 'gamma': 3, 'colsample_bytree': 0.592519957511103, 'reg_alpha': 0.004253473197235507, 'random_state': 21, 'drop': 'first'}. Best is trial 26 with value: -30046.872898233676.\n",
      "[I 2024-10-07 19:13:39,271] Trial 27 finished with value: -31546.14282721352 and parameters: {'max_depth': 5, 'learning_rate': 0.07253870338075152, 'n_estimators': 108, 'subsample': 0.3680525311563513, 'gamma': 1, 'colsample_bytree': 0.6102039793996391, 'reg_alpha': 0.00423104717745661, 'random_state': 34, 'drop': 'first'}. Best is trial 26 with value: -30046.872898233676.\n",
      "[I 2024-10-07 19:13:40,688] Trial 28 finished with value: -35480.35713152094 and parameters: {'max_depth': 6, 'learning_rate': 0.2506272480567383, 'n_estimators': 131, 'subsample': 0.2844139603798015, 'gamma': 3, 'colsample_bytree': 0.38605353281268223, 'reg_alpha': 0.018284412311313655, 'random_state': 23, 'drop': 'first'}. Best is trial 26 with value: -30046.872898233676.\n",
      "[I 2024-10-07 19:13:42,371] Trial 29 finished with value: -36609.17313268869 and parameters: {'max_depth': 7, 'learning_rate': 0.37075610999030884, 'n_estimators': 128, 'subsample': 0.3936191620002359, 'gamma': 3, 'colsample_bytree': 0.761330783164768, 'reg_alpha': 0.0003241509241975034, 'random_state': 38, 'drop': 'first'}. Best is trial 26 with value: -30046.872898233676.\n",
      "[I 2024-10-07 19:13:43,570] Trial 30 finished with value: -77113.82384111988 and parameters: {'max_depth': 5, 'learning_rate': 0.9726720356363205, 'n_estimators': 129, 'subsample': 0.4245013987396347, 'gamma': 2, 'colsample_bytree': 0.5578764283855611, 'reg_alpha': 0.002692476601701828, 'random_state': 23, 'drop': 'first'}. Best is trial 26 with value: -30046.872898233676.\n",
      "[I 2024-10-07 19:13:45,171] Trial 31 finished with value: -30181.18082963651 and parameters: {'max_depth': 7, 'learning_rate': 0.09212411457302241, 'n_estimators': 123, 'subsample': 0.4353098225963446, 'gamma': 3, 'colsample_bytree': 0.6145097953267188, 'reg_alpha': 0.0005537399906568663, 'random_state': 19, 'drop': 'first'}. Best is trial 26 with value: -30046.872898233676.\n",
      "[I 2024-10-07 19:13:46,795] Trial 32 finished with value: -29770.65634195722 and parameters: {'max_depth': 8, 'learning_rate': 0.07705309633597604, 'n_estimators': 108, 'subsample': 0.3604720421848726, 'gamma': 3, 'colsample_bytree': 0.593715272878277, 'reg_alpha': 0.0004326762895732945, 'random_state': 27, 'drop': 'first'}. Best is trial 32 with value: -29770.65634195722.\n",
      "[I 2024-10-07 19:13:48,395] Trial 33 finished with value: -30394.023501085438 and parameters: {'max_depth': 8, 'learning_rate': 0.06846458894129845, 'n_estimators': 108, 'subsample': 0.2867398018225533, 'gamma': 1, 'colsample_bytree': 0.529151586997932, 'reg_alpha': 0.007091931289898824, 'random_state': 28, 'drop': 'first'}. Best is trial 32 with value: -29770.65634195722.\n",
      "[I 2024-10-07 19:13:49,642] Trial 34 finished with value: -34086.136171134815 and parameters: {'max_depth': 6, 'learning_rate': 0.2655080869472797, 'n_estimators': 111, 'subsample': 0.369931048556614, 'gamma': 5, 'colsample_bytree': 0.5883916516426121, 'reg_alpha': 0.0018038698436952593, 'random_state': 31, 'drop': 'first'}. Best is trial 32 with value: -29770.65634195722.\n",
      "[I 2024-10-07 19:13:51,717] Trial 35 finished with value: -33743.01042312416 and parameters: {'max_depth': 8, 'learning_rate': 0.21474213503071987, 'n_estimators': 140, 'subsample': 0.346802870695725, 'gamma': 2, 'colsample_bytree': 0.4814188094543561, 'reg_alpha': 0.0004180371555890176, 'random_state': 25, 'drop': 'first'}. Best is trial 32 with value: -29770.65634195722.\n",
      "[I 2024-10-07 19:13:53,772] Trial 36 finished with value: -53899.828808775885 and parameters: {'max_depth': 7, 'learning_rate': 0.796011912693863, 'n_estimators': 157, 'subsample': 0.46075577674999546, 'gamma': 3, 'colsample_bytree': 0.7423154077309899, 'reg_alpha': 0.0009922715175569603, 'random_state': 30, 'drop': 'first'}. Best is trial 32 with value: -29770.65634195722.\n",
      "[I 2024-10-07 19:13:55,010] Trial 37 finished with value: -34864.91439318376 and parameters: {'max_depth': 6, 'learning_rate': 0.3138119616794609, 'n_estimators': 106, 'subsample': 0.39611836790223, 'gamma': 2, 'colsample_bytree': 0.41018388260697536, 'reg_alpha': 0.028062449560674243, 'random_state': 25, 'drop': 'first'}. Best is trial 32 with value: -29770.65634195722.\n",
      "[I 2024-10-07 19:13:55,984] Trial 38 finished with value: -35496.89123728392 and parameters: {'max_depth': 4, 'learning_rate': 0.06625686638141742, 'n_estimators': 127, 'subsample': 0.3080325240191639, 'gamma': 5, 'colsample_bytree': 0.2785530599676753, 'reg_alpha': 0.0002470140930104876, 'random_state': 18, 'drop': 'first'}. Best is trial 32 with value: -29770.65634195722.\n",
      "[I 2024-10-07 19:13:58,143] Trial 39 finished with value: -37492.314878933386 and parameters: {'max_depth': 8, 'learning_rate': 0.014316202583331064, 'n_estimators': 138, 'subsample': 0.5298881364459576, 'gamma': 3, 'colsample_bytree': 0.5265139790679513, 'reg_alpha': 0.004252112656136211, 'random_state': 42, 'drop': 'first'}. Best is trial 32 with value: -29770.65634195722.\n",
      "[I 2024-10-07 19:13:58,958] Trial 40 finished with value: -32750.8731533547 and parameters: {'max_depth': 3, 'learning_rate': 0.2176019030678652, 'n_estimators': 132, 'subsample': 0.8772119516716725, 'gamma': 2, 'colsample_bytree': 0.5776551133288115, 'reg_alpha': 0.00011148161127958829, 'random_state': 34, 'drop': 'first'}. Best is trial 32 with value: -29770.65634195722.\n",
      "[I 2024-10-07 19:14:00,632] Trial 41 finished with value: -30433.982963802933 and parameters: {'max_depth': 7, 'learning_rate': 0.09191208464425177, 'n_estimators': 124, 'subsample': 0.42587408977617025, 'gamma': 3, 'colsample_bytree': 0.6135917860311096, 'reg_alpha': 0.000568597935886985, 'random_state': 22, 'drop': 'first'}. Best is trial 32 with value: -29770.65634195722.\n",
      "[I 2024-10-07 19:14:02,231] Trial 42 finished with value: -30633.257757740863 and parameters: {'max_depth': 7, 'learning_rate': 0.08574412973805658, 'n_estimators': 124, 'subsample': 0.36153292213694105, 'gamma': 3, 'colsample_bytree': 0.6384787064873401, 'reg_alpha': 0.00042664506092069044, 'random_state': 20, 'drop': 'first'}. Best is trial 32 with value: -29770.65634195722.\n",
      "[I 2024-10-07 19:14:03,526] Trial 43 finished with value: -31118.416308249318 and parameters: {'max_depth': 6, 'learning_rate': 0.18139971168051428, 'n_estimators': 112, 'subsample': 0.46127350133535905, 'gamma': 2, 'colsample_bytree': 0.7326100466451575, 'reg_alpha': 0.0009350304226642662, 'random_state': 27, 'drop': 'first'}. Best is trial 32 with value: -29770.65634195722.\n",
      "[I 2024-10-07 19:14:05,449] Trial 44 finished with value: -30157.55962434507 and parameters: {'max_depth': 8, 'learning_rate': 0.05735763532348002, 'n_estimators': 120, 'subsample': 0.6195260246087135, 'gamma': 2, 'colsample_bytree': 0.4853463374267798, 'reg_alpha': 0.0083474512373994, 'random_state': 21, 'drop': 'first'}. Best is trial 32 with value: -29770.65634195722.\n",
      "[I 2024-10-07 19:14:07,193] Trial 45 finished with value: -31436.238751657947 and parameters: {'max_depth': 8, 'learning_rate': 0.04237722808845466, 'n_estimators': 107, 'subsample': 0.6465174437666265, 'gamma': 1, 'colsample_bytree': 0.48030987805682446, 'reg_alpha': 0.009880166769150635, 'random_state': 24, 'drop': None}. Best is trial 32 with value: -29770.65634195722.\n",
      "[I 2024-10-07 19:14:09,366] Trial 46 finished with value: -42042.53861650291 and parameters: {'max_depth': 9, 'learning_rate': 0.6430534546143132, 'n_estimators': 118, 'subsample': 0.7327387773815769, 'gamma': 2, 'colsample_bytree': 0.4467169456745692, 'reg_alpha': 0.02008787709962929, 'random_state': 29, 'drop': 'first'}. Best is trial 32 with value: -29770.65634195722.\n",
      "[I 2024-10-07 19:14:11,514] Trial 47 finished with value: -41191.10785461413 and parameters: {'max_depth': 8, 'learning_rate': 0.010865840876970567, 'n_estimators': 134, 'subsample': 0.6087974964295318, 'gamma': 1, 'colsample_bytree': 0.540539901614992, 'reg_alpha': 0.03150444141971827, 'random_state': 26, 'drop': 'first'}. Best is trial 32 with value: -29770.65634195722.\n",
      "[I 2024-10-07 19:14:13,856] Trial 48 finished with value: -35004.32769010871 and parameters: {'max_depth': 9, 'learning_rate': 0.2176143568032572, 'n_estimators': 143, 'subsample': 0.2357783672268156, 'gamma': 6, 'colsample_bytree': 0.5012906034420513, 'reg_alpha': 0.007171356919819377, 'random_state': 13, 'drop': 'first'}. Best is trial 32 with value: -29770.65634195722.\n",
      "[I 2024-10-07 19:14:14,876] Trial 49 finished with value: -31211.374119450786 and parameters: {'max_depth': 5, 'learning_rate': 0.2979346966182199, 'n_estimators': 103, 'subsample': 0.5556345969161619, 'gamma': 2, 'colsample_bytree': 0.5675577699958483, 'reg_alpha': 0.03988483240046102, 'random_state': 16, 'drop': None}. Best is trial 32 with value: -29770.65634195722.\n",
      "[I 2024-10-07 19:14:16,590] Trial 50 finished with value: -30069.206861809413 and parameters: {'max_depth': 6, 'learning_rate': 0.12902159669663812, 'n_estimators': 149, 'subsample': 0.622423539222837, 'gamma': 4, 'colsample_bytree': 0.8578788676726208, 'reg_alpha': 0.002114971234222125, 'random_state': 19, 'drop': 'first'}. Best is trial 32 with value: -29770.65634195722.\n",
      "[I 2024-10-07 19:14:18,302] Trial 51 finished with value: -29511.382035465194 and parameters: {'max_depth': 6, 'learning_rate': 0.1089844717361879, 'n_estimators': 152, 'subsample': 0.723269416236177, 'gamma': 4, 'colsample_bytree': 0.8760391737395763, 'reg_alpha': 0.005406984682847781, 'random_state': 19, 'drop': 'first'}. Best is trial 51 with value: -29511.382035465194.\n",
      "[I 2024-10-07 19:14:19,500] Trial 52 finished with value: -31117.291155345058 and parameters: {'max_depth': 4, 'learning_rate': 0.16682918702003352, 'n_estimators': 158, 'subsample': 0.7259757452436139, 'gamma': 4, 'colsample_bytree': 0.8993081600698078, 'reg_alpha': 0.0028079944759240283, 'random_state': 20, 'drop': 'first'}. Best is trial 51 with value: -29511.382035465194.\n",
      "[I 2024-10-07 19:14:20,907] Trial 53 finished with value: -29924.163174149602 and parameters: {'max_depth': 5, 'learning_rate': 0.1184187818126223, 'n_estimators': 152, 'subsample': 0.8095206402324937, 'gamma': 5, 'colsample_bytree': 0.8519782269433682, 'reg_alpha': 0.006841935957394491, 'random_state': 18, 'drop': 'first'}. Best is trial 51 with value: -29511.382035465194.\n",
      "[I 2024-10-07 19:14:22,428] Trial 54 finished with value: -30068.77925533642 and parameters: {'max_depth': 5, 'learning_rate': 0.12550611329766276, 'n_estimators': 164, 'subsample': 0.8076511277402585, 'gamma': 5, 'colsample_bytree': 0.8681898074119421, 'reg_alpha': 0.011348457605107347, 'random_state': 10, 'drop': 'first'}. Best is trial 51 with value: -29511.382035465194.\n",
      "[I 2024-10-07 19:14:23,830] Trial 55 finished with value: -30623.80586902178 and parameters: {'max_depth': 5, 'learning_rate': 0.13414694983764922, 'n_estimators': 150, 'subsample': 0.8057008072787561, 'gamma': 6, 'colsample_bytree': 0.8691240147479463, 'reg_alpha': 0.01368732284308098, 'random_state': 9, 'drop': 'first'}. Best is trial 51 with value: -29511.382035465194.\n",
      "[I 2024-10-07 19:14:24,804] Trial 56 finished with value: -32750.75161545619 and parameters: {'max_depth': 3, 'learning_rate': 0.12321934639819013, 'n_estimators': 165, 'subsample': 0.8607472914822434, 'gamma': 5, 'colsample_bytree': 0.9346580761453498, 'reg_alpha': 0.0036453789582527253, 'random_state': 5, 'drop': 'first'}. Best is trial 51 with value: -29511.382035465194.\n",
      "[I 2024-10-07 19:14:25,956] Trial 57 finished with value: -30307.844320339664 and parameters: {'max_depth': 4, 'learning_rate': 0.1855167488303165, 'n_estimators': 154, 'subsample': 0.904896049839863, 'gamma': 5, 'colsample_bytree': 0.8322049262499734, 'reg_alpha': 0.006458752065131487, 'random_state': 14, 'drop': None}. Best is trial 51 with value: -29511.382035465194.\n",
      "[I 2024-10-07 19:14:27,555] Trial 58 finished with value: -31285.091219830334 and parameters: {'max_depth': 5, 'learning_rate': 0.24445400573063988, 'n_estimators': 177, 'subsample': 0.7497812409526547, 'gamma': 6, 'colsample_bytree': 0.9580699579203061, 'reg_alpha': 0.005376661874283952, 'random_state': 18, 'drop': 'first'}. Best is trial 51 with value: -29511.382035465194.\n",
      "[I 2024-10-07 19:14:29,408] Trial 59 finished with value: -31265.097006361677 and parameters: {'max_depth': 6, 'learning_rate': 0.3437285543940274, 'n_estimators': 163, 'subsample': 0.988840578966648, 'gamma': 4, 'colsample_bytree': 0.7942898169826886, 'reg_alpha': 0.01353149582118573, 'random_state': 11, 'drop': 'first'}. Best is trial 51 with value: -29511.382035465194.\n",
      "[I 2024-10-07 19:14:31,059] Trial 60 finished with value: -30595.623305163645 and parameters: {'max_depth': 5, 'learning_rate': 0.16164466129815946, 'n_estimators': 174, 'subsample': 0.7758855502905734, 'gamma': 7, 'colsample_bytree': 0.8870684154156012, 'reg_alpha': 0.0018245187567353805, 'random_state': 16, 'drop': 'first'}. Best is trial 51 with value: -29511.382035465194.\n",
      "[I 2024-10-07 19:14:32,959] Trial 61 finished with value: -30136.30558074714 and parameters: {'max_depth': 6, 'learning_rate': 0.03757006551527784, 'n_estimators': 169, 'subsample': 0.6896572159859522, 'gamma': 5, 'colsample_bytree': 0.8518265801040698, 'reg_alpha': 0.009862887555942465, 'random_state': 22, 'drop': 'first'}. Best is trial 51 with value: -29511.382035465194.\n",
      "[I 2024-10-07 19:14:35,012] Trial 62 finished with value: -29876.24900409843 and parameters: {'max_depth': 6, 'learning_rate': 0.036723118781500294, 'n_estimators': 184, 'subsample': 0.6778928304082291, 'gamma': 5, 'colsample_bytree': 0.8521790250448233, 'reg_alpha': 0.05390016888573639, 'random_state': 23, 'drop': 'first'}. Best is trial 51 with value: -29511.382035465194.\n",
      "[I 2024-10-07 19:14:37,127] Trial 63 finished with value: -29669.546634724073 and parameters: {'max_depth': 6, 'learning_rate': 0.12616666537006682, 'n_estimators': 189, 'subsample': 0.8359185424534014, 'gamma': 4, 'colsample_bytree': 0.9243185683260225, 'reg_alpha': 0.06051627393421507, 'random_state': 24, 'drop': 'first'}. Best is trial 51 with value: -29511.382035465194.\n",
      "[I 2024-10-07 19:14:38,805] Trial 64 finished with value: -29968.03937818826 and parameters: {'max_depth': 5, 'learning_rate': 0.11653690396312322, 'n_estimators': 188, 'subsample': 0.8342299767300732, 'gamma': 5, 'colsample_bytree': 0.9421641802637687, 'reg_alpha': 0.06053599006996714, 'random_state': 24, 'drop': 'first'}. Best is trial 51 with value: -29511.382035465194.\n",
      "[I 2024-10-07 19:14:40,916] Trial 65 finished with value: -33328.49297572173 and parameters: {'max_depth': 6, 'learning_rate': 0.4397782617020114, 'n_estimators': 187, 'subsample': 0.8391053861862504, 'gamma': 4, 'colsample_bytree': 0.9419257932569749, 'reg_alpha': 0.07848629353174476, 'random_state': 24, 'drop': 'first'}. Best is trial 51 with value: -29511.382035465194.\n",
      "[I 2024-10-07 19:14:42,579] Trial 66 finished with value: -29946.40704590773 and parameters: {'max_depth': 5, 'learning_rate': 0.10550865089140374, 'n_estimators': 187, 'subsample': 0.7746830059709718, 'gamma': 5, 'colsample_bytree': 0.9652641385078766, 'reg_alpha': 0.057321992257331866, 'random_state': 27, 'drop': 'first'}. Best is trial 51 with value: -29511.382035465194.\n",
      "[I 2024-10-07 19:14:43,190] Trial 67 finished with value: -48182.947558721375 and parameters: {'max_depth': 1, 'learning_rate': 0.05189076112146931, 'n_estimators': 188, 'subsample': 0.7756581542197377, 'gamma': 7, 'colsample_bytree': 0.9627384909841545, 'reg_alpha': 0.05387121454763371, 'random_state': 32, 'drop': None}. Best is trial 51 with value: -29511.382035465194.\n",
      "[I 2024-10-07 19:14:44,585] Trial 68 finished with value: -30265.871519416418 and parameters: {'max_depth': 4, 'learning_rate': 0.20790825403768232, 'n_estimators': 193, 'subsample': 0.9164785436823517, 'gamma': 5, 'colsample_bytree': 0.9164949234485503, 'reg_alpha': 0.09892115911982874, 'random_state': 27, 'drop': 'first'}. Best is trial 51 with value: -29511.382035465194.\n",
      "[I 2024-10-07 19:14:45,654] Trial 69 finished with value: -32742.276533174736 and parameters: {'max_depth': 3, 'learning_rate': 0.11335475643997213, 'n_estimators': 184, 'subsample': 0.6912546283886409, 'gamma': 6, 'colsample_bytree': 0.7808202639819832, 'reg_alpha': 0.0546851530337244, 'random_state': 26, 'drop': 'first'}. Best is trial 51 with value: -29511.382035465194.\n",
      "[I 2024-10-07 19:14:47,444] Trial 70 finished with value: -30434.9235599528 and parameters: {'max_depth': 5, 'learning_rate': 0.1523444799211728, 'n_estimators': 199, 'subsample': 0.8319403901444621, 'gamma': 4, 'colsample_bytree': 0.9750011075253954, 'reg_alpha': 0.053863257426660975, 'random_state': 29, 'drop': 'first'}. Best is trial 51 with value: -29511.382035465194.\n",
      "[I 2024-10-07 19:14:49,493] Trial 71 finished with value: -29960.8482696573 and parameters: {'max_depth': 6, 'learning_rate': 0.03837692182596125, 'n_estimators': 182, 'subsample': 0.7897671214850673, 'gamma': 4, 'colsample_bytree': 0.924563503898957, 'reg_alpha': 0.02397982663249083, 'random_state': 23, 'drop': 'first'}. Best is trial 51 with value: -29511.382035465194.\n",
      "[I 2024-10-07 19:14:51,143] Trial 72 finished with value: -30057.119107584615 and parameters: {'max_depth': 5, 'learning_rate': 0.10016717819469305, 'n_estimators': 182, 'subsample': 0.7760270032472857, 'gamma': 5, 'colsample_bytree': 0.9238673436922821, 'reg_alpha': 0.024466962368042806, 'random_state': 24, 'drop': 'first'}. Best is trial 51 with value: -29511.382035465194.\n",
      "[I 2024-10-07 19:14:53,240] Trial 73 finished with value: -30087.839070538106 and parameters: {'max_depth': 6, 'learning_rate': 0.10437716430025591, 'n_estimators': 192, 'subsample': 0.7558457287561734, 'gamma': 4, 'colsample_bytree': 0.8157457126443375, 'reg_alpha': 0.03917178298412651, 'random_state': 23, 'drop': 'first'}. Best is trial 51 with value: -29511.382035465194.\n",
      "[I 2024-10-07 19:14:54,548] Trial 74 finished with value: -32819.38586753581 and parameters: {'max_depth': 4, 'learning_rate': 0.03447353684027611, 'n_estimators': 181, 'subsample': 0.8383527342935458, 'gamma': 6, 'colsample_bytree': 0.9937758699587282, 'reg_alpha': 0.09781739701090987, 'random_state': 26, 'drop': 'first'}. Best is trial 51 with value: -29511.382035465194.\n"
     ]
    }
   ],
   "source": [
    "study.optimize(lambda trial: objective(trial), n_trials=75)"
   ]
  },
  {
   "cell_type": "code",
   "execution_count": 20,
   "metadata": {},
   "outputs": [
    {
     "name": "stderr",
     "output_type": "stream",
     "text": [
      "[I 2024-10-07 19:14:56,688] Trial 75 finished with value: -29454.633699982904 and parameters: {'max_depth': 6, 'learning_rate': 0.056450130857786086, 'n_estimators': 195, 'subsample': 0.670566671260697, 'gamma': 4, 'colsample_bytree': 0.8346887330854736, 'reg_alpha': 0.07066571296134068, 'random_state': 28, 'drop': 'first'}. Best is trial 75 with value: -29454.633699982904.\n",
      "[I 2024-10-07 19:14:58,850] Trial 76 finished with value: -32772.18491785646 and parameters: {'max_depth': 6, 'learning_rate': 0.015116294063842062, 'n_estimators': 195, 'subsample': 0.6576522829317769, 'gamma': 4, 'colsample_bytree': 0.8371564465992453, 'reg_alpha': 0.03649537592756697, 'random_state': 32, 'drop': 'first'}. Best is trial 75 with value: -29454.633699982904.\n",
      "[I 2024-10-07 19:15:00,743] Trial 77 finished with value: -29747.534783720475 and parameters: {'max_depth': 6, 'learning_rate': 0.06897374746227666, 'n_estimators': 172, 'subsample': 0.7143027396786291, 'gamma': 4, 'colsample_bytree': 0.891124010670279, 'reg_alpha': 0.024315294883466322, 'random_state': 29, 'drop': 'first'}. Best is trial 75 with value: -29454.633699982904.\n",
      "[I 2024-10-07 19:15:02,675] Trial 78 finished with value: -29572.044580839236 and parameters: {'max_depth': 6, 'learning_rate': 0.06232472607289893, 'n_estimators': 173, 'subsample': 0.7133882750542133, 'gamma': 4, 'colsample_bytree': 0.8873835703998783, 'reg_alpha': 0.07630134097056464, 'random_state': 29, 'drop': 'first'}. Best is trial 75 with value: -29454.633699982904.\n",
      "[I 2024-10-07 19:15:04,978] Trial 79 finished with value: -29381.153771766345 and parameters: {'max_depth': 7, 'learning_rate': 0.06970785791750211, 'n_estimators': 174, 'subsample': 0.705456070303105, 'gamma': 4, 'colsample_bytree': 0.8870611205989636, 'reg_alpha': 0.041703720021931526, 'random_state': 35, 'drop': 'first'}. Best is trial 79 with value: -29381.153771766345.\n",
      "[I 2024-10-07 19:15:07,244] Trial 80 finished with value: -29774.41432587523 and parameters: {'max_depth': 7, 'learning_rate': 0.06541202273595416, 'n_estimators': 172, 'subsample': 0.6696837365795587, 'gamma': 4, 'colsample_bytree': 0.7180709387904489, 'reg_alpha': 0.07972012538822623, 'random_state': 36, 'drop': 'first'}. Best is trial 79 with value: -29381.153771766345.\n",
      "[I 2024-10-07 19:15:09,509] Trial 81 finished with value: -29167.98177621385 and parameters: {'max_depth': 7, 'learning_rate': 0.07530917098377808, 'n_estimators': 173, 'subsample': 0.6662398957831182, 'gamma': 4, 'colsample_bytree': 0.8913844246487428, 'reg_alpha': 0.07289549690168273, 'random_state': 37, 'drop': 'first'}. Best is trial 81 with value: -29167.98177621385.\n",
      "[I 2024-10-07 19:15:11,786] Trial 82 finished with value: -30059.948841409874 and parameters: {'max_depth': 7, 'learning_rate': 0.07765123347916987, 'n_estimators': 172, 'subsample': 0.7133408208033702, 'gamma': 4, 'colsample_bytree': 0.7251006503190864, 'reg_alpha': 0.07012232798520433, 'random_state': 36, 'drop': 'first'}. Best is trial 81 with value: -29167.98177621385.\n",
      "[I 2024-10-07 19:15:13,996] Trial 83 finished with value: -29286.5570810931 and parameters: {'max_depth': 7, 'learning_rate': 0.06575178043714014, 'n_estimators': 170, 'subsample': 0.6617731036331114, 'gamma': 3, 'colsample_bytree': 0.8840900396208008, 'reg_alpha': 0.06842314752561394, 'random_state': 37, 'drop': 'first'}. Best is trial 81 with value: -29167.98177621385.\n",
      "[I 2024-10-07 19:15:16,339] Trial 84 finished with value: -29430.958848258528 and parameters: {'max_depth': 7, 'learning_rate': 0.06802228003867762, 'n_estimators': 177, 'subsample': 0.5841951431190575, 'gamma': 3, 'colsample_bytree': 0.7716621523252429, 'reg_alpha': 0.04358953065533771, 'random_state': 40, 'drop': 'first'}. Best is trial 81 with value: -29167.98177621385.\n",
      "[I 2024-10-07 19:15:18,732] Trial 85 finished with value: -30837.68171182379 and parameters: {'max_depth': 7, 'learning_rate': 0.14976885581235322, 'n_estimators': 178, 'subsample': 0.635949360347432, 'gamma': 3, 'colsample_bytree': 0.885144436305152, 'reg_alpha': 0.04443229577678963, 'random_state': 41, 'drop': 'first'}. Best is trial 81 with value: -29167.98177621385.\n",
      "[I 2024-10-07 19:15:20,917] Trial 86 finished with value: -29746.718775757407 and parameters: {'max_depth': 7, 'learning_rate': 0.053307083044059206, 'n_estimators': 170, 'subsample': 0.5753719092638114, 'gamma': 3, 'colsample_bytree': 0.7651752686245017, 'reg_alpha': 0.03045796880982189, 'random_state': 38, 'drop': 'first'}. Best is trial 81 with value: -29167.98177621385.\n",
      "[I 2024-10-07 19:15:23,335] Trial 87 finished with value: -45700.04189384646 and parameters: {'max_depth': 7, 'learning_rate': 0.8174003095322193, 'n_estimators': 179, 'subsample': 0.584264515923423, 'gamma': 3, 'colsample_bytree': 0.8102410371044066, 'reg_alpha': 0.032547996163822056, 'random_state': 39, 'drop': None}. Best is trial 81 with value: -29167.98177621385.\n",
      "[I 2024-10-07 19:15:25,578] Trial 88 finished with value: -40281.823919631715 and parameters: {'max_depth': 7, 'learning_rate': 0.6000604675820864, 'n_estimators': 169, 'subsample': 0.5807140146319716, 'gamma': 3, 'colsample_bytree': 0.7770151281958555, 'reg_alpha': 0.043381445509595204, 'random_state': 39, 'drop': 'first'}. Best is trial 81 with value: -29167.98177621385.\n",
      "[I 2024-10-07 19:15:27,870] Trial 89 finished with value: -30545.14453925391 and parameters: {'max_depth': 7, 'learning_rate': 0.1782390242991162, 'n_estimators': 175, 'subsample': 0.5514837342329961, 'gamma': 3, 'colsample_bytree': 0.7474019251990259, 'reg_alpha': 0.07018364545770357, 'random_state': 36, 'drop': 'first'}. Best is trial 81 with value: -29167.98177621385.\n",
      "[I 2024-10-07 19:15:30,106] Trial 90 finished with value: -36308.63094810652 and parameters: {'max_depth': 7, 'learning_rate': 0.010468465951655875, 'n_estimators': 166, 'subsample': 0.5966059002553663, 'gamma': 4, 'colsample_bytree': 0.9103308897670427, 'reg_alpha': 0.018434304841130424, 'random_state': 37, 'drop': 'first'}. Best is trial 81 with value: -29167.98177621385.\n",
      "[I 2024-10-07 19:15:31,869] Trial 91 finished with value: -30288.23117597757 and parameters: {'max_depth': 6, 'learning_rate': 0.05762026827335519, 'n_estimators': 161, 'subsample': 0.7055738023688438, 'gamma': 4, 'colsample_bytree': 0.8845650168391315, 'reg_alpha': 0.02342382238570682, 'random_state': 34, 'drop': 'first'}. Best is trial 81 with value: -29167.98177621385.\n",
      "[I 2024-10-07 19:15:33,715] Trial 92 finished with value: -29747.94512872175 and parameters: {'max_depth': 6, 'learning_rate': 0.05699713717773584, 'n_estimators': 170, 'subsample': 0.6325413843844746, 'gamma': 3, 'colsample_bytree': 0.8278278296978291, 'reg_alpha': 0.0309962675069896, 'random_state': 41, 'drop': 'first'}. Best is trial 81 with value: -29167.98177621385.\n",
      "[I 2024-10-07 19:15:35,995] Trial 93 finished with value: -29608.710227811076 and parameters: {'max_depth': 7, 'learning_rate': 0.08411289018614865, 'n_estimators': 174, 'subsample': 0.7376893701637866, 'gamma': 3, 'colsample_bytree': 0.8884689528564987, 'reg_alpha': 0.08832022864996075, 'random_state': 40, 'drop': 'first'}. Best is trial 81 with value: -29167.98177621385.\n",
      "[I 2024-10-07 19:15:38,321] Trial 94 finished with value: -29852.518913978995 and parameters: {'max_depth': 7, 'learning_rate': 0.08682543974384563, 'n_estimators': 175, 'subsample': 0.7295192995927077, 'gamma': 3, 'colsample_bytree': 0.7937005835806443, 'reg_alpha': 0.08718698570275585, 'random_state': 40, 'drop': 'first'}. Best is trial 81 with value: -29167.98177621385.\n",
      "[I 2024-10-07 19:15:41,367] Trial 95 finished with value: -29796.233731481763 and parameters: {'max_depth': 8, 'learning_rate': 0.1407575180487744, 'n_estimators': 198, 'subsample': 0.6674384064157606, 'gamma': 3, 'colsample_bytree': 0.8720966437711039, 'reg_alpha': 0.06855292688047199, 'random_state': 38, 'drop': 'first'}. Best is trial 81 with value: -29167.98177621385.\n",
      "[I 2024-10-07 19:15:43,619] Trial 96 finished with value: -29971.7560840336 and parameters: {'max_depth': 7, 'learning_rate': 0.0945602626932347, 'n_estimators': 167, 'subsample': 0.750391282849477, 'gamma': 3, 'colsample_bytree': 0.77161256596603, 'reg_alpha': 0.045390068721947195, 'random_state': 42, 'drop': 'first'}. Best is trial 81 with value: -29167.98177621385.\n",
      "[I 2024-10-07 19:15:45,110] Trial 97 finished with value: -50285.34501770486 and parameters: {'max_depth': 8, 'learning_rate': 0.03175365067391316, 'n_estimators': 179, 'subsample': 0.6895609587514643, 'gamma': 4, 'colsample_bytree': 0.11944577597352274, 'reg_alpha': 0.08268090887259882, 'random_state': 35, 'drop': 'first'}. Best is trial 81 with value: -29167.98177621385.\n",
      "[I 2024-10-07 19:15:47,229] Trial 98 finished with value: -29420.64457086298 and parameters: {'max_depth': 7, 'learning_rate': 0.05217733263677197, 'n_estimators': 162, 'subsample': 0.6055242592578363, 'gamma': 2, 'colsample_bytree': 0.8410487622870704, 'reg_alpha': 0.04626705037071831, 'random_state': 38, 'drop': 'first'}. Best is trial 81 with value: -29167.98177621385.\n",
      "[I 2024-10-07 19:15:49,363] Trial 99 finished with value: -30022.263512204132 and parameters: {'max_depth': 7, 'learning_rate': 0.15241380212652256, 'n_estimators': 159, 'subsample': 0.6471668686552657, 'gamma': 2, 'colsample_bytree': 0.9037544027057853, 'reg_alpha': 0.06576170060972295, 'random_state': 40, 'drop': 'first'}. Best is trial 81 with value: -29167.98177621385.\n"
     ]
    }
   ],
   "source": [
    "study.optimize(lambda trial: objective(trial), n_trials=25)"
   ]
  },
  {
   "cell_type": "code",
   "execution_count": 21,
   "metadata": {},
   "outputs": [
    {
     "data": {
      "text/plain": [
       "-29167.98177621385"
      ]
     },
     "execution_count": 21,
     "metadata": {},
     "output_type": "execute_result"
    }
   ],
   "source": [
    "study.best_value"
   ]
  },
  {
   "cell_type": "code",
   "execution_count": 22,
   "metadata": {},
   "outputs": [
    {
     "data": {
      "text/plain": [
       "{'max_depth': 7,\n",
       " 'learning_rate': 0.07530917098377808,\n",
       " 'n_estimators': 173,\n",
       " 'subsample': 0.6662398957831182,\n",
       " 'gamma': 4,\n",
       " 'colsample_bytree': 0.8913844246487428,\n",
       " 'reg_alpha': 0.07289549690168273,\n",
       " 'random_state': 37,\n",
       " 'drop': 'first'}"
      ]
     },
     "execution_count": 22,
     "metadata": {},
     "output_type": "execute_result"
    }
   ],
   "source": [
    "study.best_params"
   ]
  },
  {
   "cell_type": "markdown",
   "metadata": {},
   "source": [
    "### **3. Evaluation Model**"
   ]
  },
  {
   "cell_type": "code",
   "execution_count": 23,
   "metadata": {},
   "outputs": [
    {
     "data": {
      "text/plain": [
       "-29167.98177621385"
      ]
     },
     "execution_count": 23,
     "metadata": {},
     "output_type": "execute_result"
    }
   ],
   "source": [
    "study.best_value"
   ]
  },
  {
   "cell_type": "code",
   "execution_count": 24,
   "metadata": {},
   "outputs": [
    {
     "data": {
      "text/plain": [
       "FrozenTrial(number=81, state=1, values=[-29167.98177621385], datetime_start=datetime.datetime(2024, 10, 7, 19, 15, 7, 245043), datetime_complete=datetime.datetime(2024, 10, 7, 19, 15, 9, 509574), params={'max_depth': 7, 'learning_rate': 0.07530917098377808, 'n_estimators': 173, 'subsample': 0.6662398957831182, 'gamma': 4, 'colsample_bytree': 0.8913844246487428, 'reg_alpha': 0.07289549690168273, 'random_state': 37, 'drop': 'first'}, user_attrs={}, system_attrs={}, intermediate_values={}, distributions={'max_depth': IntDistribution(high=10, log=False, low=1, step=1), 'learning_rate': FloatDistribution(high=1.0, log=False, low=0.01, step=None), 'n_estimators': IntDistribution(high=200, log=False, low=100, step=1), 'subsample': FloatDistribution(high=1.0, log=False, low=0.2, step=None), 'gamma': IntDistribution(high=10, log=False, low=1, step=1), 'colsample_bytree': FloatDistribution(high=1.0, log=False, low=0.1, step=None), 'reg_alpha': FloatDistribution(high=0.1, log=True, low=1e-05, step=None), 'random_state': IntDistribution(high=42, log=False, low=0, step=1), 'drop': CategoricalDistribution(choices=(None, 'first'))}, trial_id=81, value=None)"
      ]
     },
     "execution_count": 24,
     "metadata": {},
     "output_type": "execute_result"
    }
   ],
   "source": [
    "best_trial = study.best_trial\n",
    "best_trial"
   ]
  },
  {
   "cell_type": "code",
   "execution_count": 25,
   "metadata": {},
   "outputs": [
    {
     "data": {
      "text/html": [
       "<div>\n",
       "<style scoped>\n",
       "    .dataframe tbody tr th:only-of-type {\n",
       "        vertical-align: middle;\n",
       "    }\n",
       "\n",
       "    .dataframe tbody tr th {\n",
       "        vertical-align: top;\n",
       "    }\n",
       "\n",
       "    .dataframe thead th {\n",
       "        text-align: right;\n",
       "    }\n",
       "</style>\n",
       "<table border=\"1\" class=\"dataframe\">\n",
       "  <thead>\n",
       "    <tr style=\"text-align: right;\">\n",
       "      <th></th>\n",
       "      <th>model</th>\n",
       "      <th>score_rmse</th>\n",
       "      <th>score_mae</th>\n",
       "      <th>score_mape</th>\n",
       "    </tr>\n",
       "  </thead>\n",
       "  <tbody>\n",
       "    <tr>\n",
       "      <th>0</th>\n",
       "      <td>XGBRegressor</td>\n",
       "      <td>23982.762548</td>\n",
       "      <td>13400.807116</td>\n",
       "      <td>0.207599</td>\n",
       "    </tr>\n",
       "  </tbody>\n",
       "</table>\n",
       "</div>"
      ],
      "text/plain": [
       "          model    score_rmse     score_mae  score_mape\n",
       "0  XGBRegressor  23982.762548  13400.807116    0.207599"
      ]
     },
     "execution_count": 25,
     "metadata": {},
     "output_type": "execute_result"
    }
   ],
   "source": [
    "# Instantiate the best model from the tuning process\n",
    "best_model = instantiate_model(best_trial)\n",
    "\n",
    "# Fit the best model on the training data\n",
    "best_model.fit(X_train, y_train)\n",
    "\n",
    "# Predict on the test set using the tuned model\n",
    "y_pred_best_model = best_model.predict(X_test)\n",
    "\n",
    "# Calculate and store the performance metrics (RMSE, MAE, and MAPE) after tuning\n",
    "rmse_best_model = np.sqrt(mean_squared_error(y_test, y_pred_best_model))\n",
    "mae_best_model = mean_absolute_error(y_test, y_pred_best_model)\n",
    "mape_best_model = mean_absolute_percentage_error(y_test, y_pred_best_model)\n",
    "\n",
    "# Create a DataFrame to store the performance metrics after tuning\n",
    "score_after_tuning = pd.DataFrame({\n",
    "    'model': [str(x).split('(')[0] for x in [best_model['model']]],     # Extract model names from the list\n",
    "    'score_rmse': rmse_best_model,                                      # Store RMSE scores\n",
    "    'score_mae': mae_best_model,                                        # Store MAE scores\n",
    "    'score_mape': mape_best_model                                       # Store MAPE scores\n",
    "})\n",
    "\n",
    "# Display the DataFrame\n",
    "score_after_tuning"
   ]
  },
  {
   "cell_type": "code",
   "execution_count": 26,
   "metadata": {},
   "outputs": [
    {
     "data": {
      "text/html": [
       "<div>\n",
       "<style scoped>\n",
       "    .dataframe tbody tr th:only-of-type {\n",
       "        vertical-align: middle;\n",
       "    }\n",
       "\n",
       "    .dataframe tbody tr th {\n",
       "        vertical-align: top;\n",
       "    }\n",
       "\n",
       "    .dataframe thead th {\n",
       "        text-align: right;\n",
       "    }\n",
       "</style>\n",
       "<table border=\"1\" class=\"dataframe\">\n",
       "  <thead>\n",
       "    <tr style=\"text-align: right;\">\n",
       "      <th></th>\n",
       "      <th>model</th>\n",
       "      <th>score_rmse</th>\n",
       "      <th>score_mae</th>\n",
       "      <th>score_mape</th>\n",
       "    </tr>\n",
       "  </thead>\n",
       "  <tbody>\n",
       "    <tr>\n",
       "      <th>0</th>\n",
       "      <td>XGBRegressor</td>\n",
       "      <td>27085.84955</td>\n",
       "      <td>14884.088661</td>\n",
       "      <td>0.232421</td>\n",
       "    </tr>\n",
       "  </tbody>\n",
       "</table>\n",
       "</div>"
      ],
      "text/plain": [
       "          model   score_rmse     score_mae  score_mape\n",
       "0  XGBRegressor  27085.84955  14884.088661    0.232421"
      ]
     },
     "execution_count": 26,
     "metadata": {},
     "output_type": "execute_result"
    }
   ],
   "source": [
    "score_before_tuning"
   ]
  },
  {
   "cell_type": "code",
   "execution_count": 27,
   "metadata": {},
   "outputs": [
    {
     "data": {
      "image/png": "[encoded data removed]",
      "text/plain": [
       "<Figure size 1400x800 with 1 Axes>"
      ]
     },
     "metadata": {},
     "output_type": "display_data"
    }
   ],
   "source": [
    "# Set the figure size\n",
    "plt.figure(figsize=(14, 8))\n",
    "\n",
    "# Create a scatter plot\n",
    "sns.scatterplot(x=y_test, y=y_pred_best_model, color='blue', label='Predicted Prices')\n",
    "\n",
    "# Add a y=x line for reference\n",
    "plt.plot([min(y_test), max(y_test)], [min(y_test), max(y_test)], color='red', linestyle='--', label='Ideal Prediction')\n",
    "\n",
    "# Add title and axis labels\n",
    "plt.title('Actual Prices vs. Predicted Prices')\n",
    "plt.xlabel('Actual Price')\n",
    "plt.ylabel('Predicted Price')\n",
    "plt.legend()\n",
    "\n",
    "# Display the plot\n",
    "plt.grid(True)\n",
    "plt.show()\n",
    "\n",
    "# b"
   ]
  },
  {
   "cell_type": "code",
   "execution_count": 28,
   "metadata": {},
   "outputs": [
    {
     "data": {
      "image/png": "[encoded data removed]",
      "text/plain": [
       "<Figure size 1400x800 with 1 Axes>"
      ]
     },
     "metadata": {},
     "output_type": "display_data"
    }
   ],
   "source": [
    "# Create a DataFrame for easier plotting\n",
    "df = pd.DataFrame({\n",
    "    'Actual Price': y_test,\n",
    "    'Residuals': y_test - y_pred_best_model\n",
    "})\n",
    "\n",
    "# Set the figure size\n",
    "plt.figure(figsize=(14, 8))\n",
    "\n",
    "# Create a residual plot using seaborn\n",
    "sns.scatterplot(x='Actual Price', y='Residuals', data=df, color='purple', label='Residuals')\n",
    "\n",
    "# Add a horizontal line at y=0\n",
    "plt.axhline(0, color='red', linestyle='--', label='Zero Residual Line')\n",
    "\n",
    "# Add title and axis labels\n",
    "plt.title('Residuals vs. Actual Prices')\n",
    "plt.xlabel('Actual Price')\n",
    "plt.ylabel('Residuals')\n",
    "plt.legend()\n",
    "\n",
    "# Display the plot\n",
    "plt.grid(True)\n",
    "plt.show()"
   ]
  },
  {
   "cell_type": "markdown",
   "metadata": {},
   "source": [
    "## **Visualisasi**"
   ]
  },
  {
   "cell_type": "code",
   "execution_count": 29,
   "metadata": {},
   "outputs": [
    {
     "data": {
      "application/vnd.plotly.v1+json": {
       "config": {
        "plotlyServerURL": "https://plot.ly"
       },
       "data": [
        {
         "mode": "markers",
         "name": "Objective Value",
         "type": "scatter",
         "x": [
          0,
          1,
          2,
          3,
          4,
          5,
          6,
          7,
          8,
          9,
          10,
          11,
          12,
          13,
          14,
          15,
          16,
          17,
          18,
          19,
          20,
          21,
          22,
          23,
          24,
          25,
          26,
          27,
          28,
          29,
          30,
          31,
          32,
          33,
          34,
          35,
          36,
          37,
          38,
          39,
          40,
          41,
          42,
          43,
          44,
          45,
          46,
          47,
          48,
          49,
          50,
          51,
          52,
          53,
          54,
          55,
          56,
          57,
          58,
          59,
          60,
          61,
          62,
          63,
          64,
          65,
          66,
          67,
          68,
          69,
          70,
          71,
          72,
          73,
          74,
          75,
          76,
          77,
          78,
          79,
          80,
          81,
          82,
          83,
          84,
          85,
          86,
          87,
          88,
          89,
          90,
          91,
          92,
          93,
          94,
          95,
          96,
          97,
          98,
          99
         ],
         "y": [
          -35107.04967695009,
          -36344.49976774887,
          -39374.81294517411,
          -48084.998811911246,
          -32639.460132767133,
          -33403.18633814659,
          -35946.837277354105,
          -45727.52577006714,
          -32480.56236057876,
          -31300.027424020518,
          -32045.41697642084,
          -31808.257548174668,
          -38932.67017688677,
          -31835.248166467984,
          -45111.01027564659,
          -33545.5768117079,
          -31456.436580835783,
          -46465.03857311637,
          -31196.065588448117,
          -32158.41544619248,
          -37512.8935130186,
          -30917.94953055014,
          -31074.273273210543,
          -30512.035230186553,
          -30232.03868422442,
          -30196.42360041379,
          -30046.872898233676,
          -31546.14282721352,
          -35480.35713152094,
          -36609.17313268869,
          -77113.82384111988,
          -30181.18082963651,
          -29770.65634195722,
          -30394.023501085438,
          -34086.136171134815,
          -33743.01042312416,
          -53899.828808775885,
          -34864.91439318376,
          -35496.89123728392,
          -37492.314878933386,
          -32750.8731533547,
          -30433.982963802933,
          -30633.257757740863,
          -31118.416308249318,
          -30157.55962434507,
          -31436.238751657947,
          -42042.53861650291,
          -41191.10785461413,
          -35004.32769010871,
          -31211.374119450786,
          -30069.206861809413,
          -29511.382035465194,
          -31117.291155345058,
          -29924.163174149602,
          -30068.77925533642,
          -30623.80586902178,
          -32750.75161545619,
          -30307.844320339664,
          -31285.091219830334,
          -31265.097006361677,
          -30595.623305163645,
          -30136.30558074714,
          -29876.24900409843,
          -29669.546634724073,
          -29968.03937818826,
          -33328.49297572173,
          -29946.40704590773,
          -48182.947558721375,
          -30265.871519416418,
          -32742.276533174736,
          -30434.9235599528,
          -29960.8482696573,
          -30057.119107584615,
          -30087.839070538106,
          -32819.38586753581,
          -29454.633699982904,
          -32772.18491785646,
          -29747.534783720475,
          -29572.044580839236,
          -29381.153771766345,
          -29774.41432587523,
          -29167.98177621385,
          -30059.948841409874,
          -29286.5570810931,
          -29430.958848258528,
          -30837.68171182379,
          -29746.718775757407,
          -45700.04189384646,
          -40281.823919631715,
          -30545.14453925391,
          -36308.63094810652,
          -30288.23117597757,
          -29747.94512872175,
          -29608.710227811076,
          -29852.518913978995,
          -29796.233731481763,
          -29971.7560840336,
          -50285.34501770486,
          -29420.64457086298,
          -30022.263512204132
         ]
        },
        {
         "mode": "lines",
         "name": "Best Value",
         "type": "scatter",
         "x": [
          0,
          1,
          2,
          3,
          4,
          5,
          6,
          7,
          8,
          9,
          10,
          11,
          12,
          13,
          14,
          15,
          16,
          17,
          18,
          19,
          20,
          21,
          22,
          23,
          24,
          25,
          26,
          27,
          28,
          29,
          30,
          31,
          32,
          33,
          34,
          35,
          36,
          37,
          38,
          39,
          40,
          41,
          42,
          43,
          44,
          45,
          46,
          47,
          48,
          49,
          50,
          51,
          52,
          53,
          54,
          55,
          56,
          57,
          58,
          59,
          60,
          61,
          62,
          63,
          64,
          65,
          66,
          67,
          68,
          69,
          70,
          71,
          72,
          73,
          74,
          75,
          76,
          77,
          78,
          79,
          80,
          81,
          82,
          83,
          84,
          85,
          86,
          87,
          88,
          89,
          90,
          91,
          92,
          93,
          94,
          95,
          96,
          97,
          98,
          99
         ],
         "y": [
          -35107.04967695009,
          -35107.04967695009,
          -35107.04967695009,
          -35107.04967695009,
          -32639.460132767133,
          -32639.460132767133,
          -32639.460132767133,
          -32639.460132767133,
          -32480.56236057876,
          -31300.027424020518,
          -31300.027424020518,
          -31300.027424020518,
          -31300.027424020518,
          -31300.027424020518,
          -31300.027424020518,
          -31300.027424020518,
          -31300.027424020518,
          -31300.027424020518,
          -31196.065588448117,
          -31196.065588448117,
          -31196.065588448117,
          -30917.94953055014,
          -30917.94953055014,
          -30512.035230186553,
          -30232.03868422442,
          -30196.42360041379,
          -30046.872898233676,
          -30046.872898233676,
          -30046.872898233676,
          -30046.872898233676,
          -30046.872898233676,
          -30046.872898233676,
          -29770.65634195722,
          -29770.65634195722,
          -29770.65634195722,
          -29770.65634195722,
          -29770.65634195722,
          -29770.65634195722,
          -29770.65634195722,
          -29770.65634195722,
          -29770.65634195722,
          -29770.65634195722,
          -29770.65634195722,
          -29770.65634195722,
          -29770.65634195722,
          -29770.65634195722,
          -29770.65634195722,
          -29770.65634195722,
          -29770.65634195722,
          -29770.65634195722,
          -29770.65634195722,
          -29511.382035465194,
          -29511.382035465194,
          -29511.382035465194,
          -29511.382035465194,
          -29511.382035465194,
          -29511.382035465194,
          -29511.382035465194,
          -29511.382035465194,
          -29511.382035465194,
          -29511.382035465194,
          -29511.382035465194,
          -29511.382035465194,
          -29511.382035465194,
          -29511.382035465194,
          -29511.382035465194,
          -29511.382035465194,
          -29511.382035465194,
          -29511.382035465194,
          -29511.382035465194,
          -29511.382035465194,
          -29511.382035465194,
          -29511.382035465194,
          -29511.382035465194,
          -29511.382035465194,
          -29454.633699982904,
          -29454.633699982904,
          -29454.633699982904,
          -29454.633699982904,
          -29381.153771766345,
          -29381.153771766345,
          -29167.98177621385,
          -29167.98177621385,
          -29167.98177621385,
          -29167.98177621385,
          -29167.98177621385,
          -29167.98177621385,
          -29167.98177621385,
          -29167.98177621385,
          -29167.98177621385,
          -29167.98177621385,
          -29167.98177621385,
          -29167.98177621385,
          -29167.98177621385,
          -29167.98177621385,
          -29167.98177621385,
          -29167.98177621385,
          -29167.98177621385,
          -29167.98177621385,
          -29167.98177621385
         ]
        },
        {
         "marker": {
          "color": "#cccccc"
         },
         "mode": "markers",
         "name": "Infeasible Trial",
         "showlegend": false,
         "type": "scatter",
         "x": [],
         "y": []
        }
       ],
       "layout": {
        "template": {
         "data": {
          "bar": [
           {
            "error_x": {
             "color": "#2a3f5f"
            },
            "error_y": {
             "color": "#2a3f5f"
            },
            "marker": {
             "line": {
              "color": "#E5ECF6",
              "width": 0.5
             },
             "pattern": {
              "fillmode": "overlay",
              "size": 10,
              "solidity": 0.2
             }
            },
            "type": "bar"
           }
          ],
          "barpolar": [
           {
            "marker": {
             "line": {
              "color": "#E5ECF6",
              "width": 0.5
             },
             "pattern": {
              "fillmode": "overlay",
              "size": 10,
              "solidity": 0.2
             }
            },
            "type": "barpolar"
           }
          ],
          "carpet": [
           {
            "aaxis": {
             "endlinecolor": "#2a3f5f",
             "gridcolor": "white",
             "linecolor": "white",
             "minorgridcolor": "white",
             "startlinecolor": "#2a3f5f"
            },
            "baxis": {
             "endlinecolor": "#2a3f5f",
             "gridcolor": "white",
             "linecolor": "white",
             "minorgridcolor": "white",
             "startlinecolor": "#2a3f5f"
            },
            "type": "carpet"
           }
          ],
          "choropleth": [
           {
            "colorbar": {
             "outlinewidth": 0,
             "ticks": ""
            },
            "type": "choropleth"
           }
          ],
          "contour": [
           {
            "colorbar": {
             "outlinewidth": 0,
             "ticks": ""
            },
            "colorscale": [
             [
              0,
              "#0d0887"
             ],
             [
              0.1111111111111111,
              "#46039f"
             ],
             [
              0.2222222222222222,
              "#7201a8"
             ],
             [
              0.3333333333333333,
              "#9c179e"
             ],
             [
              0.4444444444444444,
              "#bd3786"
             ],
             [
              0.5555555555555556,
              "#d8576b"
             ],
             [
              0.6666666666666666,
              "#ed7953"
             ],
             [
              0.7777777777777778,
              "#fb9f3a"
             ],
             [
              0.8888888888888888,
              "#fdca26"
             ],
             [
              1,
              "#f0f921"
             ]
            ],
            "type": "contour"
           }
          ],
          "contourcarpet": [
           {
            "colorbar": {
             "outlinewidth": 0,
             "ticks": ""
            },
            "type": "contourcarpet"
           }
          ],
          "heatmap": [
           {
            "colorbar": {
             "outlinewidth": 0,
             "ticks": ""
            },
            "colorscale": [
             [
              0,
              "#0d0887"
             ],
             [
              0.1111111111111111,
              "#46039f"
             ],
             [
              0.2222222222222222,
              "#7201a8"
             ],
             [
              0.3333333333333333,
              "#9c179e"
             ],
             [
              0.4444444444444444,
              "#bd3786"
             ],
             [
              0.5555555555555556,
              "#d8576b"
             ],
             [
              0.6666666666666666,
              "#ed7953"
             ],
             [
              0.7777777777777778,
              "#fb9f3a"
             ],
             [
              0.8888888888888888,
              "#fdca26"
             ],
             [
              1,
              "#f0f921"
             ]
            ],
            "type": "heatmap"
           }
          ],
          "heatmapgl": [
           {
            "colorbar": {
             "outlinewidth": 0,
             "ticks": ""
            },
            "colorscale": [
             [
              0,
              "#0d0887"
             ],
             [
              0.1111111111111111,
              "#46039f"
             ],
             [
              0.2222222222222222,
              "#7201a8"
             ],
             [
              0.3333333333333333,
              "#9c179e"
             ],
             [
              0.4444444444444444,
              "#bd3786"
             ],
             [
              0.5555555555555556,
              "#d8576b"
             ],
             [
              0.6666666666666666,
              "#ed7953"
             ],
             [
              0.7777777777777778,
              "#fb9f3a"
             ],
             [
              0.8888888888888888,
              "#fdca26"
             ],
             [
              1,
              "#f0f921"
             ]
            ],
            "type": "heatmapgl"
           }
          ],
          "histogram": [
           {
            "marker": {
             "pattern": {
              "fillmode": "overlay",
              "size": 10,
              "solidity": 0.2
             }
            },
            "type": "histogram"
           }
          ],
          "histogram2d": [
           {
            "colorbar": {
             "outlinewidth": 0,
             "ticks": ""
            },
            "colorscale": [
             [
              0,
              "#0d0887"
             ],
             [
              0.1111111111111111,
              "#46039f"
             ],
             [
              0.2222222222222222,
              "#7201a8"
             ],
             [
              0.3333333333333333,
              "#9c179e"
             ],
             [
              0.4444444444444444,
              "#bd3786"
             ],
             [
              0.5555555555555556,
              "#d8576b"
             ],
             [
              0.6666666666666666,
              "#ed7953"
             ],
             [
              0.7777777777777778,
              "#fb9f3a"
             ],
             [
              0.8888888888888888,
              "#fdca26"
             ],
             [
              1,
              "#f0f921"
             ]
            ],
            "type": "histogram2d"
           }
          ],
          "histogram2dcontour": [
           {
            "colorbar": {
             "outlinewidth": 0,
             "ticks": ""
            },
            "colorscale": [
             [
              0,
              "#0d0887"
             ],
             [
              0.1111111111111111,
              "#46039f"
             ],
             [
              0.2222222222222222,
              "#7201a8"
             ],
             [
              0.3333333333333333,
              "#9c179e"
             ],
             [
              0.4444444444444444,
              "#bd3786"
             ],
             [
              0.5555555555555556,
              "#d8576b"
             ],
             [
              0.6666666666666666,
              "#ed7953"
             ],
             [
              0.7777777777777778,
              "#fb9f3a"
             ],
             [
              0.8888888888888888,
              "#fdca26"
             ],
             [
              1,
              "#f0f921"
             ]
            ],
            "type": "histogram2dcontour"
           }
          ],
          "mesh3d": [
           {
            "colorbar": {
             "outlinewidth": 0,
             "ticks": ""
            },
            "type": "mesh3d"
           }
          ],
          "parcoords": [
           {
            "line": {
             "colorbar": {
              "outlinewidth": 0,
              "ticks": ""
             }
            },
            "type": "parcoords"
           }
          ],
          "pie": [
           {
            "automargin": true,
            "type": "pie"
           }
          ],
          "scatter": [
           {
            "fillpattern": {
             "fillmode": "overlay",
             "size": 10,
             "solidity": 0.2
            },
            "type": "scatter"
           }
          ],
          "scatter3d": [
           {
            "line": {
             "colorbar": {
              "outlinewidth": 0,
              "ticks": ""
             }
            },
            "marker": {
             "colorbar": {
              "outlinewidth": 0,
              "ticks": ""
             }
            },
            "type": "scatter3d"
           }
          ],
          "scattercarpet": [
           {
            "marker": {
             "colorbar": {
              "outlinewidth": 0,
              "ticks": ""
             }
            },
            "type": "scattercarpet"
           }
          ],
          "scattergeo": [
           {
            "marker": {
             "colorbar": {
              "outlinewidth": 0,
              "ticks": ""
             }
            },
            "type": "scattergeo"
           }
          ],
          "scattergl": [
           {
            "marker": {
             "colorbar": {
              "outlinewidth": 0,
              "ticks": ""
             }
            },
            "type": "scattergl"
           }
          ],
          "scattermapbox": [
           {
            "marker": {
             "colorbar": {
              "outlinewidth": 0,
              "ticks": ""
             }
            },
            "type": "scattermapbox"
           }
          ],
          "scatterpolar": [
           {
            "marker": {
             "colorbar": {
              "outlinewidth": 0,
              "ticks": ""
             }
            },
            "type": "scatterpolar"
           }
          ],
          "scatterpolargl": [
           {
            "marker": {
             "colorbar": {
              "outlinewidth": 0,
              "ticks": ""
             }
            },
            "type": "scatterpolargl"
           }
          ],
          "scatterternary": [
           {
            "marker": {
             "colorbar": {
              "outlinewidth": 0,
              "ticks": ""
             }
            },
            "type": "scatterternary"
           }
          ],
          "surface": [
           {
            "colorbar": {
             "outlinewidth": 0,
             "ticks": ""
            },
            "colorscale": [
             [
              0,
              "#0d0887"
             ],
             [
              0.1111111111111111,
              "#46039f"
             ],
             [
              0.2222222222222222,
              "#7201a8"
             ],
             [
              0.3333333333333333,
              "#9c179e"
             ],
             [
              0.4444444444444444,
              "#bd3786"
             ],
             [
              0.5555555555555556,
              "#d8576b"
             ],
             [
              0.6666666666666666,
              "#ed7953"
             ],
             [
              0.7777777777777778,
              "#fb9f3a"
             ],
             [
              0.8888888888888888,
              "#fdca26"
             ],
             [
              1,
              "#f0f921"
             ]
            ],
            "type": "surface"
           }
          ],
          "table": [
           {
            "cells": {
             "fill": {
              "color": "#EBF0F8"
             },
             "line": {
              "color": "white"
             }
            },
            "header": {
             "fill": {
              "color": "#C8D4E3"
             },
             "line": {
              "color": "white"
             }
            },
            "type": "table"
           }
          ]
         },
         "layout": {
          "annotationdefaults": {
           "arrowcolor": "#2a3f5f",
           "arrowhead": 0,
           "arrowwidth": 1
          },
          "autotypenumbers": "strict",
          "coloraxis": {
           "colorbar": {
            "outlinewidth": 0,
            "ticks": ""
           }
          },
          "colorscale": {
           "diverging": [
            [
             0,
             "#8e0152"
            ],
            [
             0.1,
             "#c51b7d"
            ],
            [
             0.2,
             "#de77ae"
            ],
            [
             0.3,
             "#f1b6da"
            ],
            [
             0.4,
             "#fde0ef"
            ],
            [
             0.5,
             "#f7f7f7"
            ],
            [
             0.6,
             "#e6f5d0"
            ],
            [
             0.7,
             "#b8e186"
            ],
            [
             0.8,
             "#7fbc41"
            ],
            [
             0.9,
             "#4d9221"
            ],
            [
             1,
             "#276419"
            ]
           ],
           "sequential": [
            [
             0,
             "#0d0887"
            ],
            [
             0.1111111111111111,
             "#46039f"
            ],
            [
             0.2222222222222222,
             "#7201a8"
            ],
            [
             0.3333333333333333,
             "#9c179e"
            ],
            [
             0.4444444444444444,
             "#bd3786"
            ],
            [
             0.5555555555555556,
             "#d8576b"
            ],
            [
             0.6666666666666666,
             "#ed7953"
            ],
            [
             0.7777777777777778,
             "#fb9f3a"
            ],
            [
             0.8888888888888888,
             "#fdca26"
            ],
            [
             1,
             "#f0f921"
            ]
           ],
           "sequentialminus": [
            [
             0,
             "#0d0887"
            ],
            [
             0.1111111111111111,
             "#46039f"
            ],
            [
             0.2222222222222222,
             "#7201a8"
            ],
            [
             0.3333333333333333,
             "#9c179e"
            ],
            [
             0.4444444444444444,
             "#bd3786"
            ],
            [
             0.5555555555555556,
             "#d8576b"
            ],
            [
             0.6666666666666666,
             "#ed7953"
            ],
            [
             0.7777777777777778,
             "#fb9f3a"
            ],
            [
             0.8888888888888888,
             "#fdca26"
            ],
            [
             1,
             "#f0f921"
            ]
           ]
          },
          "colorway": [
           "#636efa",
           "#EF553B",
           "#00cc96",
           "#ab63fa",
           "#FFA15A",
           "#19d3f3",
           "#FF6692",
           "#B6E880",
           "#FF97FF",
           "#FECB52"
          ],
          "font": {
           "color": "#2a3f5f"
          },
          "geo": {
           "bgcolor": "white",
           "lakecolor": "white",
           "landcolor": "#E5ECF6",
           "showlakes": true,
           "showland": true,
           "subunitcolor": "white"
          },
          "hoverlabel": {
           "align": "left"
          },
          "hovermode": "closest",
          "mapbox": {
           "style": "light"
          },
          "paper_bgcolor": "white",
          "plot_bgcolor": "#E5ECF6",
          "polar": {
           "angularaxis": {
            "gridcolor": "white",
            "linecolor": "white",
            "ticks": ""
           },
           "bgcolor": "#E5ECF6",
           "radialaxis": {
            "gridcolor": "white",
            "linecolor": "white",
            "ticks": ""
           }
          },
          "scene": {
           "xaxis": {
            "backgroundcolor": "#E5ECF6",
            "gridcolor": "white",
            "gridwidth": 2,
            "linecolor": "white",
            "showbackground": true,
            "ticks": "",
            "zerolinecolor": "white"
           },
           "yaxis": {
            "backgroundcolor": "#E5ECF6",
            "gridcolor": "white",
            "gridwidth": 2,
            "linecolor": "white",
            "showbackground": true,
            "ticks": "",
            "zerolinecolor": "white"
           },
           "zaxis": {
            "backgroundcolor": "#E5ECF6",
            "gridcolor": "white",
            "gridwidth": 2,
            "linecolor": "white",
            "showbackground": true,
            "ticks": "",
            "zerolinecolor": "white"
           }
          },
          "shapedefaults": {
           "line": {
            "color": "#2a3f5f"
           }
          },
          "ternary": {
           "aaxis": {
            "gridcolor": "white",
            "linecolor": "white",
            "ticks": ""
           },
           "baxis": {
            "gridcolor": "white",
            "linecolor": "white",
            "ticks": ""
           },
           "bgcolor": "#E5ECF6",
           "caxis": {
            "gridcolor": "white",
            "linecolor": "white",
            "ticks": ""
           }
          },
          "title": {
           "x": 0.05
          },
          "xaxis": {
           "automargin": true,
           "gridcolor": "white",
           "linecolor": "white",
           "ticks": "",
           "title": {
            "standoff": 15
           },
           "zerolinecolor": "white",
           "zerolinewidth": 2
          },
          "yaxis": {
           "automargin": true,
           "gridcolor": "white",
           "linecolor": "white",
           "ticks": "",
           "title": {
            "standoff": 15
           },
           "zerolinecolor": "white",
           "zerolinewidth": 2
          }
         }
        },
        "title": {
         "text": "Optimization History Plot"
        },
        "xaxis": {
         "title": {
          "text": "Trial"
         }
        },
        "yaxis": {
         "title": {
          "text": "Objective Value"
         }
        }
       }
      }
     },
     "metadata": {},
     "output_type": "display_data"
    }
   ],
   "source": [
    "optuna.visualization.plot_optimization_history(study)"
   ]
  },
  {
   "cell_type": "code",
   "execution_count": 30,
   "metadata": {},
   "outputs": [
    {
     "data": {
      "application/vnd.plotly.v1+json": {
       "config": {
        "plotlyServerURL": "https://plot.ly"
       },
       "data": [
        {
         "dimensions": [
          {
           "label": "Objective Value",
           "range": [
            -77113.82384111988,
            -29167.98177621385
           ],
           "values": [
            -35107.04967695009,
            -36344.49976774887,
            -39374.81294517411,
            -48084.998811911246,
            -32639.460132767133,
            -33403.18633814659,
            -35946.837277354105,
            -45727.52577006714,
            -32480.56236057876,
            -31300.027424020518,
            -32045.41697642084,
            -31808.257548174668,
            -38932.67017688677,
            -31835.248166467984,
            -45111.01027564659,
            -33545.5768117079,
            -31456.436580835783,
            -46465.03857311637,
            -31196.065588448117,
            -32158.41544619248,
            -37512.8935130186,
            -30917.94953055014,
            -31074.273273210543,
            -30512.035230186553,
            -30232.03868422442,
            -30196.42360041379,
            -30046.872898233676,
            -31546.14282721352,
            -35480.35713152094,
            -36609.17313268869,
            -77113.82384111988,
            -30181.18082963651,
            -29770.65634195722,
            -30394.023501085438,
            -34086.136171134815,
            -33743.01042312416,
            -53899.828808775885,
            -34864.91439318376,
            -35496.89123728392,
            -37492.314878933386,
            -32750.8731533547,
            -30433.982963802933,
            -30633.257757740863,
            -31118.416308249318,
            -30157.55962434507,
            -31436.238751657947,
            -42042.53861650291,
            -41191.10785461413,
            -35004.32769010871,
            -31211.374119450786,
            -30069.206861809413,
            -29511.382035465194,
            -31117.291155345058,
            -29924.163174149602,
            -30068.77925533642,
            -30623.80586902178,
            -32750.75161545619,
            -30307.844320339664,
            -31285.091219830334,
            -31265.097006361677,
            -30595.623305163645,
            -30136.30558074714,
            -29876.24900409843,
            -29669.546634724073,
            -29968.03937818826,
            -33328.49297572173,
            -29946.40704590773,
            -48182.947558721375,
            -30265.871519416418,
            -32742.276533174736,
            -30434.9235599528,
            -29960.8482696573,
            -30057.119107584615,
            -30087.839070538106,
            -32819.38586753581,
            -29454.633699982904,
            -32772.18491785646,
            -29747.534783720475,
            -29572.044580839236,
            -29381.153771766345,
            -29774.41432587523,
            -29167.98177621385,
            -30059.948841409874,
            -29286.5570810931,
            -29430.958848258528,
            -30837.68171182379,
            -29746.718775757407,
            -45700.04189384646,
            -40281.823919631715,
            -30545.14453925391,
            -36308.63094810652,
            -30288.23117597757,
            -29747.94512872175,
            -29608.710227811076,
            -29852.518913978995,
            -29796.233731481763,
            -29971.7560840336,
            -50285.34501770486,
            -29420.64457086298,
            -30022.263512204132
           ]
          },
          {
           "label": "colsample_bytree",
           "range": [
            0.10840036173214972,
            0.9991957459805748
           ],
           "values": [
            0.8075497483822798,
            0.1357595213515504,
            0.543048171619433,
            0.10840036173214972,
            0.5021217444262094,
            0.5978242631668711,
            0.45455544715861607,
            0.20902331538722896,
            0.44515468674900904,
            0.9991957459805748,
            0.9966144250502675,
            0.9930507992811943,
            0.9869604718158984,
            0.7977618054048551,
            0.8220681105302404,
            0.8994412674670758,
            0.6977987838869015,
            0.6703753380053075,
            0.6890001588128423,
            0.35438793257193923,
            0.35108893934077257,
            0.6748204170530534,
            0.6855983060970748,
            0.6546028282624587,
            0.6449762024865476,
            0.5954982482864963,
            0.592519957511103,
            0.6102039793996391,
            0.38605353281268223,
            0.761330783164768,
            0.5578764283855611,
            0.6145097953267188,
            0.593715272878277,
            0.529151586997932,
            0.5883916516426121,
            0.4814188094543561,
            0.7423154077309899,
            0.41018388260697536,
            0.2785530599676753,
            0.5265139790679513,
            0.5776551133288115,
            0.6135917860311096,
            0.6384787064873401,
            0.7326100466451575,
            0.4853463374267798,
            0.48030987805682446,
            0.4467169456745692,
            0.540539901614992,
            0.5012906034420513,
            0.5675577699958483,
            0.8578788676726208,
            0.8760391737395763,
            0.8993081600698078,
            0.8519782269433682,
            0.8681898074119421,
            0.8691240147479463,
            0.9346580761453498,
            0.8322049262499734,
            0.9580699579203061,
            0.7942898169826886,
            0.8870684154156012,
            0.8518265801040698,
            0.8521790250448233,
            0.9243185683260225,
            0.9421641802637687,
            0.9419257932569749,
            0.9652641385078766,
            0.9627384909841545,
            0.9164949234485503,
            0.7808202639819832,
            0.9750011075253954,
            0.924563503898957,
            0.9238673436922821,
            0.8157457126443375,
            0.9937758699587282,
            0.8346887330854736,
            0.8371564465992453,
            0.891124010670279,
            0.8873835703998783,
            0.8870611205989636,
            0.7180709387904489,
            0.8913844246487428,
            0.7251006503190864,
            0.8840900396208008,
            0.7716621523252429,
            0.885144436305152,
            0.7651752686245017,
            0.8102410371044066,
            0.7770151281958555,
            0.7474019251990259,
            0.9103308897670427,
            0.8845650168391315,
            0.8278278296978291,
            0.8884689528564987,
            0.7937005835806443,
            0.8720966437711039,
            0.77161256596603,
            0.11944577597352274,
            0.8410487622870704,
            0.9037544027057853
           ]
          },
          {
           "label": "drop",
           "range": [
            0,
            1
           ],
           "ticktext": [
            "None",
            "first"
           ],
           "tickvals": [
            0,
            1
           ],
           "values": [
            0,
            0,
            0,
            1,
            0,
            0,
            0,
            0,
            0,
            0,
            1,
            1,
            1,
            1,
            1,
            1,
            1,
            1,
            1,
            0,
            0,
            1,
            1,
            1,
            1,
            1,
            1,
            1,
            1,
            1,
            1,
            1,
            1,
            1,
            1,
            1,
            1,
            1,
            1,
            1,
            1,
            1,
            1,
            1,
            1,
            0,
            1,
            1,
            1,
            0,
            1,
            1,
            1,
            1,
            1,
            1,
            1,
            0,
            1,
            1,
            1,
            1,
            1,
            1,
            1,
            1,
            1,
            0,
            1,
            1,
            1,
            1,
            1,
            1,
            1,
            1,
            1,
            1,
            1,
            1,
            1,
            1,
            1,
            1,
            1,
            1,
            1,
            0,
            1,
            1,
            1,
            1,
            1,
            1,
            1,
            1,
            1,
            1,
            1,
            1
           ]
          },
          {
           "label": "gamma",
           "range": [
            1,
            10
           ],
           "values": [
            9,
            2,
            5,
            2,
            2,
            9,
            6,
            6,
            7,
            7,
            10,
            10,
            8,
            4,
            10,
            8,
            4,
            3,
            4,
            5,
            1,
            4,
            4,
            4,
            3,
            3,
            3,
            1,
            3,
            3,
            2,
            3,
            3,
            1,
            5,
            2,
            3,
            2,
            5,
            3,
            2,
            3,
            3,
            2,
            2,
            1,
            2,
            1,
            6,
            2,
            4,
            4,
            4,
            5,
            5,
            6,
            5,
            5,
            6,
            4,
            7,
            5,
            5,
            4,
            5,
            4,
            5,
            7,
            5,
            6,
            4,
            4,
            5,
            4,
            6,
            4,
            4,
            4,
            4,
            4,
            4,
            4,
            4,
            3,
            3,
            3,
            3,
            3,
            3,
            3,
            4,
            4,
            3,
            3,
            3,
            3,
            3,
            4,
            2,
            2
           ]
          },
          {
           "label": "learning_rate",
           "range": [
            0.010468465951655875,
            0.9726720356363205
           ],
           "values": [
            0.37682639636416987,
            0.31208576055155435,
            0.5335489608284258,
            0.9119579859520635,
            0.186257963764118,
            0.6348054356173998,
            0.27808984813980225,
            0.1954720618755534,
            0.3403534873359806,
            0.19133618672281744,
            0.030962601933058748,
            0.031996541479350715,
            0.01097901815814789,
            0.12625278078626917,
            0.7381704072597471,
            0.4378804187957292,
            0.15475538628924945,
            0.5514761407650731,
            0.16117367521737289,
            0.2514435772030983,
            0.4366806124449427,
            0.13037095634992224,
            0.11711254158180312,
            0.13851355294756046,
            0.09046828004462082,
            0.08228589606377461,
            0.08120681768939117,
            0.07253870338075152,
            0.2506272480567383,
            0.37075610999030884,
            0.9726720356363205,
            0.09212411457302241,
            0.07705309633597604,
            0.06846458894129845,
            0.2655080869472797,
            0.21474213503071987,
            0.796011912693863,
            0.3138119616794609,
            0.06625686638141742,
            0.014316202583331064,
            0.2176019030678652,
            0.09191208464425177,
            0.08574412973805658,
            0.18139971168051428,
            0.05735763532348002,
            0.04237722808845466,
            0.6430534546143132,
            0.010865840876970567,
            0.2176143568032572,
            0.2979346966182199,
            0.12902159669663812,
            0.1089844717361879,
            0.16682918702003352,
            0.1184187818126223,
            0.12550611329766276,
            0.13414694983764922,
            0.12321934639819013,
            0.1855167488303165,
            0.24445400573063988,
            0.3437285543940274,
            0.16164466129815946,
            0.03757006551527784,
            0.036723118781500294,
            0.12616666537006682,
            0.11653690396312322,
            0.4397782617020114,
            0.10550865089140374,
            0.05189076112146931,
            0.20790825403768232,
            0.11335475643997213,
            0.1523444799211728,
            0.03837692182596125,
            0.10016717819469305,
            0.10437716430025591,
            0.03447353684027611,
            0.056450130857786086,
            0.015116294063842062,
            0.06897374746227666,
            0.06232472607289893,
            0.06970785791750211,
            0.06541202273595416,
            0.07530917098377808,
            0.07765123347916987,
            0.06575178043714014,
            0.06802228003867762,
            0.14976885581235322,
            0.053307083044059206,
            0.8174003095322193,
            0.6000604675820864,
            0.1782390242991162,
            0.010468465951655875,
            0.05762026827335519,
            0.05699713717773584,
            0.08411289018614865,
            0.08682543974384563,
            0.1407575180487744,
            0.0945602626932347,
            0.03175365067391316,
            0.05217733263677197,
            0.15241380212652256
           ]
          },
          {
           "label": "max_depth",
           "range": [
            1,
            10
           ],
           "values": [
            4,
            9,
            4,
            4,
            6,
            3,
            2,
            1,
            5,
            10,
            10,
            10,
            8,
            7,
            10,
            8,
            9,
            8,
            9,
            6,
            9,
            9,
            7,
            7,
            7,
            7,
            7,
            5,
            6,
            7,
            5,
            7,
            8,
            8,
            6,
            8,
            7,
            6,
            4,
            8,
            3,
            7,
            7,
            6,
            8,
            8,
            9,
            8,
            9,
            5,
            6,
            6,
            4,
            5,
            5,
            5,
            3,
            4,
            5,
            6,
            5,
            6,
            6,
            6,
            5,
            6,
            5,
            1,
            4,
            3,
            5,
            6,
            5,
            6,
            4,
            6,
            6,
            6,
            6,
            7,
            7,
            7,
            7,
            7,
            7,
            7,
            7,
            7,
            7,
            7,
            7,
            6,
            6,
            7,
            7,
            8,
            7,
            8,
            7,
            7
           ]
          },
          {
           "label": "n_estimators",
           "range": [
            100,
            200
           ],
           "values": [
            129,
            178,
            160,
            188,
            133,
            175,
            151,
            149,
            100,
            145,
            101,
            101,
            120,
            200,
            116,
            145,
            114,
            136,
            116,
            168,
            139,
            117,
            121,
            123,
            124,
            127,
            127,
            108,
            131,
            128,
            129,
            123,
            108,
            108,
            111,
            140,
            157,
            106,
            127,
            138,
            132,
            124,
            124,
            112,
            120,
            107,
            118,
            134,
            143,
            103,
            149,
            152,
            158,
            152,
            164,
            150,
            165,
            154,
            177,
            163,
            174,
            169,
            184,
            189,
            188,
            187,
            187,
            188,
            193,
            184,
            199,
            182,
            182,
            192,
            181,
            195,
            195,
            172,
            173,
            174,
            172,
            173,
            172,
            170,
            177,
            178,
            170,
            179,
            169,
            175,
            166,
            161,
            170,
            174,
            175,
            198,
            167,
            179,
            162,
            159
           ]
          },
          {
           "label": "random_state",
           "range": [
            0,
            42
           ],
           "values": [
            39,
            27,
            8,
            31,
            14,
            28,
            20,
            21,
            25,
            1,
            1,
            0,
            2,
            8,
            8,
            0,
            15,
            15,
            12,
            6,
            11,
            17,
            17,
            19,
            21,
            21,
            21,
            34,
            23,
            38,
            23,
            19,
            27,
            28,
            31,
            25,
            30,
            25,
            18,
            42,
            34,
            22,
            20,
            27,
            21,
            24,
            29,
            26,
            13,
            16,
            19,
            19,
            20,
            18,
            10,
            9,
            5,
            14,
            18,
            11,
            16,
            22,
            23,
            24,
            24,
            24,
            27,
            32,
            27,
            26,
            29,
            23,
            24,
            23,
            26,
            28,
            32,
            29,
            29,
            35,
            36,
            37,
            36,
            37,
            40,
            41,
            38,
            39,
            39,
            36,
            37,
            34,
            41,
            40,
            40,
            38,
            42,
            35,
            38,
            40
           ]
          },
          {
           "label": "reg_alpha",
           "range": [
            -4.946020711251772,
            -1.0047108033863958
           ],
           "ticktext": [
            "1.13e-05",
            "0.0001",
            "0.001",
            "0.01",
            "0.0989"
           ],
           "tickvals": [
            -4.946020711251772,
            -4,
            -3,
            -2,
            -1.0047108033863958
           ],
           "values": [
            -3.548565143328464,
            -4.337057239630509,
            -1.9848786121979485,
            -1.1187255145417494,
            -1.7894458486636124,
            -1.12301086629878,
            -3.463673233364444,
            -2.352002858982488,
            -4.8595171978340925,
            -4.760263232488814,
            -4.178479855393997,
            -4.424226884102519,
            -4.946020711251772,
            -4.106187868052955,
            -3.1403146068753984,
            -4.516119312484961,
            -3.7554744792479364,
            -3.7149468837072477,
            -2.8165031176487765,
            -2.6101577965903893,
            -2.889418092922073,
            -3.892805878454451,
            -3.225428983613308,
            -3.113991527470192,
            -3.252646084784601,
            -3.3420846151397945,
            -2.3712562995064035,
            -2.373552132126789,
            -1.7379189939835935,
            -3.4892527358278405,
            -2.569848062141749,
            -3.256694110957187,
            -3.363836903251981,
            -2.1492354807082243,
            -2.743794801718787,
            -3.3787851159518842,
            -3.0033694745775863,
            -1.551874422250928,
            -3.6072782680274336,
            -2.371395237730543,
            -3.9527967629155243,
            -3.24519472120998,
            -3.369933277635481,
            -3.0291742584533963,
            -2.078446109247562,
            -2.0052357248141313,
            -1.697065957359854,
            -1.501628216111848,
            -2.1443986620401065,
            -1.3991922285521494,
            -2.6746955350991306,
            -2.267044860711801,
            -2.551603750914765,
            -2.1648209952606243,
            -1.9450631604188233,
            -1.8636814889131779,
            -2.4382573175728273,
            -2.189851386584263,
            -2.2694872744304457,
            -1.8686541922435091,
            -2.738851667566638,
            -2.005995918119627,
            -1.2684098740335121,
            -1.2181278199024237,
            -1.217986350280063,
            -1.105206179729523,
            -1.2416787238690776,
            -1.268643233004458,
            -1.0047108033863958,
            -1.2621305681958954,
            -1.2687073857992552,
            -1.6201539610547158,
            -1.6114199460011431,
            -1.407026660197236,
            -1.0095838982397352,
            -1.1507912549949966,
            -1.4377621584574771,
            -1.614120459162402,
            -1.1174678293976876,
            -1.3798252037087553,
            -1.0984320268886107,
            -1.1372992992698843,
            -1.1541436742333278,
            -1.164796951759188,
            -1.3606178071670905,
            -1.3523012465738307,
            -1.51629906239523,
            -1.4874757438633175,
            -1.3626959809898391,
            -1.1537640775420026,
            -1.7343732350230632,
            -1.6303422337057136,
            -1.5086905996725883,
            -1.0539398152796442,
            -1.0595483368483323,
            -1.1639739981917223,
            -1.3430391597215734,
            -1.0825947580221933,
            -1.3347281868747172,
            -1.182026964387277
           ]
          },
          {
           "label": "subsample",
           "range": [
            0.20843239416712056,
            0.988840578966648
           ],
           "values": [
            0.39919144328142064,
            0.9483000430717408,
            0.4070303631197362,
            0.46077075356961616,
            0.3433245268219671,
            0.7974445315334895,
            0.9577337315912275,
            0.6052033647175659,
            0.8152161014432873,
            0.5206454487957526,
            0.20843239416712056,
            0.22459246310564884,
            0.5764773340182563,
            0.22752403730842166,
            0.5568621052007017,
            0.703755527987257,
            0.2625589842883116,
            0.31769513582770437,
            0.49676923477671164,
            0.5083485165951087,
            0.6561964558068094,
            0.32242613985612845,
            0.4727141838644461,
            0.434952428382966,
            0.4186539996550816,
            0.3461504407918033,
            0.40028163351651025,
            0.3680525311563513,
            0.2844139603798015,
            0.3936191620002359,
            0.4245013987396347,
            0.4353098225963446,
            0.3604720421848726,
            0.2867398018225533,
            0.369931048556614,
            0.346802870695725,
            0.46075577674999546,
            0.39611836790223,
            0.3080325240191639,
            0.5298881364459576,
            0.8772119516716725,
            0.42587408977617025,
            0.36153292213694105,
            0.46127350133535905,
            0.6195260246087135,
            0.6465174437666265,
            0.7327387773815769,
            0.6087974964295318,
            0.2357783672268156,
            0.5556345969161619,
            0.622423539222837,
            0.723269416236177,
            0.7259757452436139,
            0.8095206402324937,
            0.8076511277402585,
            0.8057008072787561,
            0.8607472914822434,
            0.904896049839863,
            0.7497812409526547,
            0.988840578966648,
            0.7758855502905734,
            0.6896572159859522,
            0.6778928304082291,
            0.8359185424534014,
            0.8342299767300732,
            0.8391053861862504,
            0.7746830059709718,
            0.7756581542197377,
            0.9164785436823517,
            0.6912546283886409,
            0.8319403901444621,
            0.7897671214850673,
            0.7760270032472857,
            0.7558457287561734,
            0.8383527342935458,
            0.670566671260697,
            0.6576522829317769,
            0.7143027396786291,
            0.7133882750542133,
            0.705456070303105,
            0.6696837365795587,
            0.6662398957831182,
            0.7133408208033702,
            0.6617731036331114,
            0.5841951431190575,
            0.635949360347432,
            0.5753719092638114,
            0.584264515923423,
            0.5807140146319716,
            0.5514837342329961,
            0.5966059002553663,
            0.7055738023688438,
            0.6325413843844746,
            0.7376893701637866,
            0.7295192995927077,
            0.6674384064157606,
            0.750391282849477,
            0.6895609587514643,
            0.6055242592578363,
            0.6471668686552657
           ]
          }
         ],
         "labelangle": 30,
         "labelside": "bottom",
         "line": {
          "color": [
           -35107.04967695009,
           -36344.49976774887,
           -39374.81294517411,
           -48084.998811911246,
           -32639.460132767133,
           -33403.18633814659,
           -35946.837277354105,
           -45727.52577006714,
           -32480.56236057876,
           -31300.027424020518,
           -32045.41697642084,
           -31808.257548174668,
           -38932.67017688677,
           -31835.248166467984,
           -45111.01027564659,
           -33545.5768117079,
           -31456.436580835783,
           -46465.03857311637,
           -31196.065588448117,
           -32158.41544619248,
           -37512.8935130186,
           -30917.94953055014,
           -31074.273273210543,
           -30512.035230186553,
           -30232.03868422442,
           -30196.42360041379,
           -30046.872898233676,
           -31546.14282721352,
           -35480.35713152094,
           -36609.17313268869,
           -77113.82384111988,
           -30181.18082963651,
           -29770.65634195722,
           -30394.023501085438,
           -34086.136171134815,
           -33743.01042312416,
           -53899.828808775885,
           -34864.91439318376,
           -35496.89123728392,
           -37492.314878933386,
           -32750.8731533547,
           -30433.982963802933,
           -30633.257757740863,
           -31118.416308249318,
           -30157.55962434507,
           -31436.238751657947,
           -42042.53861650291,
           -41191.10785461413,
           -35004.32769010871,
           -31211.374119450786,
           -30069.206861809413,
           -29511.382035465194,
           -31117.291155345058,
           -29924.163174149602,
           -30068.77925533642,
           -30623.80586902178,
           -32750.75161545619,
           -30307.844320339664,
           -31285.091219830334,
           -31265.097006361677,
           -30595.623305163645,
           -30136.30558074714,
           -29876.24900409843,
           -29669.546634724073,
           -29968.03937818826,
           -33328.49297572173,
           -29946.40704590773,
           -48182.947558721375,
           -30265.871519416418,
           -32742.276533174736,
           -30434.9235599528,
           -29960.8482696573,
           -30057.119107584615,
           -30087.839070538106,
           -32819.38586753581,
           -29454.633699982904,
           -32772.18491785646,
           -29747.534783720475,
           -29572.044580839236,
           -29381.153771766345,
           -29774.41432587523,
           -29167.98177621385,
           -30059.948841409874,
           -29286.5570810931,
           -29430.958848258528,
           -30837.68171182379,
           -29746.718775757407,
           -45700.04189384646,
           -40281.823919631715,
           -30545.14453925391,
           -36308.63094810652,
           -30288.23117597757,
           -29747.94512872175,
           -29608.710227811076,
           -29852.518913978995,
           -29796.233731481763,
           -29971.7560840336,
           -50285.34501770486,
           -29420.64457086298,
           -30022.263512204132
          ],
          "colorbar": {
           "title": {
            "text": "Objective Value"
           }
          },
          "colorscale": [
           [
            0,
            "rgb(247,251,255)"
           ],
           [
            0.125,
            "rgb(222,235,247)"
           ],
           [
            0.25,
            "rgb(198,219,239)"
           ],
           [
            0.375,
            "rgb(158,202,225)"
           ],
           [
            0.5,
            "rgb(107,174,214)"
           ],
           [
            0.625,
            "rgb(66,146,198)"
           ],
           [
            0.75,
            "rgb(33,113,181)"
           ],
           [
            0.875,
            "rgb(8,81,156)"
           ],
           [
            1,
            "rgb(8,48,107)"
           ]
          ],
          "reversescale": false,
          "showscale": true
         },
         "type": "parcoords"
        }
       ],
       "layout": {
        "template": {
         "data": {
          "bar": [
           {
            "error_x": {
             "color": "#2a3f5f"
            },
            "error_y": {
             "color": "#2a3f5f"
            },
            "marker": {
             "line": {
              "color": "#E5ECF6",
              "width": 0.5
             },
             "pattern": {
              "fillmode": "overlay",
              "size": 10,
              "solidity": 0.2
             }
            },
            "type": "bar"
           }
          ],
          "barpolar": [
           {
            "marker": {
             "line": {
              "color": "#E5ECF6",
              "width": 0.5
             },
             "pattern": {
              "fillmode": "overlay",
              "size": 10,
              "solidity": 0.2
             }
            },
            "type": "barpolar"
           }
          ],
          "carpet": [
           {
            "aaxis": {
             "endlinecolor": "#2a3f5f",
             "gridcolor": "white",
             "linecolor": "white",
             "minorgridcolor": "white",
             "startlinecolor": "#2a3f5f"
            },
            "baxis": {
             "endlinecolor": "#2a3f5f",
             "gridcolor": "white",
             "linecolor": "white",
             "minorgridcolor": "white",
             "startlinecolor": "#2a3f5f"
            },
            "type": "carpet"
           }
          ],
          "choropleth": [
           {
            "colorbar": {
             "outlinewidth": 0,
             "ticks": ""
            },
            "type": "choropleth"
           }
          ],
          "contour": [
           {
            "colorbar": {
             "outlinewidth": 0,
             "ticks": ""
            },
            "colorscale": [
             [
              0,
              "#0d0887"
             ],
             [
              0.1111111111111111,
              "#46039f"
             ],
             [
              0.2222222222222222,
              "#7201a8"
             ],
             [
              0.3333333333333333,
              "#9c179e"
             ],
             [
              0.4444444444444444,
              "#bd3786"
             ],
             [
              0.5555555555555556,
              "#d8576b"
             ],
             [
              0.6666666666666666,
              "#ed7953"
             ],
             [
              0.7777777777777778,
              "#fb9f3a"
             ],
             [
              0.8888888888888888,
              "#fdca26"
             ],
             [
              1,
              "#f0f921"
             ]
            ],
            "type": "contour"
           }
          ],
          "contourcarpet": [
           {
            "colorbar": {
             "outlinewidth": 0,
             "ticks": ""
            },
            "type": "contourcarpet"
           }
          ],
          "heatmap": [
           {
            "colorbar": {
             "outlinewidth": 0,
             "ticks": ""
            },
            "colorscale": [
             [
              0,
              "#0d0887"
             ],
             [
              0.1111111111111111,
              "#46039f"
             ],
             [
              0.2222222222222222,
              "#7201a8"
             ],
             [
              0.3333333333333333,
              "#9c179e"
             ],
             [
              0.4444444444444444,
              "#bd3786"
             ],
             [
              0.5555555555555556,
              "#d8576b"
             ],
             [
              0.6666666666666666,
              "#ed7953"
             ],
             [
              0.7777777777777778,
              "#fb9f3a"
             ],
             [
              0.8888888888888888,
              "#fdca26"
             ],
             [
              1,
              "#f0f921"
             ]
            ],
            "type": "heatmap"
           }
          ],
          "heatmapgl": [
           {
            "colorbar": {
             "outlinewidth": 0,
             "ticks": ""
            },
            "colorscale": [
             [
              0,
              "#0d0887"
             ],
             [
              0.1111111111111111,
              "#46039f"
             ],
             [
              0.2222222222222222,
              "#7201a8"
             ],
             [
              0.3333333333333333,
              "#9c179e"
             ],
             [
              0.4444444444444444,
              "#bd3786"
             ],
             [
              0.5555555555555556,
              "#d8576b"
             ],
             [
              0.6666666666666666,
              "#ed7953"
             ],
             [
              0.7777777777777778,
              "#fb9f3a"
             ],
             [
              0.8888888888888888,
              "#fdca26"
             ],
             [
              1,
              "#f0f921"
             ]
            ],
            "type": "heatmapgl"
           }
          ],
          "histogram": [
           {
            "marker": {
             "pattern": {
              "fillmode": "overlay",
              "size": 10,
              "solidity": 0.2
             }
            },
            "type": "histogram"
           }
          ],
          "histogram2d": [
           {
            "colorbar": {
             "outlinewidth": 0,
             "ticks": ""
            },
            "colorscale": [
             [
              0,
              "#0d0887"
             ],
             [
              0.1111111111111111,
              "#46039f"
             ],
             [
              0.2222222222222222,
              "#7201a8"
             ],
             [
              0.3333333333333333,
              "#9c179e"
             ],
             [
              0.4444444444444444,
              "#bd3786"
             ],
             [
              0.5555555555555556,
              "#d8576b"
             ],
             [
              0.6666666666666666,
              "#ed7953"
             ],
             [
              0.7777777777777778,
              "#fb9f3a"
             ],
             [
              0.8888888888888888,
              "#fdca26"
             ],
             [
              1,
              "#f0f921"
             ]
            ],
            "type": "histogram2d"
           }
          ],
          "histogram2dcontour": [
           {
            "colorbar": {
             "outlinewidth": 0,
             "ticks": ""
            },
            "colorscale": [
             [
              0,
              "#0d0887"
             ],
             [
              0.1111111111111111,
              "#46039f"
             ],
             [
              0.2222222222222222,
              "#7201a8"
             ],
             [
              0.3333333333333333,
              "#9c179e"
             ],
             [
              0.4444444444444444,
              "#bd3786"
             ],
             [
              0.5555555555555556,
              "#d8576b"
             ],
             [
              0.6666666666666666,
              "#ed7953"
             ],
             [
              0.7777777777777778,
              "#fb9f3a"
             ],
             [
              0.8888888888888888,
              "#fdca26"
             ],
             [
              1,
              "#f0f921"
             ]
            ],
            "type": "histogram2dcontour"
           }
          ],
          "mesh3d": [
           {
            "colorbar": {
             "outlinewidth": 0,
             "ticks": ""
            },
            "type": "mesh3d"
           }
          ],
          "parcoords": [
           {
            "line": {
             "colorbar": {
              "outlinewidth": 0,
              "ticks": ""
             }
            },
            "type": "parcoords"
           }
          ],
          "pie": [
           {
            "automargin": true,
            "type": "pie"
           }
          ],
          "scatter": [
           {
            "fillpattern": {
             "fillmode": "overlay",
             "size": 10,
             "solidity": 0.2
            },
            "type": "scatter"
           }
          ],
          "scatter3d": [
           {
            "line": {
             "colorbar": {
              "outlinewidth": 0,
              "ticks": ""
             }
            },
            "marker": {
             "colorbar": {
              "outlinewidth": 0,
              "ticks": ""
             }
            },
            "type": "scatter3d"
           }
          ],
          "scattercarpet": [
           {
            "marker": {
             "colorbar": {
              "outlinewidth": 0,
              "ticks": ""
             }
            },
            "type": "scattercarpet"
           }
          ],
          "scattergeo": [
           {
            "marker": {
             "colorbar": {
              "outlinewidth": 0,
              "ticks": ""
             }
            },
            "type": "scattergeo"
           }
          ],
          "scattergl": [
           {
            "marker": {
             "colorbar": {
              "outlinewidth": 0,
              "ticks": ""
             }
            },
            "type": "scattergl"
           }
          ],
          "scattermapbox": [
           {
            "marker": {
             "colorbar": {
              "outlinewidth": 0,
              "ticks": ""
             }
            },
            "type": "scattermapbox"
           }
          ],
          "scatterpolar": [
           {
            "marker": {
             "colorbar": {
              "outlinewidth": 0,
              "ticks": ""
             }
            },
            "type": "scatterpolar"
           }
          ],
          "scatterpolargl": [
           {
            "marker": {
             "colorbar": {
              "outlinewidth": 0,
              "ticks": ""
             }
            },
            "type": "scatterpolargl"
           }
          ],
          "scatterternary": [
           {
            "marker": {
             "colorbar": {
              "outlinewidth": 0,
              "ticks": ""
             }
            },
            "type": "scatterternary"
           }
          ],
          "surface": [
           {
            "colorbar": {
             "outlinewidth": 0,
             "ticks": ""
            },
            "colorscale": [
             [
              0,
              "#0d0887"
             ],
             [
              0.1111111111111111,
              "#46039f"
             ],
             [
              0.2222222222222222,
              "#7201a8"
             ],
             [
              0.3333333333333333,
              "#9c179e"
             ],
             [
              0.4444444444444444,
              "#bd3786"
             ],
             [
              0.5555555555555556,
              "#d8576b"
             ],
             [
              0.6666666666666666,
              "#ed7953"
             ],
             [
              0.7777777777777778,
              "#fb9f3a"
             ],
             [
              0.8888888888888888,
              "#fdca26"
             ],
             [
              1,
              "#f0f921"
             ]
            ],
            "type": "surface"
           }
          ],
          "table": [
           {
            "cells": {
             "fill": {
              "color": "#EBF0F8"
             },
             "line": {
              "color": "white"
             }
            },
            "header": {
             "fill": {
              "color": "#C8D4E3"
             },
             "line": {
              "color": "white"
             }
            },
            "type": "table"
           }
          ]
         },
         "layout": {
          "annotationdefaults": {
           "arrowcolor": "#2a3f5f",
           "arrowhead": 0,
           "arrowwidth": 1
          },
          "autotypenumbers": "strict",
          "coloraxis": {
           "colorbar": {
            "outlinewidth": 0,
            "ticks": ""
           }
          },
          "colorscale": {
           "diverging": [
            [
             0,
             "#8e0152"
            ],
            [
             0.1,
             "#c51b7d"
            ],
            [
             0.2,
             "#de77ae"
            ],
            [
             0.3,
             "#f1b6da"
            ],
            [
             0.4,
             "#fde0ef"
            ],
            [
             0.5,
             "#f7f7f7"
            ],
            [
             0.6,
             "#e6f5d0"
            ],
            [
             0.7,
             "#b8e186"
            ],
            [
             0.8,
             "#7fbc41"
            ],
            [
             0.9,
             "#4d9221"
            ],
            [
             1,
             "#276419"
            ]
           ],
           "sequential": [
            [
             0,
             "#0d0887"
            ],
            [
             0.1111111111111111,
             "#46039f"
            ],
            [
             0.2222222222222222,
             "#7201a8"
            ],
            [
             0.3333333333333333,
             "#9c179e"
            ],
            [
             0.4444444444444444,
             "#bd3786"
            ],
            [
             0.5555555555555556,
             "#d8576b"
            ],
            [
             0.6666666666666666,
             "#ed7953"
            ],
            [
             0.7777777777777778,
             "#fb9f3a"
            ],
            [
             0.8888888888888888,
             "#fdca26"
            ],
            [
             1,
             "#f0f921"
            ]
           ],
           "sequentialminus": [
            [
             0,
             "#0d0887"
            ],
            [
             0.1111111111111111,
             "#46039f"
            ],
            [
             0.2222222222222222,
             "#7201a8"
            ],
            [
             0.3333333333333333,
             "#9c179e"
            ],
            [
             0.4444444444444444,
             "#bd3786"
            ],
            [
             0.5555555555555556,
             "#d8576b"
            ],
            [
             0.6666666666666666,
             "#ed7953"
            ],
            [
             0.7777777777777778,
             "#fb9f3a"
            ],
            [
             0.8888888888888888,
             "#fdca26"
            ],
            [
             1,
             "#f0f921"
            ]
           ]
          },
          "colorway": [
           "#636efa",
           "#EF553B",
           "#00cc96",
           "#ab63fa",
           "#FFA15A",
           "#19d3f3",
           "#FF6692",
           "#B6E880",
           "#FF97FF",
           "#FECB52"
          ],
          "font": {
           "color": "#2a3f5f"
          },
          "geo": {
           "bgcolor": "white",
           "lakecolor": "white",
           "landcolor": "#E5ECF6",
           "showlakes": true,
           "showland": true,
           "subunitcolor": "white"
          },
          "hoverlabel": {
           "align": "left"
          },
          "hovermode": "closest",
          "mapbox": {
           "style": "light"
          },
          "paper_bgcolor": "white",
          "plot_bgcolor": "#E5ECF6",
          "polar": {
           "angularaxis": {
            "gridcolor": "white",
            "linecolor": "white",
            "ticks": ""
           },
           "bgcolor": "#E5ECF6",
           "radialaxis": {
            "gridcolor": "white",
            "linecolor": "white",
            "ticks": ""
           }
          },
          "scene": {
           "xaxis": {
            "backgroundcolor": "#E5ECF6",
            "gridcolor": "white",
            "gridwidth": 2,
            "linecolor": "white",
            "showbackground": true,
            "ticks": "",
            "zerolinecolor": "white"
           },
           "yaxis": {
            "backgroundcolor": "#E5ECF6",
            "gridcolor": "white",
            "gridwidth": 2,
            "linecolor": "white",
            "showbackground": true,
            "ticks": "",
            "zerolinecolor": "white"
           },
           "zaxis": {
            "backgroundcolor": "#E5ECF6",
            "gridcolor": "white",
            "gridwidth": 2,
            "linecolor": "white",
            "showbackground": true,
            "ticks": "",
            "zerolinecolor": "white"
           }
          },
          "shapedefaults": {
           "line": {
            "color": "#2a3f5f"
           }
          },
          "ternary": {
           "aaxis": {
            "gridcolor": "white",
            "linecolor": "white",
            "ticks": ""
           },
           "baxis": {
            "gridcolor": "white",
            "linecolor": "white",
            "ticks": ""
           },
           "bgcolor": "#E5ECF6",
           "caxis": {
            "gridcolor": "white",
            "linecolor": "white",
            "ticks": ""
           }
          },
          "title": {
           "x": 0.05
          },
          "xaxis": {
           "automargin": true,
           "gridcolor": "white",
           "linecolor": "white",
           "ticks": "",
           "title": {
            "standoff": 15
           },
           "zerolinecolor": "white",
           "zerolinewidth": 2
          },
          "yaxis": {
           "automargin": true,
           "gridcolor": "white",
           "linecolor": "white",
           "ticks": "",
           "title": {
            "standoff": 15
           },
           "zerolinecolor": "white",
           "zerolinewidth": 2
          }
         }
        },
        "title": {
         "text": "Parallel Coordinate Plot"
        }
       }
      }
     },
     "metadata": {},
     "output_type": "display_data"
    }
   ],
   "source": [
    "optuna.visualization.plot_parallel_coordinate(study)"
   ]
  },
  {
   "cell_type": "code",
   "execution_count": 31,
   "metadata": {},
   "outputs": [
    {
     "data": {
      "application/vnd.plotly.v1+json": {
       "config": {
        "plotlyServerURL": "https://plot.ly"
       },
       "data": [
        {
         "marker": {
          "color": [
           0,
           1,
           2,
           3,
           4,
           5,
           6,
           7,
           8,
           9,
           10,
           11,
           12,
           13,
           14,
           15,
           16,
           17,
           18,
           19,
           20,
           21,
           22,
           23,
           24,
           25,
           26,
           27,
           28,
           29,
           30,
           31,
           32,
           33,
           34,
           35,
           36,
           37,
           38,
           39,
           40,
           41,
           42,
           43,
           44,
           45,
           46,
           47,
           48,
           49,
           50,
           51,
           52,
           53,
           54,
           55,
           56,
           57,
           58,
           59,
           60,
           61,
           62,
           63,
           64,
           65,
           66,
           67,
           68,
           69,
           70,
           71,
           72,
           73,
           74,
           75,
           76,
           77,
           78,
           79,
           80,
           81,
           82,
           83,
           84,
           85,
           86,
           87,
           88,
           89,
           90,
           91,
           92,
           93,
           94,
           95,
           96,
           97,
           98,
           99
          ],
          "colorbar": {
           "title": {
            "text": "Trial"
           },
           "x": 1,
           "xpad": 40
          },
          "colorscale": [
           [
            0,
            "rgb(247,251,255)"
           ],
           [
            0.125,
            "rgb(222,235,247)"
           ],
           [
            0.25,
            "rgb(198,219,239)"
           ],
           [
            0.375,
            "rgb(158,202,225)"
           ],
           [
            0.5,
            "rgb(107,174,214)"
           ],
           [
            0.625,
            "rgb(66,146,198)"
           ],
           [
            0.75,
            "rgb(33,113,181)"
           ],
           [
            0.875,
            "rgb(8,81,156)"
           ],
           [
            1,
            "rgb(8,48,107)"
           ]
          ],
          "line": {
           "color": "Grey",
           "width": 0.5
          },
          "showscale": true
         },
         "mode": "markers",
         "name": "Feasible Trial",
         "showlegend": false,
         "type": "scatter",
         "x": [
          0.8075497483822798,
          0.1357595213515504,
          0.543048171619433,
          0.10840036173214972,
          0.5021217444262094,
          0.5978242631668711,
          0.45455544715861607,
          0.20902331538722896,
          0.44515468674900904,
          0.9991957459805748,
          0.9966144250502675,
          0.9930507992811943,
          0.9869604718158984,
          0.7977618054048551,
          0.8220681105302404,
          0.8994412674670758,
          0.6977987838869015,
          0.6703753380053075,
          0.6890001588128423,
          0.35438793257193923,
          0.35108893934077257,
          0.6748204170530534,
          0.6855983060970748,
          0.6546028282624587,
          0.6449762024865476,
          0.5954982482864963,
          0.592519957511103,
          0.6102039793996391,
          0.38605353281268223,
          0.761330783164768,
          0.5578764283855611,
          0.6145097953267188,
          0.593715272878277,
          0.529151586997932,
          0.5883916516426121,
          0.4814188094543561,
          0.7423154077309899,
          0.41018388260697536,
          0.2785530599676753,
          0.5265139790679513,
          0.5776551133288115,
          0.6135917860311096,
          0.6384787064873401,
          0.7326100466451575,
          0.4853463374267798,
          0.48030987805682446,
          0.4467169456745692,
          0.540539901614992,
          0.5012906034420513,
          0.5675577699958483,
          0.8578788676726208,
          0.8760391737395763,
          0.8993081600698078,
          0.8519782269433682,
          0.8681898074119421,
          0.8691240147479463,
          0.9346580761453498,
          0.8322049262499734,
          0.9580699579203061,
          0.7942898169826886,
          0.8870684154156012,
          0.8518265801040698,
          0.8521790250448233,
          0.9243185683260225,
          0.9421641802637687,
          0.9419257932569749,
          0.9652641385078766,
          0.9627384909841545,
          0.9164949234485503,
          0.7808202639819832,
          0.9750011075253954,
          0.924563503898957,
          0.9238673436922821,
          0.8157457126443375,
          0.9937758699587282,
          0.8346887330854736,
          0.8371564465992453,
          0.891124010670279,
          0.8873835703998783,
          0.8870611205989636,
          0.7180709387904489,
          0.8913844246487428,
          0.7251006503190864,
          0.8840900396208008,
          0.7716621523252429,
          0.885144436305152,
          0.7651752686245017,
          0.8102410371044066,
          0.7770151281958555,
          0.7474019251990259,
          0.9103308897670427,
          0.8845650168391315,
          0.8278278296978291,
          0.8884689528564987,
          0.7937005835806443,
          0.8720966437711039,
          0.77161256596603,
          0.11944577597352274,
          0.8410487622870704,
          0.9037544027057853
         ],
         "xaxis": "x",
         "y": [
          -35107.04967695009,
          -36344.49976774887,
          -39374.81294517411,
          -48084.998811911246,
          -32639.460132767133,
          -33403.18633814659,
          -35946.837277354105,
          -45727.52577006714,
          -32480.56236057876,
          -31300.027424020518,
          -32045.41697642084,
          -31808.257548174668,
          -38932.67017688677,
          -31835.248166467984,
          -45111.01027564659,
          -33545.5768117079,
          -31456.436580835783,
          -46465.03857311637,
          -31196.065588448117,
          -32158.41544619248,
          -37512.8935130186,
          -30917.94953055014,
          -31074.273273210543,
          -30512.035230186553,
          -30232.03868422442,
          -30196.42360041379,
          -30046.872898233676,
          -31546.14282721352,
          -35480.35713152094,
          -36609.17313268869,
          -77113.82384111988,
          -30181.18082963651,
          -29770.65634195722,
          -30394.023501085438,
          -34086.136171134815,
          -33743.01042312416,
          -53899.828808775885,
          -34864.91439318376,
          -35496.89123728392,
          -37492.314878933386,
          -32750.8731533547,
          -30433.982963802933,
          -30633.257757740863,
          -31118.416308249318,
          -30157.55962434507,
          -31436.238751657947,
          -42042.53861650291,
          -41191.10785461413,
          -35004.32769010871,
          -31211.374119450786,
          -30069.206861809413,
          -29511.382035465194,
          -31117.291155345058,
          -29924.163174149602,
          -30068.77925533642,
          -30623.80586902178,
          -32750.75161545619,
          -30307.844320339664,
          -31285.091219830334,
          -31265.097006361677,
          -30595.623305163645,
          -30136.30558074714,
          -29876.24900409843,
          -29669.546634724073,
          -29968.03937818826,
          -33328.49297572173,
          -29946.40704590773,
          -48182.947558721375,
          -30265.871519416418,
          -32742.276533174736,
          -30434.9235599528,
          -29960.8482696573,
          -30057.119107584615,
          -30087.839070538106,
          -32819.38586753581,
          -29454.633699982904,
          -32772.18491785646,
          -29747.534783720475,
          -29572.044580839236,
          -29381.153771766345,
          -29774.41432587523,
          -29167.98177621385,
          -30059.948841409874,
          -29286.5570810931,
          -29430.958848258528,
          -30837.68171182379,
          -29746.718775757407,
          -45700.04189384646,
          -40281.823919631715,
          -30545.14453925391,
          -36308.63094810652,
          -30288.23117597757,
          -29747.94512872175,
          -29608.710227811076,
          -29852.518913978995,
          -29796.233731481763,
          -29971.7560840336,
          -50285.34501770486,
          -29420.64457086298,
          -30022.263512204132
         ],
         "yaxis": "y"
        },
        {
         "marker": {
          "color": [
           0,
           1,
           2,
           3,
           4,
           5,
           6,
           7,
           8,
           9,
           10,
           11,
           12,
           13,
           14,
           15,
           16,
           17,
           18,
           19,
           20,
           21,
           22,
           23,
           24,
           25,
           26,
           27,
           28,
           29,
           30,
           31,
           32,
           33,
           34,
           35,
           36,
           37,
           38,
           39,
           40,
           41,
           42,
           43,
           44,
           45,
           46,
           47,
           48,
           49,
           50,
           51,
           52,
           53,
           54,
           55,
           56,
           57,
           58,
           59,
           60,
           61,
           62,
           63,
           64,
           65,
           66,
           67,
           68,
           69,
           70,
           71,
           72,
           73,
           74,
           75,
           76,
           77,
           78,
           79,
           80,
           81,
           82,
           83,
           84,
           85,
           86,
           87,
           88,
           89,
           90,
           91,
           92,
           93,
           94,
           95,
           96,
           97,
           98,
           99
          ],
          "colorbar": {
           "title": {
            "text": "Trial"
           },
           "x": 1,
           "xpad": 40
          },
          "colorscale": [
           [
            0,
            "rgb(247,251,255)"
           ],
           [
            0.125,
            "rgb(222,235,247)"
           ],
           [
            0.25,
            "rgb(198,219,239)"
           ],
           [
            0.375,
            "rgb(158,202,225)"
           ],
           [
            0.5,
            "rgb(107,174,214)"
           ],
           [
            0.625,
            "rgb(66,146,198)"
           ],
           [
            0.75,
            "rgb(33,113,181)"
           ],
           [
            0.875,
            "rgb(8,81,156)"
           ],
           [
            1,
            "rgb(8,48,107)"
           ]
          ],
          "line": {
           "color": "Grey",
           "width": 0.5
          },
          "showscale": false
         },
         "mode": "markers",
         "name": "Feasible Trial",
         "showlegend": false,
         "type": "scatter",
         "x": [
          null,
          null,
          null,
          "first",
          null,
          null,
          null,
          null,
          null,
          null,
          "first",
          "first",
          "first",
          "first",
          "first",
          "first",
          "first",
          "first",
          "first",
          null,
          null,
          "first",
          "first",
          "first",
          "first",
          "first",
          "first",
          "first",
          "first",
          "first",
          "first",
          "first",
          "first",
          "first",
          "first",
          "first",
          "first",
          "first",
          "first",
          "first",
          "first",
          "first",
          "first",
          "first",
          "first",
          null,
          "first",
          "first",
          "first",
          null,
          "first",
          "first",
          "first",
          "first",
          "first",
          "first",
          "first",
          null,
          "first",
          "first",
          "first",
          "first",
          "first",
          "first",
          "first",
          "first",
          "first",
          null,
          "first",
          "first",
          "first",
          "first",
          "first",
          "first",
          "first",
          "first",
          "first",
          "first",
          "first",
          "first",
          "first",
          "first",
          "first",
          "first",
          "first",
          "first",
          "first",
          null,
          "first",
          "first",
          "first",
          "first",
          "first",
          "first",
          "first",
          "first",
          "first",
          "first",
          "first",
          "first"
         ],
         "xaxis": "x2",
         "y": [
          -35107.04967695009,
          -36344.49976774887,
          -39374.81294517411,
          -48084.998811911246,
          -32639.460132767133,
          -33403.18633814659,
          -35946.837277354105,
          -45727.52577006714,
          -32480.56236057876,
          -31300.027424020518,
          -32045.41697642084,
          -31808.257548174668,
          -38932.67017688677,
          -31835.248166467984,
          -45111.01027564659,
          -33545.5768117079,
          -31456.436580835783,
          -46465.03857311637,
          -31196.065588448117,
          -32158.41544619248,
          -37512.8935130186,
          -30917.94953055014,
          -31074.273273210543,
          -30512.035230186553,
          -30232.03868422442,
          -30196.42360041379,
          -30046.872898233676,
          -31546.14282721352,
          -35480.35713152094,
          -36609.17313268869,
          -77113.82384111988,
          -30181.18082963651,
          -29770.65634195722,
          -30394.023501085438,
          -34086.136171134815,
          -33743.01042312416,
          -53899.828808775885,
          -34864.91439318376,
          -35496.89123728392,
          -37492.314878933386,
          -32750.8731533547,
          -30433.982963802933,
          -30633.257757740863,
          -31118.416308249318,
          -30157.55962434507,
          -31436.238751657947,
          -42042.53861650291,
          -41191.10785461413,
          -35004.32769010871,
          -31211.374119450786,
          -30069.206861809413,
          -29511.382035465194,
          -31117.291155345058,
          -29924.163174149602,
          -30068.77925533642,
          -30623.80586902178,
          -32750.75161545619,
          -30307.844320339664,
          -31285.091219830334,
          -31265.097006361677,
          -30595.623305163645,
          -30136.30558074714,
          -29876.24900409843,
          -29669.546634724073,
          -29968.03937818826,
          -33328.49297572173,
          -29946.40704590773,
          -48182.947558721375,
          -30265.871519416418,
          -32742.276533174736,
          -30434.9235599528,
          -29960.8482696573,
          -30057.119107584615,
          -30087.839070538106,
          -32819.38586753581,
          -29454.633699982904,
          -32772.18491785646,
          -29747.534783720475,
          -29572.044580839236,
          -29381.153771766345,
          -29774.41432587523,
          -29167.98177621385,
          -30059.948841409874,
          -29286.5570810931,
          -29430.958848258528,
          -30837.68171182379,
          -29746.718775757407,
          -45700.04189384646,
          -40281.823919631715,
          -30545.14453925391,
          -36308.63094810652,
          -30288.23117597757,
          -29747.94512872175,
          -29608.710227811076,
          -29852.518913978995,
          -29796.233731481763,
          -29971.7560840336,
          -50285.34501770486,
          -29420.64457086298,
          -30022.263512204132
         ],
         "yaxis": "y2"
        },
        {
         "marker": {
          "color": [
           0,
           1,
           2,
           3,
           4,
           5,
           6,
           7,
           8,
           9,
           10,
           11,
           12,
           13,
           14,
           15,
           16,
           17,
           18,
           19,
           20,
           21,
           22,
           23,
           24,
           25,
           26,
           27,
           28,
           29,
           30,
           31,
           32,
           33,
           34,
           35,
           36,
           37,
           38,
           39,
           40,
           41,
           42,
           43,
           44,
           45,
           46,
           47,
           48,
           49,
           50,
           51,
           52,
           53,
           54,
           55,
           56,
           57,
           58,
           59,
           60,
           61,
           62,
           63,
           64,
           65,
           66,
           67,
           68,
           69,
           70,
           71,
           72,
           73,
           74,
           75,
           76,
           77,
           78,
           79,
           80,
           81,
           82,
           83,
           84,
           85,
           86,
           87,
           88,
           89,
           90,
           91,
           92,
           93,
           94,
           95,
           96,
           97,
           98,
           99
          ],
          "colorbar": {
           "title": {
            "text": "Trial"
           },
           "x": 1,
           "xpad": 40
          },
          "colorscale": [
           [
            0,
            "rgb(247,251,255)"
           ],
           [
            0.125,
            "rgb(222,235,247)"
           ],
           [
            0.25,
            "rgb(198,219,239)"
           ],
           [
            0.375,
            "rgb(158,202,225)"
           ],
           [
            0.5,
            "rgb(107,174,214)"
           ],
           [
            0.625,
            "rgb(66,146,198)"
           ],
           [
            0.75,
            "rgb(33,113,181)"
           ],
           [
            0.875,
            "rgb(8,81,156)"
           ],
           [
            1,
            "rgb(8,48,107)"
           ]
          ],
          "line": {
           "color": "Grey",
           "width": 0.5
          },
          "showscale": false
         },
         "mode": "markers",
         "name": "Feasible Trial",
         "showlegend": false,
         "type": "scatter",
         "x": [
          9,
          2,
          5,
          2,
          2,
          9,
          6,
          6,
          7,
          7,
          10,
          10,
          8,
          4,
          10,
          8,
          4,
          3,
          4,
          5,
          1,
          4,
          4,
          4,
          3,
          3,
          3,
          1,
          3,
          3,
          2,
          3,
          3,
          1,
          5,
          2,
          3,
          2,
          5,
          3,
          2,
          3,
          3,
          2,
          2,
          1,
          2,
          1,
          6,
          2,
          4,
          4,
          4,
          5,
          5,
          6,
          5,
          5,
          6,
          4,
          7,
          5,
          5,
          4,
          5,
          4,
          5,
          7,
          5,
          6,
          4,
          4,
          5,
          4,
          6,
          4,
          4,
          4,
          4,
          4,
          4,
          4,
          4,
          3,
          3,
          3,
          3,
          3,
          3,
          3,
          4,
          4,
          3,
          3,
          3,
          3,
          3,
          4,
          2,
          2
         ],
         "xaxis": "x3",
         "y": [
          -35107.04967695009,
          -36344.49976774887,
          -39374.81294517411,
          -48084.998811911246,
          -32639.460132767133,
          -33403.18633814659,
          -35946.837277354105,
          -45727.52577006714,
          -32480.56236057876,
          -31300.027424020518,
          -32045.41697642084,
          -31808.257548174668,
          -38932.67017688677,
          -31835.248166467984,
          -45111.01027564659,
          -33545.5768117079,
          -31456.436580835783,
          -46465.03857311637,
          -31196.065588448117,
          -32158.41544619248,
          -37512.8935130186,
          -30917.94953055014,
          -31074.273273210543,
          -30512.035230186553,
          -30232.03868422442,
          -30196.42360041379,
          -30046.872898233676,
          -31546.14282721352,
          -35480.35713152094,
          -36609.17313268869,
          -77113.82384111988,
          -30181.18082963651,
          -29770.65634195722,
          -30394.023501085438,
          -34086.136171134815,
          -33743.01042312416,
          -53899.828808775885,
          -34864.91439318376,
          -35496.89123728392,
          -37492.314878933386,
          -32750.8731533547,
          -30433.982963802933,
          -30633.257757740863,
          -31118.416308249318,
          -30157.55962434507,
          -31436.238751657947,
          -42042.53861650291,
          -41191.10785461413,
          -35004.32769010871,
          -31211.374119450786,
          -30069.206861809413,
          -29511.382035465194,
          -31117.291155345058,
          -29924.163174149602,
          -30068.77925533642,
          -30623.80586902178,
          -32750.75161545619,
          -30307.844320339664,
          -31285.091219830334,
          -31265.097006361677,
          -30595.623305163645,
          -30136.30558074714,
          -29876.24900409843,
          -29669.546634724073,
          -29968.03937818826,
          -33328.49297572173,
          -29946.40704590773,
          -48182.947558721375,
          -30265.871519416418,
          -32742.276533174736,
          -30434.9235599528,
          -29960.8482696573,
          -30057.119107584615,
          -30087.839070538106,
          -32819.38586753581,
          -29454.633699982904,
          -32772.18491785646,
          -29747.534783720475,
          -29572.044580839236,
          -29381.153771766345,
          -29774.41432587523,
          -29167.98177621385,
          -30059.948841409874,
          -29286.5570810931,
          -29430.958848258528,
          -30837.68171182379,
          -29746.718775757407,
          -45700.04189384646,
          -40281.823919631715,
          -30545.14453925391,
          -36308.63094810652,
          -30288.23117597757,
          -29747.94512872175,
          -29608.710227811076,
          -29852.518913978995,
          -29796.233731481763,
          -29971.7560840336,
          -50285.34501770486,
          -29420.64457086298,
          -30022.263512204132
         ],
         "yaxis": "y3"
        },
        {
         "marker": {
          "color": [
           0,
           1,
           2,
           3,
           4,
           5,
           6,
           7,
           8,
           9,
           10,
           11,
           12,
           13,
           14,
           15,
           16,
           17,
           18,
           19,
           20,
           21,
           22,
           23,
           24,
           25,
           26,
           27,
           28,
           29,
           30,
           31,
           32,
           33,
           34,
           35,
           36,
           37,
           38,
           39,
           40,
           41,
           42,
           43,
           44,
           45,
           46,
           47,
           48,
           49,
           50,
           51,
           52,
           53,
           54,
           55,
           56,
           57,
           58,
           59,
           60,
           61,
           62,
           63,
           64,
           65,
           66,
           67,
           68,
           69,
           70,
           71,
           72,
           73,
           74,
           75,
           76,
           77,
           78,
           79,
           80,
           81,
           82,
           83,
           84,
           85,
           86,
           87,
           88,
           89,
           90,
           91,
           92,
           93,
           94,
           95,
           96,
           97,
           98,
           99
          ],
          "colorbar": {
           "title": {
            "text": "Trial"
           },
           "x": 1,
           "xpad": 40
          },
          "colorscale": [
           [
            0,
            "rgb(247,251,255)"
           ],
           [
            0.125,
            "rgb(222,235,247)"
           ],
           [
            0.25,
            "rgb(198,219,239)"
           ],
           [
            0.375,
            "rgb(158,202,225)"
           ],
           [
            0.5,
            "rgb(107,174,214)"
           ],
           [
            0.625,
            "rgb(66,146,198)"
           ],
           [
            0.75,
            "rgb(33,113,181)"
           ],
           [
            0.875,
            "rgb(8,81,156)"
           ],
           [
            1,
            "rgb(8,48,107)"
           ]
          ],
          "line": {
           "color": "Grey",
           "width": 0.5
          },
          "showscale": false
         },
         "mode": "markers",
         "name": "Feasible Trial",
         "showlegend": false,
         "type": "scatter",
         "x": [
          0.37682639636416987,
          0.31208576055155435,
          0.5335489608284258,
          0.9119579859520635,
          0.186257963764118,
          0.6348054356173998,
          0.27808984813980225,
          0.1954720618755534,
          0.3403534873359806,
          0.19133618672281744,
          0.030962601933058748,
          0.031996541479350715,
          0.01097901815814789,
          0.12625278078626917,
          0.7381704072597471,
          0.4378804187957292,
          0.15475538628924945,
          0.5514761407650731,
          0.16117367521737289,
          0.2514435772030983,
          0.4366806124449427,
          0.13037095634992224,
          0.11711254158180312,
          0.13851355294756046,
          0.09046828004462082,
          0.08228589606377461,
          0.08120681768939117,
          0.07253870338075152,
          0.2506272480567383,
          0.37075610999030884,
          0.9726720356363205,
          0.09212411457302241,
          0.07705309633597604,
          0.06846458894129845,
          0.2655080869472797,
          0.21474213503071987,
          0.796011912693863,
          0.3138119616794609,
          0.06625686638141742,
          0.014316202583331064,
          0.2176019030678652,
          0.09191208464425177,
          0.08574412973805658,
          0.18139971168051428,
          0.05735763532348002,
          0.04237722808845466,
          0.6430534546143132,
          0.010865840876970567,
          0.2176143568032572,
          0.2979346966182199,
          0.12902159669663812,
          0.1089844717361879,
          0.16682918702003352,
          0.1184187818126223,
          0.12550611329766276,
          0.13414694983764922,
          0.12321934639819013,
          0.1855167488303165,
          0.24445400573063988,
          0.3437285543940274,
          0.16164466129815946,
          0.03757006551527784,
          0.036723118781500294,
          0.12616666537006682,
          0.11653690396312322,
          0.4397782617020114,
          0.10550865089140374,
          0.05189076112146931,
          0.20790825403768232,
          0.11335475643997213,
          0.1523444799211728,
          0.03837692182596125,
          0.10016717819469305,
          0.10437716430025591,
          0.03447353684027611,
          0.056450130857786086,
          0.015116294063842062,
          0.06897374746227666,
          0.06232472607289893,
          0.06970785791750211,
          0.06541202273595416,
          0.07530917098377808,
          0.07765123347916987,
          0.06575178043714014,
          0.06802228003867762,
          0.14976885581235322,
          0.053307083044059206,
          0.8174003095322193,
          0.6000604675820864,
          0.1782390242991162,
          0.010468465951655875,
          0.05762026827335519,
          0.05699713717773584,
          0.08411289018614865,
          0.08682543974384563,
          0.1407575180487744,
          0.0945602626932347,
          0.03175365067391316,
          0.05217733263677197,
          0.15241380212652256
         ],
         "xaxis": "x4",
         "y": [
          -35107.04967695009,
          -36344.49976774887,
          -39374.81294517411,
          -48084.998811911246,
          -32639.460132767133,
          -33403.18633814659,
          -35946.837277354105,
          -45727.52577006714,
          -32480.56236057876,
          -31300.027424020518,
          -32045.41697642084,
          -31808.257548174668,
          -38932.67017688677,
          -31835.248166467984,
          -45111.01027564659,
          -33545.5768117079,
          -31456.436580835783,
          -46465.03857311637,
          -31196.065588448117,
          -32158.41544619248,
          -37512.8935130186,
          -30917.94953055014,
          -31074.273273210543,
          -30512.035230186553,
          -30232.03868422442,
          -30196.42360041379,
          -30046.872898233676,
          -31546.14282721352,
          -35480.35713152094,
          -36609.17313268869,
          -77113.82384111988,
          -30181.18082963651,
          -29770.65634195722,
          -30394.023501085438,
          -34086.136171134815,
          -33743.01042312416,
          -53899.828808775885,
          -34864.91439318376,
          -35496.89123728392,
          -37492.314878933386,
          -32750.8731533547,
          -30433.982963802933,
          -30633.257757740863,
          -31118.416308249318,
          -30157.55962434507,
          -31436.238751657947,
          -42042.53861650291,
          -41191.10785461413,
          -35004.32769010871,
          -31211.374119450786,
          -30069.206861809413,
          -29511.382035465194,
          -31117.291155345058,
          -29924.163174149602,
          -30068.77925533642,
          -30623.80586902178,
          -32750.75161545619,
          -30307.844320339664,
          -31285.091219830334,
          -31265.097006361677,
          -30595.623305163645,
          -30136.30558074714,
          -29876.24900409843,
          -29669.546634724073,
          -29968.03937818826,
          -33328.49297572173,
          -29946.40704590773,
          -48182.947558721375,
          -30265.871519416418,
          -32742.276533174736,
          -30434.9235599528,
          -29960.8482696573,
          -30057.119107584615,
          -30087.839070538106,
          -32819.38586753581,
          -29454.633699982904,
          -32772.18491785646,
          -29747.534783720475,
          -29572.044580839236,
          -29381.153771766345,
          -29774.41432587523,
          -29167.98177621385,
          -30059.948841409874,
          -29286.5570810931,
          -29430.958848258528,
          -30837.68171182379,
          -29746.718775757407,
          -45700.04189384646,
          -40281.823919631715,
          -30545.14453925391,
          -36308.63094810652,
          -30288.23117597757,
          -29747.94512872175,
          -29608.710227811076,
          -29852.518913978995,
          -29796.233731481763,
          -29971.7560840336,
          -50285.34501770486,
          -29420.64457086298,
          -30022.263512204132
         ],
         "yaxis": "y4"
        },
        {
         "marker": {
          "color": [
           0,
           1,
           2,
           3,
           4,
           5,
           6,
           7,
           8,
           9,
           10,
           11,
           12,
           13,
           14,
           15,
           16,
           17,
           18,
           19,
           20,
           21,
           22,
           23,
           24,
           25,
           26,
           27,
           28,
           29,
           30,
           31,
           32,
           33,
           34,
           35,
           36,
           37,
           38,
           39,
           40,
           41,
           42,
           43,
           44,
           45,
           46,
           47,
           48,
           49,
           50,
           51,
           52,
           53,
           54,
           55,
           56,
           57,
           58,
           59,
           60,
           61,
           62,
           63,
           64,
           65,
           66,
           67,
           68,
           69,
           70,
           71,
           72,
           73,
           74,
           75,
           76,
           77,
           78,
           79,
           80,
           81,
           82,
           83,
           84,
           85,
           86,
           87,
           88,
           89,
           90,
           91,
           92,
           93,
           94,
           95,
           96,
           97,
           98,
           99
          ],
          "colorbar": {
           "title": {
            "text": "Trial"
           },
           "x": 1,
           "xpad": 40
          },
          "colorscale": [
           [
            0,
            "rgb(247,251,255)"
           ],
           [
            0.125,
            "rgb(222,235,247)"
           ],
           [
            0.25,
            "rgb(198,219,239)"
           ],
           [
            0.375,
            "rgb(158,202,225)"
           ],
           [
            0.5,
            "rgb(107,174,214)"
           ],
           [
            0.625,
            "rgb(66,146,198)"
           ],
           [
            0.75,
            "rgb(33,113,181)"
           ],
           [
            0.875,
            "rgb(8,81,156)"
           ],
           [
            1,
            "rgb(8,48,107)"
           ]
          ],
          "line": {
           "color": "Grey",
           "width": 0.5
          },
          "showscale": false
         },
         "mode": "markers",
         "name": "Feasible Trial",
         "showlegend": false,
         "type": "scatter",
         "x": [
          4,
          9,
          4,
          4,
          6,
          3,
          2,
          1,
          5,
          10,
          10,
          10,
          8,
          7,
          10,
          8,
          9,
          8,
          9,
          6,
          9,
          9,
          7,
          7,
          7,
          7,
          7,
          5,
          6,
          7,
          5,
          7,
          8,
          8,
          6,
          8,
          7,
          6,
          4,
          8,
          3,
          7,
          7,
          6,
          8,
          8,
          9,
          8,
          9,
          5,
          6,
          6,
          4,
          5,
          5,
          5,
          3,
          4,
          5,
          6,
          5,
          6,
          6,
          6,
          5,
          6,
          5,
          1,
          4,
          3,
          5,
          6,
          5,
          6,
          4,
          6,
          6,
          6,
          6,
          7,
          7,
          7,
          7,
          7,
          7,
          7,
          7,
          7,
          7,
          7,
          7,
          6,
          6,
          7,
          7,
          8,
          7,
          8,
          7,
          7
         ],
         "xaxis": "x5",
         "y": [
          -35107.04967695009,
          -36344.49976774887,
          -39374.81294517411,
          -48084.998811911246,
          -32639.460132767133,
          -33403.18633814659,
          -35946.837277354105,
          -45727.52577006714,
          -32480.56236057876,
          -31300.027424020518,
          -32045.41697642084,
          -31808.257548174668,
          -38932.67017688677,
          -31835.248166467984,
          -45111.01027564659,
          -33545.5768117079,
          -31456.436580835783,
          -46465.03857311637,
          -31196.065588448117,
          -32158.41544619248,
          -37512.8935130186,
          -30917.94953055014,
          -31074.273273210543,
          -30512.035230186553,
          -30232.03868422442,
          -30196.42360041379,
          -30046.872898233676,
          -31546.14282721352,
          -35480.35713152094,
          -36609.17313268869,
          -77113.82384111988,
          -30181.18082963651,
          -29770.65634195722,
          -30394.023501085438,
          -34086.136171134815,
          -33743.01042312416,
          -53899.828808775885,
          -34864.91439318376,
          -35496.89123728392,
          -37492.314878933386,
          -32750.8731533547,
          -30433.982963802933,
          -30633.257757740863,
          -31118.416308249318,
          -30157.55962434507,
          -31436.238751657947,
          -42042.53861650291,
          -41191.10785461413,
          -35004.32769010871,
          -31211.374119450786,
          -30069.206861809413,
          -29511.382035465194,
          -31117.291155345058,
          -29924.163174149602,
          -30068.77925533642,
          -30623.80586902178,
          -32750.75161545619,
          -30307.844320339664,
          -31285.091219830334,
          -31265.097006361677,
          -30595.623305163645,
          -30136.30558074714,
          -29876.24900409843,
          -29669.546634724073,
          -29968.03937818826,
          -33328.49297572173,
          -29946.40704590773,
          -48182.947558721375,
          -30265.871519416418,
          -32742.276533174736,
          -30434.9235599528,
          -29960.8482696573,
          -30057.119107584615,
          -30087.839070538106,
          -32819.38586753581,
          -29454.633699982904,
          -32772.18491785646,
          -29747.534783720475,
          -29572.044580839236,
          -29381.153771766345,
          -29774.41432587523,
          -29167.98177621385,
          -30059.948841409874,
          -29286.5570810931,
          -29430.958848258528,
          -30837.68171182379,
          -29746.718775757407,
          -45700.04189384646,
          -40281.823919631715,
          -30545.14453925391,
          -36308.63094810652,
          -30288.23117597757,
          -29747.94512872175,
          -29608.710227811076,
          -29852.518913978995,
          -29796.233731481763,
          -29971.7560840336,
          -50285.34501770486,
          -29420.64457086298,
          -30022.263512204132
         ],
         "yaxis": "y5"
        },
        {
         "marker": {
          "color": [
           0,
           1,
           2,
           3,
           4,
           5,
           6,
           7,
           8,
           9,
           10,
           11,
           12,
           13,
           14,
           15,
           16,
           17,
           18,
           19,
           20,
           21,
           22,
           23,
           24,
           25,
           26,
           27,
           28,
           29,
           30,
           31,
           32,
           33,
           34,
           35,
           36,
           37,
           38,
           39,
           40,
           41,
           42,
           43,
           44,
           45,
           46,
           47,
           48,
           49,
           50,
           51,
           52,
           53,
           54,
           55,
           56,
           57,
           58,
           59,
           60,
           61,
           62,
           63,
           64,
           65,
           66,
           67,
           68,
           69,
           70,
           71,
           72,
           73,
           74,
           75,
           76,
           77,
           78,
           79,
           80,
           81,
           82,
           83,
           84,
           85,
           86,
           87,
           88,
           89,
           90,
           91,
           92,
           93,
           94,
           95,
           96,
           97,
           98,
           99
          ],
          "colorbar": {
           "title": {
            "text": "Trial"
           },
           "x": 1,
           "xpad": 40
          },
          "colorscale": [
           [
            0,
            "rgb(247,251,255)"
           ],
           [
            0.125,
            "rgb(222,235,247)"
           ],
           [
            0.25,
            "rgb(198,219,239)"
           ],
           [
            0.375,
            "rgb(158,202,225)"
           ],
           [
            0.5,
            "rgb(107,174,214)"
           ],
           [
            0.625,
            "rgb(66,146,198)"
           ],
           [
            0.75,
            "rgb(33,113,181)"
           ],
           [
            0.875,
            "rgb(8,81,156)"
           ],
           [
            1,
            "rgb(8,48,107)"
           ]
          ],
          "line": {
           "color": "Grey",
           "width": 0.5
          },
          "showscale": false
         },
         "mode": "markers",
         "name": "Feasible Trial",
         "showlegend": false,
         "type": "scatter",
         "x": [
          129,
          178,
          160,
          188,
          133,
          175,
          151,
          149,
          100,
          145,
          101,
          101,
          120,
          200,
          116,
          145,
          114,
          136,
          116,
          168,
          139,
          117,
          121,
          123,
          124,
          127,
          127,
          108,
          131,
          128,
          129,
          123,
          108,
          108,
          111,
          140,
          157,
          106,
          127,
          138,
          132,
          124,
          124,
          112,
          120,
          107,
          118,
          134,
          143,
          103,
          149,
          152,
          158,
          152,
          164,
          150,
          165,
          154,
          177,
          163,
          174,
          169,
          184,
          189,
          188,
          187,
          187,
          188,
          193,
          184,
          199,
          182,
          182,
          192,
          181,
          195,
          195,
          172,
          173,
          174,
          172,
          173,
          172,
          170,
          177,
          178,
          170,
          179,
          169,
          175,
          166,
          161,
          170,
          174,
          175,
          198,
          167,
          179,
          162,
          159
         ],
         "xaxis": "x6",
         "y": [
          -35107.04967695009,
          -36344.49976774887,
          -39374.81294517411,
          -48084.998811911246,
          -32639.460132767133,
          -33403.18633814659,
          -35946.837277354105,
          -45727.52577006714,
          -32480.56236057876,
          -31300.027424020518,
          -32045.41697642084,
          -31808.257548174668,
          -38932.67017688677,
          -31835.248166467984,
          -45111.01027564659,
          -33545.5768117079,
          -31456.436580835783,
          -46465.03857311637,
          -31196.065588448117,
          -32158.41544619248,
          -37512.8935130186,
          -30917.94953055014,
          -31074.273273210543,
          -30512.035230186553,
          -30232.03868422442,
          -30196.42360041379,
          -30046.872898233676,
          -31546.14282721352,
          -35480.35713152094,
          -36609.17313268869,
          -77113.82384111988,
          -30181.18082963651,
          -29770.65634195722,
          -30394.023501085438,
          -34086.136171134815,
          -33743.01042312416,
          -53899.828808775885,
          -34864.91439318376,
          -35496.89123728392,
          -37492.314878933386,
          -32750.8731533547,
          -30433.982963802933,
          -30633.257757740863,
          -31118.416308249318,
          -30157.55962434507,
          -31436.238751657947,
          -42042.53861650291,
          -41191.10785461413,
          -35004.32769010871,
          -31211.374119450786,
          -30069.206861809413,
          -29511.382035465194,
          -31117.291155345058,
          -29924.163174149602,
          -30068.77925533642,
          -30623.80586902178,
          -32750.75161545619,
          -30307.844320339664,
          -31285.091219830334,
          -31265.097006361677,
          -30595.623305163645,
          -30136.30558074714,
          -29876.24900409843,
          -29669.546634724073,
          -29968.03937818826,
          -33328.49297572173,
          -29946.40704590773,
          -48182.947558721375,
          -30265.871519416418,
          -32742.276533174736,
          -30434.9235599528,
          -29960.8482696573,
          -30057.119107584615,
          -30087.839070538106,
          -32819.38586753581,
          -29454.633699982904,
          -32772.18491785646,
          -29747.534783720475,
          -29572.044580839236,
          -29381.153771766345,
          -29774.41432587523,
          -29167.98177621385,
          -30059.948841409874,
          -29286.5570810931,
          -29430.958848258528,
          -30837.68171182379,
          -29746.718775757407,
          -45700.04189384646,
          -40281.823919631715,
          -30545.14453925391,
          -36308.63094810652,
          -30288.23117597757,
          -29747.94512872175,
          -29608.710227811076,
          -29852.518913978995,
          -29796.233731481763,
          -29971.7560840336,
          -50285.34501770486,
          -29420.64457086298,
          -30022.263512204132
         ],
         "yaxis": "y6"
        },
        {
         "marker": {
          "color": [
           0,
           1,
           2,
           3,
           4,
           5,
           6,
           7,
           8,
           9,
           10,
           11,
           12,
           13,
           14,
           15,
           16,
           17,
           18,
           19,
           20,
           21,
           22,
           23,
           24,
           25,
           26,
           27,
           28,
           29,
           30,
           31,
           32,
           33,
           34,
           35,
           36,
           37,
           38,
           39,
           40,
           41,
           42,
           43,
           44,
           45,
           46,
           47,
           48,
           49,
           50,
           51,
           52,
           53,
           54,
           55,
           56,
           57,
           58,
           59,
           60,
           61,
           62,
           63,
           64,
           65,
           66,
           67,
           68,
           69,
           70,
           71,
           72,
           73,
           74,
           75,
           76,
           77,
           78,
           79,
           80,
           81,
           82,
           83,
           84,
           85,
           86,
           87,
           88,
           89,
           90,
           91,
           92,
           93,
           94,
           95,
           96,
           97,
           98,
           99
          ],
          "colorbar": {
           "title": {
            "text": "Trial"
           },
           "x": 1,
           "xpad": 40
          },
          "colorscale": [
           [
            0,
            "rgb(247,251,255)"
           ],
           [
            0.125,
            "rgb(222,235,247)"
           ],
           [
            0.25,
            "rgb(198,219,239)"
           ],
           [
            0.375,
            "rgb(158,202,225)"
           ],
           [
            0.5,
            "rgb(107,174,214)"
           ],
           [
            0.625,
            "rgb(66,146,198)"
           ],
           [
            0.75,
            "rgb(33,113,181)"
           ],
           [
            0.875,
            "rgb(8,81,156)"
           ],
           [
            1,
            "rgb(8,48,107)"
           ]
          ],
          "line": {
           "color": "Grey",
           "width": 0.5
          },
          "showscale": false
         },
         "mode": "markers",
         "name": "Feasible Trial",
         "showlegend": false,
         "type": "scatter",
         "x": [
          39,
          27,
          8,
          31,
          14,
          28,
          20,
          21,
          25,
          1,
          1,
          0,
          2,
          8,
          8,
          0,
          15,
          15,
          12,
          6,
          11,
          17,
          17,
          19,
          21,
          21,
          21,
          34,
          23,
          38,
          23,
          19,
          27,
          28,
          31,
          25,
          30,
          25,
          18,
          42,
          34,
          22,
          20,
          27,
          21,
          24,
          29,
          26,
          13,
          16,
          19,
          19,
          20,
          18,
          10,
          9,
          5,
          14,
          18,
          11,
          16,
          22,
          23,
          24,
          24,
          24,
          27,
          32,
          27,
          26,
          29,
          23,
          24,
          23,
          26,
          28,
          32,
          29,
          29,
          35,
          36,
          37,
          36,
          37,
          40,
          41,
          38,
          39,
          39,
          36,
          37,
          34,
          41,
          40,
          40,
          38,
          42,
          35,
          38,
          40
         ],
         "xaxis": "x7",
         "y": [
          -35107.04967695009,
          -36344.49976774887,
          -39374.81294517411,
          -48084.998811911246,
          -32639.460132767133,
          -33403.18633814659,
          -35946.837277354105,
          -45727.52577006714,
          -32480.56236057876,
          -31300.027424020518,
          -32045.41697642084,
          -31808.257548174668,
          -38932.67017688677,
          -31835.248166467984,
          -45111.01027564659,
          -33545.5768117079,
          -31456.436580835783,
          -46465.03857311637,
          -31196.065588448117,
          -32158.41544619248,
          -37512.8935130186,
          -30917.94953055014,
          -31074.273273210543,
          -30512.035230186553,
          -30232.03868422442,
          -30196.42360041379,
          -30046.872898233676,
          -31546.14282721352,
          -35480.35713152094,
          -36609.17313268869,
          -77113.82384111988,
          -30181.18082963651,
          -29770.65634195722,
          -30394.023501085438,
          -34086.136171134815,
          -33743.01042312416,
          -53899.828808775885,
          -34864.91439318376,
          -35496.89123728392,
          -37492.314878933386,
          -32750.8731533547,
          -30433.982963802933,
          -30633.257757740863,
          -31118.416308249318,
          -30157.55962434507,
          -31436.238751657947,
          -42042.53861650291,
          -41191.10785461413,
          -35004.32769010871,
          -31211.374119450786,
          -30069.206861809413,
          -29511.382035465194,
          -31117.291155345058,
          -29924.163174149602,
          -30068.77925533642,
          -30623.80586902178,
          -32750.75161545619,
          -30307.844320339664,
          -31285.091219830334,
          -31265.097006361677,
          -30595.623305163645,
          -30136.30558074714,
          -29876.24900409843,
          -29669.546634724073,
          -29968.03937818826,
          -33328.49297572173,
          -29946.40704590773,
          -48182.947558721375,
          -30265.871519416418,
          -32742.276533174736,
          -30434.9235599528,
          -29960.8482696573,
          -30057.119107584615,
          -30087.839070538106,
          -32819.38586753581,
          -29454.633699982904,
          -32772.18491785646,
          -29747.534783720475,
          -29572.044580839236,
          -29381.153771766345,
          -29774.41432587523,
          -29167.98177621385,
          -30059.948841409874,
          -29286.5570810931,
          -29430.958848258528,
          -30837.68171182379,
          -29746.718775757407,
          -45700.04189384646,
          -40281.823919631715,
          -30545.14453925391,
          -36308.63094810652,
          -30288.23117597757,
          -29747.94512872175,
          -29608.710227811076,
          -29852.518913978995,
          -29796.233731481763,
          -29971.7560840336,
          -50285.34501770486,
          -29420.64457086298,
          -30022.263512204132
         ],
         "yaxis": "y7"
        },
        {
         "marker": {
          "color": [
           0,
           1,
           2,
           3,
           4,
           5,
           6,
           7,
           8,
           9,
           10,
           11,
           12,
           13,
           14,
           15,
           16,
           17,
           18,
           19,
           20,
           21,
           22,
           23,
           24,
           25,
           26,
           27,
           28,
           29,
           30,
           31,
           32,
           33,
           34,
           35,
           36,
           37,
           38,
           39,
           40,
           41,
           42,
           43,
           44,
           45,
           46,
           47,
           48,
           49,
           50,
           51,
           52,
           53,
           54,
           55,
           56,
           57,
           58,
           59,
           60,
           61,
           62,
           63,
           64,
           65,
           66,
           67,
           68,
           69,
           70,
           71,
           72,
           73,
           74,
           75,
           76,
           77,
           78,
           79,
           80,
           81,
           82,
           83,
           84,
           85,
           86,
           87,
           88,
           89,
           90,
           91,
           92,
           93,
           94,
           95,
           96,
           97,
           98,
           99
          ],
          "colorbar": {
           "title": {
            "text": "Trial"
           },
           "x": 1,
           "xpad": 40
          },
          "colorscale": [
           [
            0,
            "rgb(247,251,255)"
           ],
           [
            0.125,
            "rgb(222,235,247)"
           ],
           [
            0.25,
            "rgb(198,219,239)"
           ],
           [
            0.375,
            "rgb(158,202,225)"
           ],
           [
            0.5,
            "rgb(107,174,214)"
           ],
           [
            0.625,
            "rgb(66,146,198)"
           ],
           [
            0.75,
            "rgb(33,113,181)"
           ],
           [
            0.875,
            "rgb(8,81,156)"
           ],
           [
            1,
            "rgb(8,48,107)"
           ]
          ],
          "line": {
           "color": "Grey",
           "width": 0.5
          },
          "showscale": false
         },
         "mode": "markers",
         "name": "Feasible Trial",
         "showlegend": false,
         "type": "scatter",
         "x": [
          0.000282770992823989,
          0.00004601959161673967,
          0.010354315352984554,
          0.07608069749011176,
          0.016238808164081953,
          0.07533367145781937,
          0.00034381654091433816,
          0.0044462834044867415,
          0.000013819196815219398,
          0.000017367478403926332,
          0.00006630101004618098,
          0.00003765070527997538,
          0.000011323463610071707,
          0.0000783090818354875,
          0.0007239113621068092,
          0.00003047057765135591,
          0.00017560040804700248,
          0.00019277606731258693,
          0.0015257974415999334,
          0.0024538171835700113,
          0.001289976822028616,
          0.00012799532915989213,
          0.000595074056070899,
          0.0007691454451840186,
          0.0005589254887004691,
          0.0004548994218418836,
          0.004253473197235507,
          0.00423104717745661,
          0.018284412311313655,
          0.0003241509241975034,
          0.002692476601701828,
          0.0005537399906568663,
          0.0004326762895732945,
          0.007091931289898824,
          0.0018038698436952593,
          0.0004180371555890176,
          0.0009922715175569603,
          0.028062449560674243,
          0.0002470140930104876,
          0.004252112656136211,
          0.00011148161127958829,
          0.000568597935886985,
          0.00042664506092069044,
          0.0009350304226642662,
          0.0083474512373994,
          0.009880166769150635,
          0.02008787709962929,
          0.03150444141971827,
          0.007171356919819377,
          0.03988483240046102,
          0.002114971234222125,
          0.005406984682847781,
          0.0028079944759240283,
          0.006841935957394491,
          0.011348457605107347,
          0.01368732284308098,
          0.0036453789582527253,
          0.006458752065131487,
          0.005376661874283952,
          0.01353149582118573,
          0.0018245187567353805,
          0.009862887555942465,
          0.05390016888573639,
          0.06051627393421507,
          0.06053599006996714,
          0.07848629353174476,
          0.057321992257331866,
          0.05387121454763371,
          0.09892115911982874,
          0.0546851530337244,
          0.053863257426660975,
          0.02397982663249083,
          0.024466962368042806,
          0.03917178298412651,
          0.09781739701090987,
          0.07066571296134068,
          0.03649537592756697,
          0.024315294883466322,
          0.07630134097056464,
          0.041703720021931526,
          0.07972012538822623,
          0.07289549690168273,
          0.07012232798520433,
          0.06842314752561394,
          0.04358953065533771,
          0.04443229577678963,
          0.03045796880982189,
          0.032547996163822056,
          0.043381445509595204,
          0.07018364545770357,
          0.018434304841130424,
          0.02342382238570682,
          0.0309962675069896,
          0.08832022864996075,
          0.08718698570275585,
          0.06855292688047199,
          0.045390068721947195,
          0.08268090887259882,
          0.04626705037071831,
          0.06576170060972295
         ],
         "xaxis": "x8",
         "y": [
          -35107.04967695009,
          -36344.49976774887,
          -39374.81294517411,
          -48084.998811911246,
          -32639.460132767133,
          -33403.18633814659,
          -35946.837277354105,
          -45727.52577006714,
          -32480.56236057876,
          -31300.027424020518,
          -32045.41697642084,
          -31808.257548174668,
          -38932.67017688677,
          -31835.248166467984,
          -45111.01027564659,
          -33545.5768117079,
          -31456.436580835783,
          -46465.03857311637,
          -31196.065588448117,
          -32158.41544619248,
          -37512.8935130186,
          -30917.94953055014,
          -31074.273273210543,
          -30512.035230186553,
          -30232.03868422442,
          -30196.42360041379,
          -30046.872898233676,
          -31546.14282721352,
          -35480.35713152094,
          -36609.17313268869,
          -77113.82384111988,
          -30181.18082963651,
          -29770.65634195722,
          -30394.023501085438,
          -34086.136171134815,
          -33743.01042312416,
          -53899.828808775885,
          -34864.91439318376,
          -35496.89123728392,
          -37492.314878933386,
          -32750.8731533547,
          -30433.982963802933,
          -30633.257757740863,
          -31118.416308249318,
          -30157.55962434507,
          -31436.238751657947,
          -42042.53861650291,
          -41191.10785461413,
          -35004.32769010871,
          -31211.374119450786,
          -30069.206861809413,
          -29511.382035465194,
          -31117.291155345058,
          -29924.163174149602,
          -30068.77925533642,
          -30623.80586902178,
          -32750.75161545619,
          -30307.844320339664,
          -31285.091219830334,
          -31265.097006361677,
          -30595.623305163645,
          -30136.30558074714,
          -29876.24900409843,
          -29669.546634724073,
          -29968.03937818826,
          -33328.49297572173,
          -29946.40704590773,
          -48182.947558721375,
          -30265.871519416418,
          -32742.276533174736,
          -30434.9235599528,
          -29960.8482696573,
          -30057.119107584615,
          -30087.839070538106,
          -32819.38586753581,
          -29454.633699982904,
          -32772.18491785646,
          -29747.534783720475,
          -29572.044580839236,
          -29381.153771766345,
          -29774.41432587523,
          -29167.98177621385,
          -30059.948841409874,
          -29286.5570810931,
          -29430.958848258528,
          -30837.68171182379,
          -29746.718775757407,
          -45700.04189384646,
          -40281.823919631715,
          -30545.14453925391,
          -36308.63094810652,
          -30288.23117597757,
          -29747.94512872175,
          -29608.710227811076,
          -29852.518913978995,
          -29796.233731481763,
          -29971.7560840336,
          -50285.34501770486,
          -29420.64457086298,
          -30022.263512204132
         ],
         "yaxis": "y8"
        },
        {
         "marker": {
          "color": [
           0,
           1,
           2,
           3,
           4,
           5,
           6,
           7,
           8,
           9,
           10,
           11,
           12,
           13,
           14,
           15,
           16,
           17,
           18,
           19,
           20,
           21,
           22,
           23,
           24,
           25,
           26,
           27,
           28,
           29,
           30,
           31,
           32,
           33,
           34,
           35,
           36,
           37,
           38,
           39,
           40,
           41,
           42,
           43,
           44,
           45,
           46,
           47,
           48,
           49,
           50,
           51,
           52,
           53,
           54,
           55,
           56,
           57,
           58,
           59,
           60,
           61,
           62,
           63,
           64,
           65,
           66,
           67,
           68,
           69,
           70,
           71,
           72,
           73,
           74,
           75,
           76,
           77,
           78,
           79,
           80,
           81,
           82,
           83,
           84,
           85,
           86,
           87,
           88,
           89,
           90,
           91,
           92,
           93,
           94,
           95,
           96,
           97,
           98,
           99
          ],
          "colorbar": {
           "title": {
            "text": "Trial"
           },
           "x": 1,
           "xpad": 40
          },
          "colorscale": [
           [
            0,
            "rgb(247,251,255)"
           ],
           [
            0.125,
            "rgb(222,235,247)"
           ],
           [
            0.25,
            "rgb(198,219,239)"
           ],
           [
            0.375,
            "rgb(158,202,225)"
           ],
           [
            0.5,
            "rgb(107,174,214)"
           ],
           [
            0.625,
            "rgb(66,146,198)"
           ],
           [
            0.75,
            "rgb(33,113,181)"
           ],
           [
            0.875,
            "rgb(8,81,156)"
           ],
           [
            1,
            "rgb(8,48,107)"
           ]
          ],
          "line": {
           "color": "Grey",
           "width": 0.5
          },
          "showscale": false
         },
         "mode": "markers",
         "name": "Feasible Trial",
         "showlegend": false,
         "type": "scatter",
         "x": [
          0.39919144328142064,
          0.9483000430717408,
          0.4070303631197362,
          0.46077075356961616,
          0.3433245268219671,
          0.7974445315334895,
          0.9577337315912275,
          0.6052033647175659,
          0.8152161014432873,
          0.5206454487957526,
          0.20843239416712056,
          0.22459246310564884,
          0.5764773340182563,
          0.22752403730842166,
          0.5568621052007017,
          0.703755527987257,
          0.2625589842883116,
          0.31769513582770437,
          0.49676923477671164,
          0.5083485165951087,
          0.6561964558068094,
          0.32242613985612845,
          0.4727141838644461,
          0.434952428382966,
          0.4186539996550816,
          0.3461504407918033,
          0.40028163351651025,
          0.3680525311563513,
          0.2844139603798015,
          0.3936191620002359,
          0.4245013987396347,
          0.4353098225963446,
          0.3604720421848726,
          0.2867398018225533,
          0.369931048556614,
          0.346802870695725,
          0.46075577674999546,
          0.39611836790223,
          0.3080325240191639,
          0.5298881364459576,
          0.8772119516716725,
          0.42587408977617025,
          0.36153292213694105,
          0.46127350133535905,
          0.6195260246087135,
          0.6465174437666265,
          0.7327387773815769,
          0.6087974964295318,
          0.2357783672268156,
          0.5556345969161619,
          0.622423539222837,
          0.723269416236177,
          0.7259757452436139,
          0.8095206402324937,
          0.8076511277402585,
          0.8057008072787561,
          0.8607472914822434,
          0.904896049839863,
          0.7497812409526547,
          0.988840578966648,
          0.7758855502905734,
          0.6896572159859522,
          0.6778928304082291,
          0.8359185424534014,
          0.8342299767300732,
          0.8391053861862504,
          0.7746830059709718,
          0.7756581542197377,
          0.9164785436823517,
          0.6912546283886409,
          0.8319403901444621,
          0.7897671214850673,
          0.7760270032472857,
          0.7558457287561734,
          0.8383527342935458,
          0.670566671260697,
          0.6576522829317769,
          0.7143027396786291,
          0.7133882750542133,
          0.705456070303105,
          0.6696837365795587,
          0.6662398957831182,
          0.7133408208033702,
          0.6617731036331114,
          0.5841951431190575,
          0.635949360347432,
          0.5753719092638114,
          0.584264515923423,
          0.5807140146319716,
          0.5514837342329961,
          0.5966059002553663,
          0.7055738023688438,
          0.6325413843844746,
          0.7376893701637866,
          0.7295192995927077,
          0.6674384064157606,
          0.750391282849477,
          0.6895609587514643,
          0.6055242592578363,
          0.6471668686552657
         ],
         "xaxis": "x9",
         "y": [
          -35107.04967695009,
          -36344.49976774887,
          -39374.81294517411,
          -48084.998811911246,
          -32639.460132767133,
          -33403.18633814659,
          -35946.837277354105,
          -45727.52577006714,
          -32480.56236057876,
          -31300.027424020518,
          -32045.41697642084,
          -31808.257548174668,
          -38932.67017688677,
          -31835.248166467984,
          -45111.01027564659,
          -33545.5768117079,
          -31456.436580835783,
          -46465.03857311637,
          -31196.065588448117,
          -32158.41544619248,
          -37512.8935130186,
          -30917.94953055014,
          -31074.273273210543,
          -30512.035230186553,
          -30232.03868422442,
          -30196.42360041379,
          -30046.872898233676,
          -31546.14282721352,
          -35480.35713152094,
          -36609.17313268869,
          -77113.82384111988,
          -30181.18082963651,
          -29770.65634195722,
          -30394.023501085438,
          -34086.136171134815,
          -33743.01042312416,
          -53899.828808775885,
          -34864.91439318376,
          -35496.89123728392,
          -37492.314878933386,
          -32750.8731533547,
          -30433.982963802933,
          -30633.257757740863,
          -31118.416308249318,
          -30157.55962434507,
          -31436.238751657947,
          -42042.53861650291,
          -41191.10785461413,
          -35004.32769010871,
          -31211.374119450786,
          -30069.206861809413,
          -29511.382035465194,
          -31117.291155345058,
          -29924.163174149602,
          -30068.77925533642,
          -30623.80586902178,
          -32750.75161545619,
          -30307.844320339664,
          -31285.091219830334,
          -31265.097006361677,
          -30595.623305163645,
          -30136.30558074714,
          -29876.24900409843,
          -29669.546634724073,
          -29968.03937818826,
          -33328.49297572173,
          -29946.40704590773,
          -48182.947558721375,
          -30265.871519416418,
          -32742.276533174736,
          -30434.9235599528,
          -29960.8482696573,
          -30057.119107584615,
          -30087.839070538106,
          -32819.38586753581,
          -29454.633699982904,
          -32772.18491785646,
          -29747.534783720475,
          -29572.044580839236,
          -29381.153771766345,
          -29774.41432587523,
          -29167.98177621385,
          -30059.948841409874,
          -29286.5570810931,
          -29430.958848258528,
          -30837.68171182379,
          -29746.718775757407,
          -45700.04189384646,
          -40281.823919631715,
          -30545.14453925391,
          -36308.63094810652,
          -30288.23117597757,
          -29747.94512872175,
          -29608.710227811076,
          -29852.518913978995,
          -29796.233731481763,
          -29971.7560840336,
          -50285.34501770486,
          -29420.64457086298,
          -30022.263512204132
         ],
         "yaxis": "y9"
        }
       ],
       "layout": {
        "template": {
         "data": {
          "bar": [
           {
            "error_x": {
             "color": "#2a3f5f"
            },
            "error_y": {
             "color": "#2a3f5f"
            },
            "marker": {
             "line": {
              "color": "#E5ECF6",
              "width": 0.5
             },
             "pattern": {
              "fillmode": "overlay",
              "size": 10,
              "solidity": 0.2
             }
            },
            "type": "bar"
           }
          ],
          "barpolar": [
           {
            "marker": {
             "line": {
              "color": "#E5ECF6",
              "width": 0.5
             },
             "pattern": {
              "fillmode": "overlay",
              "size": 10,
              "solidity": 0.2
             }
            },
            "type": "barpolar"
           }
          ],
          "carpet": [
           {
            "aaxis": {
             "endlinecolor": "#2a3f5f",
             "gridcolor": "white",
             "linecolor": "white",
             "minorgridcolor": "white",
             "startlinecolor": "#2a3f5f"
            },
            "baxis": {
             "endlinecolor": "#2a3f5f",
             "gridcolor": "white",
             "linecolor": "white",
             "minorgridcolor": "white",
             "startlinecolor": "#2a3f5f"
            },
            "type": "carpet"
           }
          ],
          "choropleth": [
           {
            "colorbar": {
             "outlinewidth": 0,
             "ticks": ""
            },
            "type": "choropleth"
           }
          ],
          "contour": [
           {
            "colorbar": {
             "outlinewidth": 0,
             "ticks": ""
            },
            "colorscale": [
             [
              0,
              "#0d0887"
             ],
             [
              0.1111111111111111,
              "#46039f"
             ],
             [
              0.2222222222222222,
              "#7201a8"
             ],
             [
              0.3333333333333333,
              "#9c179e"
             ],
             [
              0.4444444444444444,
              "#bd3786"
             ],
             [
              0.5555555555555556,
              "#d8576b"
             ],
             [
              0.6666666666666666,
              "#ed7953"
             ],
             [
              0.7777777777777778,
              "#fb9f3a"
             ],
             [
              0.8888888888888888,
              "#fdca26"
             ],
             [
              1,
              "#f0f921"
             ]
            ],
            "type": "contour"
           }
          ],
          "contourcarpet": [
           {
            "colorbar": {
             "outlinewidth": 0,
             "ticks": ""
            },
            "type": "contourcarpet"
           }
          ],
          "heatmap": [
           {
            "colorbar": {
             "outlinewidth": 0,
             "ticks": ""
            },
            "colorscale": [
             [
              0,
              "#0d0887"
             ],
             [
              0.1111111111111111,
              "#46039f"
             ],
             [
              0.2222222222222222,
              "#7201a8"
             ],
             [
              0.3333333333333333,
              "#9c179e"
             ],
             [
              0.4444444444444444,
              "#bd3786"
             ],
             [
              0.5555555555555556,
              "#d8576b"
             ],
             [
              0.6666666666666666,
              "#ed7953"
             ],
             [
              0.7777777777777778,
              "#fb9f3a"
             ],
             [
              0.8888888888888888,
              "#fdca26"
             ],
             [
              1,
              "#f0f921"
             ]
            ],
            "type": "heatmap"
           }
          ],
          "heatmapgl": [
           {
            "colorbar": {
             "outlinewidth": 0,
             "ticks": ""
            },
            "colorscale": [
             [
              0,
              "#0d0887"
             ],
             [
              0.1111111111111111,
              "#46039f"
             ],
             [
              0.2222222222222222,
              "#7201a8"
             ],
             [
              0.3333333333333333,
              "#9c179e"
             ],
             [
              0.4444444444444444,
              "#bd3786"
             ],
             [
              0.5555555555555556,
              "#d8576b"
             ],
             [
              0.6666666666666666,
              "#ed7953"
             ],
             [
              0.7777777777777778,
              "#fb9f3a"
             ],
             [
              0.8888888888888888,
              "#fdca26"
             ],
             [
              1,
              "#f0f921"
             ]
            ],
            "type": "heatmapgl"
           }
          ],
          "histogram": [
           {
            "marker": {
             "pattern": {
              "fillmode": "overlay",
              "size": 10,
              "solidity": 0.2
             }
            },
            "type": "histogram"
           }
          ],
          "histogram2d": [
           {
            "colorbar": {
             "outlinewidth": 0,
             "ticks": ""
            },
            "colorscale": [
             [
              0,
              "#0d0887"
             ],
             [
              0.1111111111111111,
              "#46039f"
             ],
             [
              0.2222222222222222,
              "#7201a8"
             ],
             [
              0.3333333333333333,
              "#9c179e"
             ],
             [
              0.4444444444444444,
              "#bd3786"
             ],
             [
              0.5555555555555556,
              "#d8576b"
             ],
             [
              0.6666666666666666,
              "#ed7953"
             ],
             [
              0.7777777777777778,
              "#fb9f3a"
             ],
             [
              0.8888888888888888,
              "#fdca26"
             ],
             [
              1,
              "#f0f921"
             ]
            ],
            "type": "histogram2d"
           }
          ],
          "histogram2dcontour": [
           {
            "colorbar": {
             "outlinewidth": 0,
             "ticks": ""
            },
            "colorscale": [
             [
              0,
              "#0d0887"
             ],
             [
              0.1111111111111111,
              "#46039f"
             ],
             [
              0.2222222222222222,
              "#7201a8"
             ],
             [
              0.3333333333333333,
              "#9c179e"
             ],
             [
              0.4444444444444444,
              "#bd3786"
             ],
             [
              0.5555555555555556,
              "#d8576b"
             ],
             [
              0.6666666666666666,
              "#ed7953"
             ],
             [
              0.7777777777777778,
              "#fb9f3a"
             ],
             [
              0.8888888888888888,
              "#fdca26"
             ],
             [
              1,
              "#f0f921"
             ]
            ],
            "type": "histogram2dcontour"
           }
          ],
          "mesh3d": [
           {
            "colorbar": {
             "outlinewidth": 0,
             "ticks": ""
            },
            "type": "mesh3d"
           }
          ],
          "parcoords": [
           {
            "line": {
             "colorbar": {
              "outlinewidth": 0,
              "ticks": ""
             }
            },
            "type": "parcoords"
           }
          ],
          "pie": [
           {
            "automargin": true,
            "type": "pie"
           }
          ],
          "scatter": [
           {
            "fillpattern": {
             "fillmode": "overlay",
             "size": 10,
             "solidity": 0.2
            },
            "type": "scatter"
           }
          ],
          "scatter3d": [
           {
            "line": {
             "colorbar": {
              "outlinewidth": 0,
              "ticks": ""
             }
            },
            "marker": {
             "colorbar": {
              "outlinewidth": 0,
              "ticks": ""
             }
            },
            "type": "scatter3d"
           }
          ],
          "scattercarpet": [
           {
            "marker": {
             "colorbar": {
              "outlinewidth": 0,
              "ticks": ""
             }
            },
            "type": "scattercarpet"
           }
          ],
          "scattergeo": [
           {
            "marker": {
             "colorbar": {
              "outlinewidth": 0,
              "ticks": ""
             }
            },
            "type": "scattergeo"
           }
          ],
          "scattergl": [
           {
            "marker": {
             "colorbar": {
              "outlinewidth": 0,
              "ticks": ""
             }
            },
            "type": "scattergl"
           }
          ],
          "scattermapbox": [
           {
            "marker": {
             "colorbar": {
              "outlinewidth": 0,
              "ticks": ""
             }
            },
            "type": "scattermapbox"
           }
          ],
          "scatterpolar": [
           {
            "marker": {
             "colorbar": {
              "outlinewidth": 0,
              "ticks": ""
             }
            },
            "type": "scatterpolar"
           }
          ],
          "scatterpolargl": [
           {
            "marker": {
             "colorbar": {
              "outlinewidth": 0,
              "ticks": ""
             }
            },
            "type": "scatterpolargl"
           }
          ],
          "scatterternary": [
           {
            "marker": {
             "colorbar": {
              "outlinewidth": 0,
              "ticks": ""
             }
            },
            "type": "scatterternary"
           }
          ],
          "surface": [
           {
            "colorbar": {
             "outlinewidth": 0,
             "ticks": ""
            },
            "colorscale": [
             [
              0,
              "#0d0887"
             ],
             [
              0.1111111111111111,
              "#46039f"
             ],
             [
              0.2222222222222222,
              "#7201a8"
             ],
             [
              0.3333333333333333,
              "#9c179e"
             ],
             [
              0.4444444444444444,
              "#bd3786"
             ],
             [
              0.5555555555555556,
              "#d8576b"
             ],
             [
              0.6666666666666666,
              "#ed7953"
             ],
             [
              0.7777777777777778,
              "#fb9f3a"
             ],
             [
              0.8888888888888888,
              "#fdca26"
             ],
             [
              1,
              "#f0f921"
             ]
            ],
            "type": "surface"
           }
          ],
          "table": [
           {
            "cells": {
             "fill": {
              "color": "#EBF0F8"
             },
             "line": {
              "color": "white"
             }
            },
            "header": {
             "fill": {
              "color": "#C8D4E3"
             },
             "line": {
              "color": "white"
             }
            },
            "type": "table"
           }
          ]
         },
         "layout": {
          "annotationdefaults": {
           "arrowcolor": "#2a3f5f",
           "arrowhead": 0,
           "arrowwidth": 1
          },
          "autotypenumbers": "strict",
          "coloraxis": {
           "colorbar": {
            "outlinewidth": 0,
            "ticks": ""
           }
          },
          "colorscale": {
           "diverging": [
            [
             0,
             "#8e0152"
            ],
            [
             0.1,
             "#c51b7d"
            ],
            [
             0.2,
             "#de77ae"
            ],
            [
             0.3,
             "#f1b6da"
            ],
            [
             0.4,
             "#fde0ef"
            ],
            [
             0.5,
             "#f7f7f7"
            ],
            [
             0.6,
             "#e6f5d0"
            ],
            [
             0.7,
             "#b8e186"
            ],
            [
             0.8,
             "#7fbc41"
            ],
            [
             0.9,
             "#4d9221"
            ],
            [
             1,
             "#276419"
            ]
           ],
           "sequential": [
            [
             0,
             "#0d0887"
            ],
            [
             0.1111111111111111,
             "#46039f"
            ],
            [
             0.2222222222222222,
             "#7201a8"
            ],
            [
             0.3333333333333333,
             "#9c179e"
            ],
            [
             0.4444444444444444,
             "#bd3786"
            ],
            [
             0.5555555555555556,
             "#d8576b"
            ],
            [
             0.6666666666666666,
             "#ed7953"
            ],
            [
             0.7777777777777778,
             "#fb9f3a"
            ],
            [
             0.8888888888888888,
             "#fdca26"
            ],
            [
             1,
             "#f0f921"
            ]
           ],
           "sequentialminus": [
            [
             0,
             "#0d0887"
            ],
            [
             0.1111111111111111,
             "#46039f"
            ],
            [
             0.2222222222222222,
             "#7201a8"
            ],
            [
             0.3333333333333333,
             "#9c179e"
            ],
            [
             0.4444444444444444,
             "#bd3786"
            ],
            [
             0.5555555555555556,
             "#d8576b"
            ],
            [
             0.6666666666666666,
             "#ed7953"
            ],
            [
             0.7777777777777778,
             "#fb9f3a"
            ],
            [
             0.8888888888888888,
             "#fdca26"
            ],
            [
             1,
             "#f0f921"
            ]
           ]
          },
          "colorway": [
           "#636efa",
           "#EF553B",
           "#00cc96",
           "#ab63fa",
           "#FFA15A",
           "#19d3f3",
           "#FF6692",
           "#B6E880",
           "#FF97FF",
           "#FECB52"
          ],
          "font": {
           "color": "#2a3f5f"
          },
          "geo": {
           "bgcolor": "white",
           "lakecolor": "white",
           "landcolor": "#E5ECF6",
           "showlakes": true,
           "showland": true,
           "subunitcolor": "white"
          },
          "hoverlabel": {
           "align": "left"
          },
          "hovermode": "closest",
          "mapbox": {
           "style": "light"
          },
          "paper_bgcolor": "white",
          "plot_bgcolor": "#E5ECF6",
          "polar": {
           "angularaxis": {
            "gridcolor": "white",
            "linecolor": "white",
            "ticks": ""
           },
           "bgcolor": "#E5ECF6",
           "radialaxis": {
            "gridcolor": "white",
            "linecolor": "white",
            "ticks": ""
           }
          },
          "scene": {
           "xaxis": {
            "backgroundcolor": "#E5ECF6",
            "gridcolor": "white",
            "gridwidth": 2,
            "linecolor": "white",
            "showbackground": true,
            "ticks": "",
            "zerolinecolor": "white"
           },
           "yaxis": {
            "backgroundcolor": "#E5ECF6",
            "gridcolor": "white",
            "gridwidth": 2,
            "linecolor": "white",
            "showbackground": true,
            "ticks": "",
            "zerolinecolor": "white"
           },
           "zaxis": {
            "backgroundcolor": "#E5ECF6",
            "gridcolor": "white",
            "gridwidth": 2,
            "linecolor": "white",
            "showbackground": true,
            "ticks": "",
            "zerolinecolor": "white"
           }
          },
          "shapedefaults": {
           "line": {
            "color": "#2a3f5f"
           }
          },
          "ternary": {
           "aaxis": {
            "gridcolor": "white",
            "linecolor": "white",
            "ticks": ""
           },
           "baxis": {
            "gridcolor": "white",
            "linecolor": "white",
            "ticks": ""
           },
           "bgcolor": "#E5ECF6",
           "caxis": {
            "gridcolor": "white",
            "linecolor": "white",
            "ticks": ""
           }
          },
          "title": {
           "x": 0.05
          },
          "xaxis": {
           "automargin": true,
           "gridcolor": "white",
           "linecolor": "white",
           "ticks": "",
           "title": {
            "standoff": 15
           },
           "zerolinecolor": "white",
           "zerolinewidth": 2
          },
          "yaxis": {
           "automargin": true,
           "gridcolor": "white",
           "linecolor": "white",
           "ticks": "",
           "title": {
            "standoff": 15
           },
           "zerolinecolor": "white",
           "zerolinewidth": 2
          }
         }
        },
        "title": {
         "text": "Slice Plot"
        },
        "width": 2700,
        "xaxis": {
         "anchor": "y",
         "domain": [
          0,
          0.09135802469135802
         ],
         "title": {
          "text": "colsample_bytree"
         }
        },
        "xaxis2": {
         "anchor": "y2",
         "categoryarray": [
          null,
          "first"
         ],
         "categoryorder": "array",
         "domain": [
          0.11358024691358025,
          0.20493827160493827
         ],
         "title": {
          "text": "drop"
         },
         "type": "category"
        },
        "xaxis3": {
         "anchor": "y3",
         "domain": [
          0.2271604938271605,
          0.31851851851851853
         ],
         "title": {
          "text": "gamma"
         }
        },
        "xaxis4": {
         "anchor": "y4",
         "domain": [
          0.34074074074074073,
          0.43209876543209874
         ],
         "title": {
          "text": "learning_rate"
         }
        },
        "xaxis5": {
         "anchor": "y5",
         "domain": [
          0.454320987654321,
          0.5456790123456791
         ],
         "title": {
          "text": "max_depth"
         }
        },
        "xaxis6": {
         "anchor": "y6",
         "domain": [
          0.5679012345679012,
          0.6592592592592592
         ],
         "title": {
          "text": "n_estimators"
         }
        },
        "xaxis7": {
         "anchor": "y7",
         "domain": [
          0.6814814814814815,
          0.7728395061728395
         ],
         "title": {
          "text": "random_state"
         }
        },
        "xaxis8": {
         "anchor": "y8",
         "domain": [
          0.7950617283950617,
          0.8864197530864197
         ],
         "title": {
          "text": "reg_alpha"
         },
         "type": "log"
        },
        "xaxis9": {
         "anchor": "y9",
         "domain": [
          0.908641975308642,
          1
         ],
         "title": {
          "text": "subsample"
         }
        },
        "yaxis": {
         "anchor": "x",
         "domain": [
          0,
          1
         ],
         "title": {
          "text": "Objective Value"
         }
        },
        "yaxis2": {
         "anchor": "x2",
         "domain": [
          0,
          1
         ],
         "matches": "y",
         "showticklabels": false
        },
        "yaxis3": {
         "anchor": "x3",
         "domain": [
          0,
          1
         ],
         "matches": "y",
         "showticklabels": false
        },
        "yaxis4": {
         "anchor": "x4",
         "domain": [
          0,
          1
         ],
         "matches": "y",
         "showticklabels": false
        },
        "yaxis5": {
         "anchor": "x5",
         "domain": [
          0,
          1
         ],
         "matches": "y",
         "showticklabels": false
        },
        "yaxis6": {
         "anchor": "x6",
         "domain": [
          0,
          1
         ],
         "matches": "y",
         "showticklabels": false
        },
        "yaxis7": {
         "anchor": "x7",
         "domain": [
          0,
          1
         ],
         "matches": "y",
         "showticklabels": false
        },
        "yaxis8": {
         "anchor": "x8",
         "domain": [
          0,
          1
         ],
         "matches": "y",
         "showticklabels": false
        },
        "yaxis9": {
         "anchor": "x9",
         "domain": [
          0,
          1
         ],
         "matches": "y",
         "showticklabels": false
        }
       }
      }
     },
     "metadata": {},
     "output_type": "display_data"
    }
   ],
   "source": [
    "optuna.visualization.plot_slice(study)"
   ]
  },
  {
   "cell_type": "code",
   "execution_count": 32,
   "metadata": {},
   "outputs": [
    {
     "data": {
      "application/vnd.plotly.v1+json": {
       "config": {
        "plotlyServerURL": "https://plot.ly"
       },
       "data": [
        {
         "cliponaxis": false,
         "hovertemplate": [
          "random_state (IntDistribution): 0.0030735173948973557<extra></extra>",
          "n_estimators (IntDistribution): 0.0033312396871793314<extra></extra>",
          "drop (CategoricalDistribution): 0.004273292638759054<extra></extra>",
          "gamma (IntDistribution): 0.004753093755816353<extra></extra>",
          "reg_alpha (FloatDistribution): 0.005143319403301061<extra></extra>",
          "subsample (FloatDistribution): 0.04260913496098829<extra></extra>",
          "max_depth (IntDistribution): 0.04547334762555319<extra></extra>",
          "colsample_bytree (FloatDistribution): 0.07440515354201771<extra></extra>",
          "learning_rate (FloatDistribution): 0.8169379009914877<extra></extra>"
         ],
         "name": "Objective Value",
         "orientation": "h",
         "text": [
          "<0.01",
          "<0.01",
          "<0.01",
          "<0.01",
          "<0.01",
          "0.04",
          "0.05",
          "0.07",
          "0.82"
         ],
         "textposition": "outside",
         "type": "bar",
         "x": [
          0.0030735173948973557,
          0.0033312396871793314,
          0.004273292638759054,
          0.004753093755816353,
          0.005143319403301061,
          0.04260913496098829,
          0.04547334762555319,
          0.07440515354201771,
          0.8169379009914877
         ],
         "y": [
          "random_state",
          "n_estimators",
          "drop",
          "gamma",
          "reg_alpha",
          "subsample",
          "max_depth",
          "colsample_bytree",
          "learning_rate"
         ]
        }
       ],
       "layout": {
        "template": {
         "data": {
          "bar": [
           {
            "error_x": {
             "color": "#2a3f5f"
            },
            "error_y": {
             "color": "#2a3f5f"
            },
            "marker": {
             "line": {
              "color": "#E5ECF6",
              "width": 0.5
             },
             "pattern": {
              "fillmode": "overlay",
              "size": 10,
              "solidity": 0.2
             }
            },
            "type": "bar"
           }
          ],
          "barpolar": [
           {
            "marker": {
             "line": {
              "color": "#E5ECF6",
              "width": 0.5
             },
             "pattern": {
              "fillmode": "overlay",
              "size": 10,
              "solidity": 0.2
             }
            },
            "type": "barpolar"
           }
          ],
          "carpet": [
           {
            "aaxis": {
             "endlinecolor": "#2a3f5f",
             "gridcolor": "white",
             "linecolor": "white",
             "minorgridcolor": "white",
             "startlinecolor": "#2a3f5f"
            },
            "baxis": {
             "endlinecolor": "#2a3f5f",
             "gridcolor": "white",
             "linecolor": "white",
             "minorgridcolor": "white",
             "startlinecolor": "#2a3f5f"
            },
            "type": "carpet"
           }
          ],
          "choropleth": [
           {
            "colorbar": {
             "outlinewidth": 0,
             "ticks": ""
            },
            "type": "choropleth"
           }
          ],
          "contour": [
           {
            "colorbar": {
             "outlinewidth": 0,
             "ticks": ""
            },
            "colorscale": [
             [
              0,
              "#0d0887"
             ],
             [
              0.1111111111111111,
              "#46039f"
             ],
             [
              0.2222222222222222,
              "#7201a8"
             ],
             [
              0.3333333333333333,
              "#9c179e"
             ],
             [
              0.4444444444444444,
              "#bd3786"
             ],
             [
              0.5555555555555556,
              "#d8576b"
             ],
             [
              0.6666666666666666,
              "#ed7953"
             ],
             [
              0.7777777777777778,
              "#fb9f3a"
             ],
             [
              0.8888888888888888,
              "#fdca26"
             ],
             [
              1,
              "#f0f921"
             ]
            ],
            "type": "contour"
           }
          ],
          "contourcarpet": [
           {
            "colorbar": {
             "outlinewidth": 0,
             "ticks": ""
            },
            "type": "contourcarpet"
           }
          ],
          "heatmap": [
           {
            "colorbar": {
             "outlinewidth": 0,
             "ticks": ""
            },
            "colorscale": [
             [
              0,
              "#0d0887"
             ],
             [
              0.1111111111111111,
              "#46039f"
             ],
             [
              0.2222222222222222,
              "#7201a8"
             ],
             [
              0.3333333333333333,
              "#9c179e"
             ],
             [
              0.4444444444444444,
              "#bd3786"
             ],
             [
              0.5555555555555556,
              "#d8576b"
             ],
             [
              0.6666666666666666,
              "#ed7953"
             ],
             [
              0.7777777777777778,
              "#fb9f3a"
             ],
             [
              0.8888888888888888,
              "#fdca26"
             ],
             [
              1,
              "#f0f921"
             ]
            ],
            "type": "heatmap"
           }
          ],
          "heatmapgl": [
           {
            "colorbar": {
             "outlinewidth": 0,
             "ticks": ""
            },
            "colorscale": [
             [
              0,
              "#0d0887"
             ],
             [
              0.1111111111111111,
              "#46039f"
             ],
             [
              0.2222222222222222,
              "#7201a8"
             ],
             [
              0.3333333333333333,
              "#9c179e"
             ],
             [
              0.4444444444444444,
              "#bd3786"
             ],
             [
              0.5555555555555556,
              "#d8576b"
             ],
             [
              0.6666666666666666,
              "#ed7953"
             ],
             [
              0.7777777777777778,
              "#fb9f3a"
             ],
             [
              0.8888888888888888,
              "#fdca26"
             ],
             [
              1,
              "#f0f921"
             ]
            ],
            "type": "heatmapgl"
           }
          ],
          "histogram": [
           {
            "marker": {
             "pattern": {
              "fillmode": "overlay",
              "size": 10,
              "solidity": 0.2
             }
            },
            "type": "histogram"
           }
          ],
          "histogram2d": [
           {
            "colorbar": {
             "outlinewidth": 0,
             "ticks": ""
            },
            "colorscale": [
             [
              0,
              "#0d0887"
             ],
             [
              0.1111111111111111,
              "#46039f"
             ],
             [
              0.2222222222222222,
              "#7201a8"
             ],
             [
              0.3333333333333333,
              "#9c179e"
             ],
             [
              0.4444444444444444,
              "#bd3786"
             ],
             [
              0.5555555555555556,
              "#d8576b"
             ],
             [
              0.6666666666666666,
              "#ed7953"
             ],
             [
              0.7777777777777778,
              "#fb9f3a"
             ],
             [
              0.8888888888888888,
              "#fdca26"
             ],
             [
              1,
              "#f0f921"
             ]
            ],
            "type": "histogram2d"
           }
          ],
          "histogram2dcontour": [
           {
            "colorbar": {
             "outlinewidth": 0,
             "ticks": ""
            },
            "colorscale": [
             [
              0,
              "#0d0887"
             ],
             [
              0.1111111111111111,
              "#46039f"
             ],
             [
              0.2222222222222222,
              "#7201a8"
             ],
             [
              0.3333333333333333,
              "#9c179e"
             ],
             [
              0.4444444444444444,
              "#bd3786"
             ],
             [
              0.5555555555555556,
              "#d8576b"
             ],
             [
              0.6666666666666666,
              "#ed7953"
             ],
             [
              0.7777777777777778,
              "#fb9f3a"
             ],
             [
              0.8888888888888888,
              "#fdca26"
             ],
             [
              1,
              "#f0f921"
             ]
            ],
            "type": "histogram2dcontour"
           }
          ],
          "mesh3d": [
           {
            "colorbar": {
             "outlinewidth": 0,
             "ticks": ""
            },
            "type": "mesh3d"
           }
          ],
          "parcoords": [
           {
            "line": {
             "colorbar": {
              "outlinewidth": 0,
              "ticks": ""
             }
            },
            "type": "parcoords"
           }
          ],
          "pie": [
           {
            "automargin": true,
            "type": "pie"
           }
          ],
          "scatter": [
           {
            "fillpattern": {
             "fillmode": "overlay",
             "size": 10,
             "solidity": 0.2
            },
            "type": "scatter"
           }
          ],
          "scatter3d": [
           {
            "line": {
             "colorbar": {
              "outlinewidth": 0,
              "ticks": ""
             }
            },
            "marker": {
             "colorbar": {
              "outlinewidth": 0,
              "ticks": ""
             }
            },
            "type": "scatter3d"
           }
          ],
          "scattercarpet": [
           {
            "marker": {
             "colorbar": {
              "outlinewidth": 0,
              "ticks": ""
             }
            },
            "type": "scattercarpet"
           }
          ],
          "scattergeo": [
           {
            "marker": {
             "colorbar": {
              "outlinewidth": 0,
              "ticks": ""
             }
            },
            "type": "scattergeo"
           }
          ],
          "scattergl": [
           {
            "marker": {
             "colorbar": {
              "outlinewidth": 0,
              "ticks": ""
             }
            },
            "type": "scattergl"
           }
          ],
          "scattermapbox": [
           {
            "marker": {
             "colorbar": {
              "outlinewidth": 0,
              "ticks": ""
             }
            },
            "type": "scattermapbox"
           }
          ],
          "scatterpolar": [
           {
            "marker": {
             "colorbar": {
              "outlinewidth": 0,
              "ticks": ""
             }
            },
            "type": "scatterpolar"
           }
          ],
          "scatterpolargl": [
           {
            "marker": {
             "colorbar": {
              "outlinewidth": 0,
              "ticks": ""
             }
            },
            "type": "scatterpolargl"
           }
          ],
          "scatterternary": [
           {
            "marker": {
             "colorbar": {
              "outlinewidth": 0,
              "ticks": ""
             }
            },
            "type": "scatterternary"
           }
          ],
          "surface": [
           {
            "colorbar": {
             "outlinewidth": 0,
             "ticks": ""
            },
            "colorscale": [
             [
              0,
              "#0d0887"
             ],
             [
              0.1111111111111111,
              "#46039f"
             ],
             [
              0.2222222222222222,
              "#7201a8"
             ],
             [
              0.3333333333333333,
              "#9c179e"
             ],
             [
              0.4444444444444444,
              "#bd3786"
             ],
             [
              0.5555555555555556,
              "#d8576b"
             ],
             [
              0.6666666666666666,
              "#ed7953"
             ],
             [
              0.7777777777777778,
              "#fb9f3a"
             ],
             [
              0.8888888888888888,
              "#fdca26"
             ],
             [
              1,
              "#f0f921"
             ]
            ],
            "type": "surface"
           }
          ],
          "table": [
           {
            "cells": {
             "fill": {
              "color": "#EBF0F8"
             },
             "line": {
              "color": "white"
             }
            },
            "header": {
             "fill": {
              "color": "#C8D4E3"
             },
             "line": {
              "color": "white"
             }
            },
            "type": "table"
           }
          ]
         },
         "layout": {
          "annotationdefaults": {
           "arrowcolor": "#2a3f5f",
           "arrowhead": 0,
           "arrowwidth": 1
          },
          "autotypenumbers": "strict",
          "coloraxis": {
           "colorbar": {
            "outlinewidth": 0,
            "ticks": ""
           }
          },
          "colorscale": {
           "diverging": [
            [
             0,
             "#8e0152"
            ],
            [
             0.1,
             "#c51b7d"
            ],
            [
             0.2,
             "#de77ae"
            ],
            [
             0.3,
             "#f1b6da"
            ],
            [
             0.4,
             "#fde0ef"
            ],
            [
             0.5,
             "#f7f7f7"
            ],
            [
             0.6,
             "#e6f5d0"
            ],
            [
             0.7,
             "#b8e186"
            ],
            [
             0.8,
             "#7fbc41"
            ],
            [
             0.9,
             "#4d9221"
            ],
            [
             1,
             "#276419"
            ]
           ],
           "sequential": [
            [
             0,
             "#0d0887"
            ],
            [
             0.1111111111111111,
             "#46039f"
            ],
            [
             0.2222222222222222,
             "#7201a8"
            ],
            [
             0.3333333333333333,
             "#9c179e"
            ],
            [
             0.4444444444444444,
             "#bd3786"
            ],
            [
             0.5555555555555556,
             "#d8576b"
            ],
            [
             0.6666666666666666,
             "#ed7953"
            ],
            [
             0.7777777777777778,
             "#fb9f3a"
            ],
            [
             0.8888888888888888,
             "#fdca26"
            ],
            [
             1,
             "#f0f921"
            ]
           ],
           "sequentialminus": [
            [
             0,
             "#0d0887"
            ],
            [
             0.1111111111111111,
             "#46039f"
            ],
            [
             0.2222222222222222,
             "#7201a8"
            ],
            [
             0.3333333333333333,
             "#9c179e"
            ],
            [
             0.4444444444444444,
             "#bd3786"
            ],
            [
             0.5555555555555556,
             "#d8576b"
            ],
            [
             0.6666666666666666,
             "#ed7953"
            ],
            [
             0.7777777777777778,
             "#fb9f3a"
            ],
            [
             0.8888888888888888,
             "#fdca26"
            ],
            [
             1,
             "#f0f921"
            ]
           ]
          },
          "colorway": [
           "#636efa",
           "#EF553B",
           "#00cc96",
           "#ab63fa",
           "#FFA15A",
           "#19d3f3",
           "#FF6692",
           "#B6E880",
           "#FF97FF",
           "#FECB52"
          ],
          "font": {
           "color": "#2a3f5f"
          },
          "geo": {
           "bgcolor": "white",
           "lakecolor": "white",
           "landcolor": "#E5ECF6",
           "showlakes": true,
           "showland": true,
           "subunitcolor": "white"
          },
          "hoverlabel": {
           "align": "left"
          },
          "hovermode": "closest",
          "mapbox": {
           "style": "light"
          },
          "paper_bgcolor": "white",
          "plot_bgcolor": "#E5ECF6",
          "polar": {
           "angularaxis": {
            "gridcolor": "white",
            "linecolor": "white",
            "ticks": ""
           },
           "bgcolor": "#E5ECF6",
           "radialaxis": {
            "gridcolor": "white",
            "linecolor": "white",
            "ticks": ""
           }
          },
          "scene": {
           "xaxis": {
            "backgroundcolor": "#E5ECF6",
            "gridcolor": "white",
            "gridwidth": 2,
            "linecolor": "white",
            "showbackground": true,
            "ticks": "",
            "zerolinecolor": "white"
           },
           "yaxis": {
            "backgroundcolor": "#E5ECF6",
            "gridcolor": "white",
            "gridwidth": 2,
            "linecolor": "white",
            "showbackground": true,
            "ticks": "",
            "zerolinecolor": "white"
           },
           "zaxis": {
            "backgroundcolor": "#E5ECF6",
            "gridcolor": "white",
            "gridwidth": 2,
            "linecolor": "white",
            "showbackground": true,
            "ticks": "",
            "zerolinecolor": "white"
           }
          },
          "shapedefaults": {
           "line": {
            "color": "#2a3f5f"
           }
          },
          "ternary": {
           "aaxis": {
            "gridcolor": "white",
            "linecolor": "white",
            "ticks": ""
           },
           "baxis": {
            "gridcolor": "white",
            "linecolor": "white",
            "ticks": ""
           },
           "bgcolor": "#E5ECF6",
           "caxis": {
            "gridcolor": "white",
            "linecolor": "white",
            "ticks": ""
           }
          },
          "title": {
           "x": 0.05
          },
          "xaxis": {
           "automargin": true,
           "gridcolor": "white",
           "linecolor": "white",
           "ticks": "",
           "title": {
            "standoff": 15
           },
           "zerolinecolor": "white",
           "zerolinewidth": 2
          },
          "yaxis": {
           "automargin": true,
           "gridcolor": "white",
           "linecolor": "white",
           "ticks": "",
           "title": {
            "standoff": 15
           },
           "zerolinecolor": "white",
           "zerolinewidth": 2
          }
         }
        },
        "title": {
         "text": "Hyperparameter Importances"
        },
        "xaxis": {
         "title": {
          "text": "Hyperparameter Importance"
         }
        },
        "yaxis": {
         "title": {
          "text": "Hyperparameter"
         }
        }
       }
      }
     },
     "metadata": {},
     "output_type": "display_data"
    }
   ],
   "source": [
    "optuna.visualization.plot_param_importances(study)"
   ]
  }
 ],
 "metadata": {
  "kernelspec": {
   "display_name": "datascience-purwadhika",
   "language": "python",
   "name": "python3"
  },
  "language_info": {
   "codemirror_mode": {
    "name": "ipython",
    "version": 3
   },
   "file_extension": ".py",
   "mimetype": "text/x-python",
   "name": "python",
   "nbconvert_exporter": "python",
   "pygments_lexer": "ipython3",
   "version": "3.12.5"
  }
 },
 "nbformat": 4,
 "nbformat_minor": 2
}
